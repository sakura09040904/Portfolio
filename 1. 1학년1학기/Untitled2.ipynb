{
 "cells": [
  {
   "cell_type": "code",
   "execution_count": null,
   "id": "03e79e05",
   "metadata": {},
   "outputs": [],
   "source": [
    "import numpy as np \n",
    "from tensorflow.keras.datasets import mnist \n",
    "from tensorflow.keras.models import Sequential   \n",
    "from tensorflow.keras.layers import Dense      \n",
    "from keras.utils import np_utils \n",
    "import matplotlib.pyplot as plt\n",
    "\n",
    "\n",
    "# 1. 학습 및 테스트데이터 준비\n",
    "(X_train, y_train), (X_test, y_test) = mnist.load_data()\n",
    "\n",
    "Y_train = np_utils.to_categorical(y_train)\n",
    "Y_test = np_utils.to_categorical(y_test)\n",
    "\n",
    "\n",
    "#print(y_train.shape)\n",
    "#print(Y_train.shape)\n",
    "\n",
    "L, W, H = X_train.shape\n",
    "X_train = X_train.reshape(-1, W * H)\n",
    "X_test = X_test.reshape(-1, W * H)\n",
    "\n",
    "X_train = X_train / 255.0   # 정규화\n",
    "X_test = X_test / 255.0     # 정규화 \n",
    "\n",
    "\n",
    "# 2. 분류 DNN 분류기 모델링 \n",
    "Nin = X_train.shape[1] #784\n",
    "Nh_l = [100, 50]\n",
    "Nout = 10   # number of class\n",
    " \n",
    "dnn_cls = Sequential()\n",
    "dnn_cls.add(Dense(Nh_l[0], activation='relu', input_shape=(Nin,)))\n",
    "dnn_cls.add(Dense(Nh_l[1], activation='relu'))\n",
    "dnn_cls.add(Dense(Nout,activation='softmax'))\n",
    "dnn_cls.compile(loss='categorical_crossentropy',optimizer='adam', metrics=['accuracy'])\n",
    "\n",
    "#dnn_cls.summary()\n",
    "\n",
    "\n",
    "# 3. Deep Neural Network 분류기 학습및 성능평가 ###############\n",
    "history = dnn_cls.fit(X_train, Y_train, epochs=10, batch_size=10, validation_split=0.2)          \n",
    "performace_test = dnn_cls.evaluate(X_test, Y_test, batch_size=10)       \n",
    "        \n",
    "print('Test Loss and Accuracy ->', performace_test)\n",
    "\n",
    "#plt.plot(history.history['loss'])\n",
    "plt.plot(history.history['accuracy'])\n",
    "plt.title('Model accuracy')\n",
    "plt.ylabel('Accuracy')\n",
    "plt.xlabel('Epoch')\n",
    "#plt.legend([ 'Loss'], loc='upper left')"
   ]
  }
 ],
 "metadata": {
  "kernelspec": {
   "display_name": "Python 3 (ipykernel)",
   "language": "python",
   "name": "python3"
  },
  "language_info": {
   "codemirror_mode": {
    "name": "ipython",
    "version": 3
   },
   "file_extension": ".py",
   "mimetype": "text/x-python",
   "name": "python",
   "nbconvert_exporter": "python",
   "pygments_lexer": "ipython3",
   "version": "3.9.7"
  }
 },
 "nbformat": 4,
 "nbformat_minor": 5
}
