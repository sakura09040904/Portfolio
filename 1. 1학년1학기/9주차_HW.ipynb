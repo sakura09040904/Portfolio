{
 "cells": [
  {
   "cell_type": "code",
   "execution_count": 1,
   "id": "5af54d7e",
   "metadata": {},
   "outputs": [
    {
     "name": "stdout",
     "output_type": "stream",
     "text": [
      "2\n",
      "(784,)\n",
      "(28, 28)\n"
     ]
    }
   ],
   "source": [
    "import sys, os\n",
    "sys.path.append(os.pardir)  # 부모 디렉터리의 파일을 가져올 수 있도록 설정\n",
    "import numpy as np\n",
    "from dataset.mnist import load_mnist\n",
    "from PIL import Image\n",
    "\n",
    "\n",
    "def img_show(img): # 이미지 출력 함수\n",
    "    pil_img = Image.fromarray(np.uint8(img))  # Array 형태의 정보를 이미지로 변환\n",
    "    pil_img.show() # 이미지를 출력\n",
    "\n",
    "# mnist 데이터를 가져와 1차원으로 Flatten. 정규화는 하지 않음    \n",
    "(x_train, t_train), (x_test, t_test) = load_mnist(flatten=True, normalize=False) \n",
    "\n",
    "img = x_train[109] #110번째 훈련 데이터를 가져옴\n",
    "label = t_train[109] #110번째 훈련 데이터의 레이블을 가져옴\n",
    "print(label) \n",
    "\n",
    "print(img.shape) # 1차원 형태로 flatten된 데이터의 Shape을 출력 (784,) \n",
    "img = img.reshape(28, 28) # 2차원 행렬로 변환\n",
    "print(img.shape) # 변환된 행렬의 Shape을 출력 \n",
    "\n",
    "img_show(img) # 이미지 출력 함수 불러오기 (이미지 출력)"
   ]
  },
  {
   "cell_type": "code",
   "execution_count": null,
   "id": "0eeb3d79",
   "metadata": {},
   "outputs": [],
   "source": []
  }
 ],
 "metadata": {
  "kernelspec": {
   "display_name": "Python 3 (ipykernel)",
   "language": "python",
   "name": "python3"
  },
  "language_info": {
   "codemirror_mode": {
    "name": "ipython",
    "version": 3
   },
   "file_extension": ".py",
   "mimetype": "text/x-python",
   "name": "python",
   "nbconvert_exporter": "python",
   "pygments_lexer": "ipython3",
   "version": "3.9.7"
  }
 },
 "nbformat": 4,
 "nbformat_minor": 5
}
