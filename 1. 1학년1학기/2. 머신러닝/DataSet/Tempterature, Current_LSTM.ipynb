{
 "cells": [
  {
   "cell_type": "code",
   "execution_count": 1,
   "id": "2f4439e5",
   "metadata": {},
   "outputs": [],
   "source": [
    "import pandas as pd\n",
    "import numpy as np\n",
    "import os\n",
    "import glob\n",
    "import seaborn as sns\n",
    "import matplotlib.pyplot as plt\n",
    "import sklearn\n",
    "from sklearn.preprocessing import StandardScaler\n",
    "from sklearn.metrics import *"
   ]
  },
  {
   "cell_type": "code",
   "execution_count": 2,
   "id": "5e64ad59",
   "metadata": {},
   "outputs": [],
   "source": [
    "import keras\n",
    "import tensorflow\n",
    "from keras.models import Sequential, Model\n",
    "from keras.layers import Dense\n",
    "from keras.layers import LSTM\n",
    "from keras import backend as K\n",
    "from keras.layers import *\n",
    "from keras.optimizers import Adam"
   ]
  },
  {
   "cell_type": "code",
   "execution_count": 3,
   "id": "7f7e55be",
   "metadata": {
    "scrolled": true
   },
   "outputs": [
    {
     "data": {
      "text/plain": [
       "'C:\\\\Users\\\\kyj23\\\\Desktop\\\\my\\\\practice\\\\python'"
      ]
     },
     "execution_count": 3,
     "metadata": {},
     "output_type": "execute_result"
    }
   ],
   "source": [
    "os.getcwd()"
   ]
  },
  {
   "cell_type": "code",
   "execution_count": 4,
   "id": "e4766219",
   "metadata": {},
   "outputs": [
    {
     "data": {
      "text/plain": [
       "'C:\\\\Users\\\\kyj23\\\\Desktop\\\\my\\\\practice\\\\python\\\\data\\\\Dataset/라벨수정'"
      ]
     },
     "execution_count": 4,
     "metadata": {},
     "output_type": "execute_result"
    }
   ],
   "source": [
    "new_path=os.path.join(os.getcwd(),'data')\n",
    "\n",
    "pathName=os.path.join(new_path,'Dataset/라벨수정')\n",
    "pathName"
   ]
  },
  {
   "cell_type": "code",
   "execution_count": 5,
   "id": "bc6c7ef9",
   "metadata": {},
   "outputs": [
    {
     "data": {
      "text/plain": [
       "['C:\\\\Users\\\\kyj23\\\\Desktop\\\\my\\\\practice\\\\python\\\\data\\\\Dataset/라벨수정\\\\Error Lot list.csv',\n",
       " 'C:\\\\Users\\\\kyj23\\\\Desktop\\\\my\\\\practice\\\\python\\\\data\\\\Dataset/라벨수정\\\\kemp-abh-sensor-2022.09.06_labeling.csv',\n",
       " 'C:\\\\Users\\\\kyj23\\\\Desktop\\\\my\\\\practice\\\\python\\\\data\\\\Dataset/라벨수정\\\\kemp-abh-sensor-2022.09.07_labeling.csv',\n",
       " 'C:\\\\Users\\\\kyj23\\\\Desktop\\\\my\\\\practice\\\\python\\\\data\\\\Dataset/라벨수정\\\\kemp-abh-sensor-2022.09.08_labeling.csv',\n",
       " 'C:\\\\Users\\\\kyj23\\\\Desktop\\\\my\\\\practice\\\\python\\\\data\\\\Dataset/라벨수정\\\\kemp-abh-sensor-2022.09.09_labeling.csv',\n",
       " 'C:\\\\Users\\\\kyj23\\\\Desktop\\\\my\\\\practice\\\\python\\\\data\\\\Dataset/라벨수정\\\\kemp-abh-sensor-2022.09.10_labeling.csv',\n",
       " 'C:\\\\Users\\\\kyj23\\\\Desktop\\\\my\\\\practice\\\\python\\\\data\\\\Dataset/라벨수정\\\\kemp-abh-sensor-2022.09.13_labeling.csv',\n",
       " 'C:\\\\Users\\\\kyj23\\\\Desktop\\\\my\\\\practice\\\\python\\\\data\\\\Dataset/라벨수정\\\\kemp-abh-sensor-2022.09.14_labeling.csv',\n",
       " 'C:\\\\Users\\\\kyj23\\\\Desktop\\\\my\\\\practice\\\\python\\\\data\\\\Dataset/라벨수정\\\\kemp-abh-sensor-2022.09.15_labeling.csv',\n",
       " 'C:\\\\Users\\\\kyj23\\\\Desktop\\\\my\\\\practice\\\\python\\\\data\\\\Dataset/라벨수정\\\\kemp-abh-sensor-2022.09.16_labeling.csv',\n",
       " 'C:\\\\Users\\\\kyj23\\\\Desktop\\\\my\\\\practice\\\\python\\\\data\\\\Dataset/라벨수정\\\\kemp-abh-sensor-2022.09.17_labeling.csv',\n",
       " 'C:\\\\Users\\\\kyj23\\\\Desktop\\\\my\\\\practice\\\\python\\\\data\\\\Dataset/라벨수정\\\\kemp-abh-sensor-2022.09.23_labeling.csv',\n",
       " 'C:\\\\Users\\\\kyj23\\\\Desktop\\\\my\\\\practice\\\\python\\\\data\\\\Dataset/라벨수정\\\\kemp-abh-sensor-2022.09.24_labeling.csv',\n",
       " 'C:\\\\Users\\\\kyj23\\\\Desktop\\\\my\\\\practice\\\\python\\\\data\\\\Dataset/라벨수정\\\\kemp-abh-sensor-2022.09.27_labeling.csv',\n",
       " 'C:\\\\Users\\\\kyj23\\\\Desktop\\\\my\\\\practice\\\\python\\\\data\\\\Dataset/라벨수정\\\\kemp-abh-sensor-2022.09.28_labeling.csv',\n",
       " 'C:\\\\Users\\\\kyj23\\\\Desktop\\\\my\\\\practice\\\\python\\\\data\\\\Dataset/라벨수정\\\\kemp-abh-sensor-2022.09.29_labeling.csv',\n",
       " 'C:\\\\Users\\\\kyj23\\\\Desktop\\\\my\\\\practice\\\\python\\\\data\\\\Dataset/라벨수정\\\\kemp-abh-sensor-2022.09.30_labeling.csv',\n",
       " 'C:\\\\Users\\\\kyj23\\\\Desktop\\\\my\\\\practice\\\\python\\\\data\\\\Dataset/라벨수정\\\\kemp-abh-sensor-2022.10.01_labeling.csv',\n",
       " 'C:\\\\Users\\\\kyj23\\\\Desktop\\\\my\\\\practice\\\\python\\\\data\\\\Dataset/라벨수정\\\\kemp-abh-sensor-2022.10.05_labeling.csv',\n",
       " 'C:\\\\Users\\\\kyj23\\\\Desktop\\\\my\\\\practice\\\\python\\\\data\\\\Dataset/라벨수정\\\\kemp-abh-sensor-2022.10.06_labeling.csv',\n",
       " 'C:\\\\Users\\\\kyj23\\\\Desktop\\\\my\\\\practice\\\\python\\\\data\\\\Dataset/라벨수정\\\\kemp-abh-sensor-2022.10.07_labeling.csv',\n",
       " 'C:\\\\Users\\\\kyj23\\\\Desktop\\\\my\\\\practice\\\\python\\\\data\\\\Dataset/라벨수정\\\\kemp-abh-sensor-2022.10.08_labeling.csv',\n",
       " 'C:\\\\Users\\\\kyj23\\\\Desktop\\\\my\\\\practice\\\\python\\\\data\\\\Dataset/라벨수정\\\\kemp-abh-sensor-2022.10.12_labeling.csv',\n",
       " 'C:\\\\Users\\\\kyj23\\\\Desktop\\\\my\\\\practice\\\\python\\\\data\\\\Dataset/라벨수정\\\\kemp-abh-sensor-2022.10.13_labeling.csv',\n",
       " 'C:\\\\Users\\\\kyj23\\\\Desktop\\\\my\\\\practice\\\\python\\\\data\\\\Dataset/라벨수정\\\\kemp-abh-sensor-2022.10.14_labeling.csv',\n",
       " 'C:\\\\Users\\\\kyj23\\\\Desktop\\\\my\\\\practice\\\\python\\\\data\\\\Dataset/라벨수정\\\\kemp-abh-sensor-2022.10.15_labeling.csv',\n",
       " 'C:\\\\Users\\\\kyj23\\\\Desktop\\\\my\\\\practice\\\\python\\\\data\\\\Dataset/라벨수정\\\\kemp-abh-sensor-2022.10.18_labeling.csv',\n",
       " 'C:\\\\Users\\\\kyj23\\\\Desktop\\\\my\\\\practice\\\\python\\\\data\\\\Dataset/라벨수정\\\\kemp-abh-sensor-2022.10.19_labeling.csv',\n",
       " 'C:\\\\Users\\\\kyj23\\\\Desktop\\\\my\\\\practice\\\\python\\\\data\\\\Dataset/라벨수정\\\\kemp-abh-sensor-2022.10.20_labeling.csv',\n",
       " 'C:\\\\Users\\\\kyj23\\\\Desktop\\\\my\\\\practice\\\\python\\\\data\\\\Dataset/라벨수정\\\\kemp-abh-sensor-2022.10.21_labeling.csv',\n",
       " 'C:\\\\Users\\\\kyj23\\\\Desktop\\\\my\\\\practice\\\\python\\\\data\\\\Dataset/라벨수정\\\\kemp-abh-sensor-2022.10.22_labeling.csv',\n",
       " 'C:\\\\Users\\\\kyj23\\\\Desktop\\\\my\\\\practice\\\\python\\\\data\\\\Dataset/라벨수정\\\\kemp-abh-sensor-2022.10.25_labeling.csv',\n",
       " 'C:\\\\Users\\\\kyj23\\\\Desktop\\\\my\\\\practice\\\\python\\\\data\\\\Dataset/라벨수정\\\\kemp-abh-sensor-2022.10.26_labeling.csv',\n",
       " 'C:\\\\Users\\\\kyj23\\\\Desktop\\\\my\\\\practice\\\\python\\\\data\\\\Dataset/라벨수정\\\\kemp-abh-sensor-2022.10.27_labeling.csv']"
      ]
     },
     "execution_count": 5,
     "metadata": {},
     "output_type": "execute_result"
    }
   ],
   "source": [
    "glob.glob(pathName+\"/*\")"
   ]
  },
  {
   "cell_type": "code",
   "execution_count": 6,
   "id": "a9b12155",
   "metadata": {},
   "outputs": [
    {
     "data": {
      "text/html": [
       "<div>\n",
       "<style scoped>\n",
       "    .dataframe tbody tr th:only-of-type {\n",
       "        vertical-align: middle;\n",
       "    }\n",
       "\n",
       "    .dataframe tbody tr th {\n",
       "        vertical-align: top;\n",
       "    }\n",
       "\n",
       "    .dataframe thead th {\n",
       "        text-align: right;\n",
       "    }\n",
       "</style>\n",
       "<table border=\"1\" class=\"dataframe\">\n",
       "  <thead>\n",
       "    <tr style=\"text-align: right;\">\n",
       "      <th></th>\n",
       "      <th>Index</th>\n",
       "      <th>Process</th>\n",
       "      <th>Time</th>\n",
       "      <th>Temp</th>\n",
       "      <th>Current</th>\n",
       "      <th>Date</th>\n",
       "      <th>Label</th>\n",
       "      <th>Unnamed: 7</th>\n",
       "      <th>Unnamed: 8</th>\n",
       "    </tr>\n",
       "  </thead>\n",
       "  <tbody>\n",
       "    <tr>\n",
       "      <th>0</th>\n",
       "      <td>1</td>\n",
       "      <td>1</td>\n",
       "      <td>오후 4:24:03.0</td>\n",
       "      <td>75.139142</td>\n",
       "      <td>1.610</td>\n",
       "      <td>2022-09-06</td>\n",
       "      <td>0</td>\n",
       "      <td>NaN</td>\n",
       "      <td>NaN</td>\n",
       "    </tr>\n",
       "    <tr>\n",
       "      <th>1</th>\n",
       "      <td>2</td>\n",
       "      <td>1</td>\n",
       "      <td>오후 4:24:08.0</td>\n",
       "      <td>76.660421</td>\n",
       "      <td>1.530</td>\n",
       "      <td>2022-09-06</td>\n",
       "      <td>0</td>\n",
       "      <td>NaN</td>\n",
       "      <td>NaN</td>\n",
       "    </tr>\n",
       "    <tr>\n",
       "      <th>2</th>\n",
       "      <td>3</td>\n",
       "      <td>1</td>\n",
       "      <td>오후 4:24:13.0</td>\n",
       "      <td>77.177660</td>\n",
       "      <td>1.701</td>\n",
       "      <td>2022-09-06</td>\n",
       "      <td>0</td>\n",
       "      <td>NaN</td>\n",
       "      <td>NaN</td>\n",
       "    </tr>\n",
       "    <tr>\n",
       "      <th>3</th>\n",
       "      <td>4</td>\n",
       "      <td>1</td>\n",
       "      <td>오후 4:24:18.0</td>\n",
       "      <td>76.586434</td>\n",
       "      <td>1.736</td>\n",
       "      <td>2022-09-06</td>\n",
       "      <td>0</td>\n",
       "      <td>NaN</td>\n",
       "      <td>NaN</td>\n",
       "    </tr>\n",
       "    <tr>\n",
       "      <th>4</th>\n",
       "      <td>5</td>\n",
       "      <td>1</td>\n",
       "      <td>오후 4:24:23.0</td>\n",
       "      <td>77.877104</td>\n",
       "      <td>1.748</td>\n",
       "      <td>2022-09-06</td>\n",
       "      <td>0</td>\n",
       "      <td>NaN</td>\n",
       "      <td>NaN</td>\n",
       "    </tr>\n",
       "    <tr>\n",
       "      <th>...</th>\n",
       "      <td>...</td>\n",
       "      <td>...</td>\n",
       "      <td>...</td>\n",
       "      <td>...</td>\n",
       "      <td>...</td>\n",
       "      <td>...</td>\n",
       "      <td>...</td>\n",
       "      <td>...</td>\n",
       "      <td>...</td>\n",
       "    </tr>\n",
       "    <tr>\n",
       "      <th>51079</th>\n",
       "      <td>1544</td>\n",
       "      <td>43</td>\n",
       "      <td>오후 6:45:03.4</td>\n",
       "      <td>67.312474</td>\n",
       "      <td>1.560</td>\n",
       "      <td>2022-10-27</td>\n",
       "      <td>0</td>\n",
       "      <td>NaN</td>\n",
       "      <td>NaN</td>\n",
       "    </tr>\n",
       "    <tr>\n",
       "      <th>51080</th>\n",
       "      <td>1545</td>\n",
       "      <td>43</td>\n",
       "      <td>오후 6:45:08.4</td>\n",
       "      <td>65.533664</td>\n",
       "      <td>1.472</td>\n",
       "      <td>2022-10-27</td>\n",
       "      <td>0</td>\n",
       "      <td>NaN</td>\n",
       "      <td>NaN</td>\n",
       "    </tr>\n",
       "    <tr>\n",
       "      <th>51081</th>\n",
       "      <td>1546</td>\n",
       "      <td>43</td>\n",
       "      <td>오후 6:45:13.4</td>\n",
       "      <td>66.740424</td>\n",
       "      <td>1.523</td>\n",
       "      <td>2022-10-27</td>\n",
       "      <td>0</td>\n",
       "      <td>NaN</td>\n",
       "      <td>NaN</td>\n",
       "    </tr>\n",
       "    <tr>\n",
       "      <th>51082</th>\n",
       "      <td>1547</td>\n",
       "      <td>43</td>\n",
       "      <td>오후 6:45:18.4</td>\n",
       "      <td>68.045185</td>\n",
       "      <td>1.483</td>\n",
       "      <td>2022-10-27</td>\n",
       "      <td>0</td>\n",
       "      <td>NaN</td>\n",
       "      <td>NaN</td>\n",
       "    </tr>\n",
       "    <tr>\n",
       "      <th>51083</th>\n",
       "      <td>1548</td>\n",
       "      <td>43</td>\n",
       "      <td>오후 6:45:23.4</td>\n",
       "      <td>68.472491</td>\n",
       "      <td>1.511</td>\n",
       "      <td>2022-10-27</td>\n",
       "      <td>0</td>\n",
       "      <td>NaN</td>\n",
       "      <td>NaN</td>\n",
       "    </tr>\n",
       "  </tbody>\n",
       "</table>\n",
       "<p>51084 rows × 9 columns</p>\n",
       "</div>"
      ],
      "text/plain": [
       "       Index  Process          Time       Temp  Current        Date  Label  \\\n",
       "0          1        1  오후 4:24:03.0  75.139142    1.610  2022-09-06      0   \n",
       "1          2        1  오후 4:24:08.0  76.660421    1.530  2022-09-06      0   \n",
       "2          3        1  오후 4:24:13.0  77.177660    1.701  2022-09-06      0   \n",
       "3          4        1  오후 4:24:18.0  76.586434    1.736  2022-09-06      0   \n",
       "4          5        1  오후 4:24:23.0  77.877104    1.748  2022-09-06      0   \n",
       "...      ...      ...           ...        ...      ...         ...    ...   \n",
       "51079   1544       43  오후 6:45:03.4  67.312474    1.560  2022-10-27      0   \n",
       "51080   1545       43  오후 6:45:08.4  65.533664    1.472  2022-10-27      0   \n",
       "51081   1546       43  오후 6:45:13.4  66.740424    1.523  2022-10-27      0   \n",
       "51082   1547       43  오후 6:45:18.4  68.045185    1.483  2022-10-27      0   \n",
       "51083   1548       43  오후 6:45:23.4  68.472491    1.511  2022-10-27      0   \n",
       "\n",
       "       Unnamed: 7 Unnamed: 8  \n",
       "0             NaN        NaN  \n",
       "1             NaN        NaN  \n",
       "2             NaN        NaN  \n",
       "3             NaN        NaN  \n",
       "4             NaN        NaN  \n",
       "...           ...        ...  \n",
       "51079         NaN        NaN  \n",
       "51080         NaN        NaN  \n",
       "51081         NaN        NaN  \n",
       "51082         NaN        NaN  \n",
       "51083         NaN        NaN  \n",
       "\n",
       "[51084 rows x 9 columns]"
      ]
     },
     "execution_count": 6,
     "metadata": {},
     "output_type": "execute_result"
    }
   ],
   "source": [
    "dataList=list()\n",
    "\n",
    "for pth in glob.glob(pathName+'/*')[1:]:\n",
    "    origin = pd.read_csv(pth,index_col=False)\n",
    "    dataList.append(origin)\n",
    "\n",
    "CatList=pd.concat(dataList,axis=0,ignore_index=True)\n",
    "CatList"
   ]
  },
  {
   "cell_type": "code",
   "execution_count": 7,
   "id": "624fc208",
   "metadata": {},
   "outputs": [
    {
     "data": {
      "text/html": [
       "<div>\n",
       "<style scoped>\n",
       "    .dataframe tbody tr th:only-of-type {\n",
       "        vertical-align: middle;\n",
       "    }\n",
       "\n",
       "    .dataframe tbody tr th {\n",
       "        vertical-align: top;\n",
       "    }\n",
       "\n",
       "    .dataframe thead th {\n",
       "        text-align: right;\n",
       "    }\n",
       "</style>\n",
       "<table border=\"1\" class=\"dataframe\">\n",
       "  <thead>\n",
       "    <tr style=\"text-align: right;\">\n",
       "      <th></th>\n",
       "      <th>Index</th>\n",
       "      <th>Process</th>\n",
       "      <th>Time</th>\n",
       "      <th>Temp</th>\n",
       "      <th>Current</th>\n",
       "      <th>Date</th>\n",
       "      <th>Label</th>\n",
       "    </tr>\n",
       "  </thead>\n",
       "  <tbody>\n",
       "    <tr>\n",
       "      <th>0</th>\n",
       "      <td>1</td>\n",
       "      <td>1</td>\n",
       "      <td>오후 4:24:03.0</td>\n",
       "      <td>75.139142</td>\n",
       "      <td>1.610</td>\n",
       "      <td>2022-09-06</td>\n",
       "      <td>0</td>\n",
       "    </tr>\n",
       "    <tr>\n",
       "      <th>1</th>\n",
       "      <td>2</td>\n",
       "      <td>1</td>\n",
       "      <td>오후 4:24:08.0</td>\n",
       "      <td>76.660421</td>\n",
       "      <td>1.530</td>\n",
       "      <td>2022-09-06</td>\n",
       "      <td>0</td>\n",
       "    </tr>\n",
       "    <tr>\n",
       "      <th>2</th>\n",
       "      <td>3</td>\n",
       "      <td>1</td>\n",
       "      <td>오후 4:24:13.0</td>\n",
       "      <td>77.177660</td>\n",
       "      <td>1.701</td>\n",
       "      <td>2022-09-06</td>\n",
       "      <td>0</td>\n",
       "    </tr>\n",
       "    <tr>\n",
       "      <th>3</th>\n",
       "      <td>4</td>\n",
       "      <td>1</td>\n",
       "      <td>오후 4:24:18.0</td>\n",
       "      <td>76.586434</td>\n",
       "      <td>1.736</td>\n",
       "      <td>2022-09-06</td>\n",
       "      <td>0</td>\n",
       "    </tr>\n",
       "    <tr>\n",
       "      <th>4</th>\n",
       "      <td>5</td>\n",
       "      <td>1</td>\n",
       "      <td>오후 4:24:23.0</td>\n",
       "      <td>77.877104</td>\n",
       "      <td>1.748</td>\n",
       "      <td>2022-09-06</td>\n",
       "      <td>0</td>\n",
       "    </tr>\n",
       "    <tr>\n",
       "      <th>...</th>\n",
       "      <td>...</td>\n",
       "      <td>...</td>\n",
       "      <td>...</td>\n",
       "      <td>...</td>\n",
       "      <td>...</td>\n",
       "      <td>...</td>\n",
       "      <td>...</td>\n",
       "    </tr>\n",
       "    <tr>\n",
       "      <th>51079</th>\n",
       "      <td>1544</td>\n",
       "      <td>43</td>\n",
       "      <td>오후 6:45:03.4</td>\n",
       "      <td>67.312474</td>\n",
       "      <td>1.560</td>\n",
       "      <td>2022-10-27</td>\n",
       "      <td>0</td>\n",
       "    </tr>\n",
       "    <tr>\n",
       "      <th>51080</th>\n",
       "      <td>1545</td>\n",
       "      <td>43</td>\n",
       "      <td>오후 6:45:08.4</td>\n",
       "      <td>65.533664</td>\n",
       "      <td>1.472</td>\n",
       "      <td>2022-10-27</td>\n",
       "      <td>0</td>\n",
       "    </tr>\n",
       "    <tr>\n",
       "      <th>51081</th>\n",
       "      <td>1546</td>\n",
       "      <td>43</td>\n",
       "      <td>오후 6:45:13.4</td>\n",
       "      <td>66.740424</td>\n",
       "      <td>1.523</td>\n",
       "      <td>2022-10-27</td>\n",
       "      <td>0</td>\n",
       "    </tr>\n",
       "    <tr>\n",
       "      <th>51082</th>\n",
       "      <td>1547</td>\n",
       "      <td>43</td>\n",
       "      <td>오후 6:45:18.4</td>\n",
       "      <td>68.045185</td>\n",
       "      <td>1.483</td>\n",
       "      <td>2022-10-27</td>\n",
       "      <td>0</td>\n",
       "    </tr>\n",
       "    <tr>\n",
       "      <th>51083</th>\n",
       "      <td>1548</td>\n",
       "      <td>43</td>\n",
       "      <td>오후 6:45:23.4</td>\n",
       "      <td>68.472491</td>\n",
       "      <td>1.511</td>\n",
       "      <td>2022-10-27</td>\n",
       "      <td>0</td>\n",
       "    </tr>\n",
       "  </tbody>\n",
       "</table>\n",
       "<p>51084 rows × 7 columns</p>\n",
       "</div>"
      ],
      "text/plain": [
       "       Index  Process          Time       Temp  Current        Date  Label\n",
       "0          1        1  오후 4:24:03.0  75.139142    1.610  2022-09-06      0\n",
       "1          2        1  오후 4:24:08.0  76.660421    1.530  2022-09-06      0\n",
       "2          3        1  오후 4:24:13.0  77.177660    1.701  2022-09-06      0\n",
       "3          4        1  오후 4:24:18.0  76.586434    1.736  2022-09-06      0\n",
       "4          5        1  오후 4:24:23.0  77.877104    1.748  2022-09-06      0\n",
       "...      ...      ...           ...        ...      ...         ...    ...\n",
       "51079   1544       43  오후 6:45:03.4  67.312474    1.560  2022-10-27      0\n",
       "51080   1545       43  오후 6:45:08.4  65.533664    1.472  2022-10-27      0\n",
       "51081   1546       43  오후 6:45:13.4  66.740424    1.523  2022-10-27      0\n",
       "51082   1547       43  오후 6:45:18.4  68.045185    1.483  2022-10-27      0\n",
       "51083   1548       43  오후 6:45:23.4  68.472491    1.511  2022-10-27      0\n",
       "\n",
       "[51084 rows x 7 columns]"
      ]
     },
     "execution_count": 7,
     "metadata": {},
     "output_type": "execute_result"
    }
   ],
   "source": [
    "df = CatList.drop([CatList.columns[7],CatList.columns[8]], axis=1)\n",
    "df"
   ]
  },
  {
   "cell_type": "code",
   "execution_count": 8,
   "id": "5a8dbe0e",
   "metadata": {},
   "outputs": [
    {
     "data": {
      "text/html": [
       "<div>\n",
       "<style scoped>\n",
       "    .dataframe tbody tr th:only-of-type {\n",
       "        vertical-align: middle;\n",
       "    }\n",
       "\n",
       "    .dataframe tbody tr th {\n",
       "        vertical-align: top;\n",
       "    }\n",
       "\n",
       "    .dataframe thead th {\n",
       "        text-align: right;\n",
       "    }\n",
       "</style>\n",
       "<table border=\"1\" class=\"dataframe\">\n",
       "  <thead>\n",
       "    <tr style=\"text-align: right;\">\n",
       "      <th></th>\n",
       "      <th>Temp</th>\n",
       "      <th>Current</th>\n",
       "      <th>Label</th>\n",
       "    </tr>\n",
       "  </thead>\n",
       "  <tbody>\n",
       "    <tr>\n",
       "      <th>0</th>\n",
       "      <td>75.139142</td>\n",
       "      <td>1.610</td>\n",
       "      <td>0</td>\n",
       "    </tr>\n",
       "    <tr>\n",
       "      <th>1</th>\n",
       "      <td>76.660421</td>\n",
       "      <td>1.530</td>\n",
       "      <td>0</td>\n",
       "    </tr>\n",
       "    <tr>\n",
       "      <th>2</th>\n",
       "      <td>77.177660</td>\n",
       "      <td>1.701</td>\n",
       "      <td>0</td>\n",
       "    </tr>\n",
       "    <tr>\n",
       "      <th>3</th>\n",
       "      <td>76.586434</td>\n",
       "      <td>1.736</td>\n",
       "      <td>0</td>\n",
       "    </tr>\n",
       "    <tr>\n",
       "      <th>4</th>\n",
       "      <td>77.877104</td>\n",
       "      <td>1.748</td>\n",
       "      <td>0</td>\n",
       "    </tr>\n",
       "    <tr>\n",
       "      <th>...</th>\n",
       "      <td>...</td>\n",
       "      <td>...</td>\n",
       "      <td>...</td>\n",
       "    </tr>\n",
       "    <tr>\n",
       "      <th>51079</th>\n",
       "      <td>67.312474</td>\n",
       "      <td>1.560</td>\n",
       "      <td>0</td>\n",
       "    </tr>\n",
       "    <tr>\n",
       "      <th>51080</th>\n",
       "      <td>65.533664</td>\n",
       "      <td>1.472</td>\n",
       "      <td>0</td>\n",
       "    </tr>\n",
       "    <tr>\n",
       "      <th>51081</th>\n",
       "      <td>66.740424</td>\n",
       "      <td>1.523</td>\n",
       "      <td>0</td>\n",
       "    </tr>\n",
       "    <tr>\n",
       "      <th>51082</th>\n",
       "      <td>68.045185</td>\n",
       "      <td>1.483</td>\n",
       "      <td>0</td>\n",
       "    </tr>\n",
       "    <tr>\n",
       "      <th>51083</th>\n",
       "      <td>68.472491</td>\n",
       "      <td>1.511</td>\n",
       "      <td>0</td>\n",
       "    </tr>\n",
       "  </tbody>\n",
       "</table>\n",
       "<p>51084 rows × 3 columns</p>\n",
       "</div>"
      ],
      "text/plain": [
       "            Temp  Current  Label\n",
       "0      75.139142    1.610      0\n",
       "1      76.660421    1.530      0\n",
       "2      77.177660    1.701      0\n",
       "3      76.586434    1.736      0\n",
       "4      77.877104    1.748      0\n",
       "...          ...      ...    ...\n",
       "51079  67.312474    1.560      0\n",
       "51080  65.533664    1.472      0\n",
       "51081  66.740424    1.523      0\n",
       "51082  68.045185    1.483      0\n",
       "51083  68.472491    1.511      0\n",
       "\n",
       "[51084 rows x 3 columns]"
      ]
     },
     "execution_count": 8,
     "metadata": {},
     "output_type": "execute_result"
    }
   ],
   "source": [
    "df = df.drop(['Index','Process','Time','Date'], axis=1)\n",
    "df"
   ]
  },
  {
   "cell_type": "code",
   "execution_count": 9,
   "id": "a6a6052b",
   "metadata": {},
   "outputs": [
    {
     "data": {
      "image/png": "[encoded data removed]",
      "text/plain": [
       "<Figure size 640x480 with 2 Axes>"
      ]
     },
     "metadata": {},
     "output_type": "display_data"
    }
   ],
   "source": [
    "corr=df.corr()\n",
    "\n",
    "sns.heatmap(corr, annot=True, cmap='Greens', annot_kws={'size':20})\n",
    "plt.show()"
   ]
  },
  {
   "cell_type": "code",
   "execution_count": 10,
   "id": "5b36273f",
   "metadata": {},
   "outputs": [
    {
     "data": {
      "text/plain": [
       "array([[ 0.04834502,  0.27659986],\n",
       "       [ 0.16649822, -0.23033417],\n",
       "       [ 0.20667061,  0.85323733],\n",
       "       ...,\n",
       "       [-0.60395836, -0.2746909 ],\n",
       "       [-0.50262144, -0.52815792],\n",
       "       [-0.46943391, -0.35073101]])"
      ]
     },
     "execution_count": 10,
     "metadata": {},
     "output_type": "execute_result"
    }
   ],
   "source": [
    "scaler = StandardScaler()\n",
    "df_data = df.drop(['Label'], axis=1) \n",
    "df_scaled = scaler.fit_transform(df_data)\n",
    "df_scaled"
   ]
  },
  {
   "cell_type": "code",
   "execution_count": 11,
   "id": "ad9d6c12",
   "metadata": {},
   "outputs": [
    {
     "data": {
      "image/png": "[encoded data removed]",
      "text/plain": [
       "<Figure size 640x480 with 1 Axes>"
      ]
     },
     "metadata": {},
     "output_type": "display_data"
    }
   ],
   "source": [
    "plt.plot(df_data)\n",
    "plt.show()"
   ]
  },
  {
   "cell_type": "code",
   "execution_count": 12,
   "id": "a4212997",
   "metadata": {
    "scrolled": true
   },
   "outputs": [
    {
     "data": {
      "image/png": "[encoded data removed]",
      "text/plain": [
       "<Figure size 640x480 with 1 Axes>"
      ]
     },
     "metadata": {},
     "output_type": "display_data"
    }
   ],
   "source": [
    "plt.plot(df_scaled)\n",
    "plt.show()"
   ]
  },
  {
   "cell_type": "code",
   "execution_count": 13,
   "id": "f4ffd3bd",
   "metadata": {
    "scrolled": true
   },
   "outputs": [
    {
     "data": {
      "text/html": [
       "<div>\n",
       "<style scoped>\n",
       "    .dataframe tbody tr th:only-of-type {\n",
       "        vertical-align: middle;\n",
       "    }\n",
       "\n",
       "    .dataframe tbody tr th {\n",
       "        vertical-align: top;\n",
       "    }\n",
       "\n",
       "    .dataframe thead th {\n",
       "        text-align: right;\n",
       "    }\n",
       "</style>\n",
       "<table border=\"1\" class=\"dataframe\">\n",
       "  <thead>\n",
       "    <tr style=\"text-align: right;\">\n",
       "      <th></th>\n",
       "      <th>Temp</th>\n",
       "      <th>Current</th>\n",
       "      <th>Label</th>\n",
       "    </tr>\n",
       "  </thead>\n",
       "  <tbody>\n",
       "    <tr>\n",
       "      <th>0</th>\n",
       "      <td>0.048345</td>\n",
       "      <td>0.276600</td>\n",
       "      <td>0</td>\n",
       "    </tr>\n",
       "    <tr>\n",
       "      <th>1</th>\n",
       "      <td>0.166498</td>\n",
       "      <td>-0.230334</td>\n",
       "      <td>0</td>\n",
       "    </tr>\n",
       "    <tr>\n",
       "      <th>2</th>\n",
       "      <td>0.206671</td>\n",
       "      <td>0.853237</td>\n",
       "      <td>0</td>\n",
       "    </tr>\n",
       "    <tr>\n",
       "      <th>3</th>\n",
       "      <td>0.160752</td>\n",
       "      <td>1.075021</td>\n",
       "      <td>0</td>\n",
       "    </tr>\n",
       "    <tr>\n",
       "      <th>4</th>\n",
       "      <td>0.260994</td>\n",
       "      <td>1.151061</td>\n",
       "      <td>0</td>\n",
       "    </tr>\n",
       "    <tr>\n",
       "      <th>...</th>\n",
       "      <td>...</td>\n",
       "      <td>...</td>\n",
       "      <td>...</td>\n",
       "    </tr>\n",
       "    <tr>\n",
       "      <th>51079</th>\n",
       "      <td>-0.559529</td>\n",
       "      <td>-0.040234</td>\n",
       "      <td>0</td>\n",
       "    </tr>\n",
       "    <tr>\n",
       "      <th>51080</th>\n",
       "      <td>-0.697684</td>\n",
       "      <td>-0.597861</td>\n",
       "      <td>0</td>\n",
       "    </tr>\n",
       "    <tr>\n",
       "      <th>51081</th>\n",
       "      <td>-0.603958</td>\n",
       "      <td>-0.274691</td>\n",
       "      <td>0</td>\n",
       "    </tr>\n",
       "    <tr>\n",
       "      <th>51082</th>\n",
       "      <td>-0.502621</td>\n",
       "      <td>-0.528158</td>\n",
       "      <td>0</td>\n",
       "    </tr>\n",
       "    <tr>\n",
       "      <th>51083</th>\n",
       "      <td>-0.469434</td>\n",
       "      <td>-0.350731</td>\n",
       "      <td>0</td>\n",
       "    </tr>\n",
       "  </tbody>\n",
       "</table>\n",
       "<p>51084 rows × 3 columns</p>\n",
       "</div>"
      ],
      "text/plain": [
       "           Temp   Current  Label\n",
       "0      0.048345  0.276600      0\n",
       "1      0.166498 -0.230334      0\n",
       "2      0.206671  0.853237      0\n",
       "3      0.160752  1.075021      0\n",
       "4      0.260994  1.151061      0\n",
       "...         ...       ...    ...\n",
       "51079 -0.559529 -0.040234      0\n",
       "51080 -0.697684 -0.597861      0\n",
       "51081 -0.603958 -0.274691      0\n",
       "51082 -0.502621 -0.528158      0\n",
       "51083 -0.469434 -0.350731      0\n",
       "\n",
       "[51084 rows x 3 columns]"
      ]
     },
     "execution_count": 13,
     "metadata": {},
     "output_type": "execute_result"
    }
   ],
   "source": [
    "df_scale = pd.DataFrame(df_scaled, columns=['Temp', 'Current'])\n",
    "df_scale['Label'] = df['Label']\n",
    "df_scale"
   ]
  },
  {
   "cell_type": "code",
   "execution_count": 14,
   "id": "cd722e2b",
   "metadata": {},
   "outputs": [
    {
     "name": "stdout",
     "output_type": "stream",
     "text": [
      "<class 'pandas.core.frame.DataFrame'>\n",
      "RangeIndex: 35604 entries, 0 to 35603\n",
      "Data columns (total 3 columns):\n",
      " #   Column   Non-Null Count  Dtype  \n",
      "---  ------   --------------  -----  \n",
      " 0   Temp     35604 non-null  float64\n",
      " 1   Current  35604 non-null  float64\n",
      " 2   Label    35604 non-null  int64  \n",
      "dtypes: float64(2), int64(1)\n",
      "memory usage: 834.6 KB\n"
     ]
    }
   ],
   "source": [
    "train_data=df_scale[:35604]\n",
    "test_data=df_scale[35604:]\n",
    "train_data.info()"
   ]
  },
  {
   "cell_type": "code",
   "execution_count": 15,
   "id": "1098d78a",
   "metadata": {},
   "outputs": [
    {
     "data": {
      "text/html": [
       "<div>\n",
       "<style scoped>\n",
       "    .dataframe tbody tr th:only-of-type {\n",
       "        vertical-align: middle;\n",
       "    }\n",
       "\n",
       "    .dataframe tbody tr th {\n",
       "        vertical-align: top;\n",
       "    }\n",
       "\n",
       "    .dataframe thead th {\n",
       "        text-align: right;\n",
       "    }\n",
       "</style>\n",
       "<table border=\"1\" class=\"dataframe\">\n",
       "  <thead>\n",
       "    <tr style=\"text-align: right;\">\n",
       "      <th></th>\n",
       "      <th>Temp</th>\n",
       "      <th>Current</th>\n",
       "      <th>Label</th>\n",
       "    </tr>\n",
       "  </thead>\n",
       "  <tbody>\n",
       "    <tr>\n",
       "      <th>0</th>\n",
       "      <td>0.048345</td>\n",
       "      <td>0.276600</td>\n",
       "      <td>0</td>\n",
       "    </tr>\n",
       "    <tr>\n",
       "      <th>1</th>\n",
       "      <td>0.166498</td>\n",
       "      <td>-0.230334</td>\n",
       "      <td>0</td>\n",
       "    </tr>\n",
       "    <tr>\n",
       "      <th>2</th>\n",
       "      <td>0.206671</td>\n",
       "      <td>0.853237</td>\n",
       "      <td>0</td>\n",
       "    </tr>\n",
       "    <tr>\n",
       "      <th>3</th>\n",
       "      <td>0.160752</td>\n",
       "      <td>1.075021</td>\n",
       "      <td>0</td>\n",
       "    </tr>\n",
       "    <tr>\n",
       "      <th>4</th>\n",
       "      <td>0.260994</td>\n",
       "      <td>1.151061</td>\n",
       "      <td>0</td>\n",
       "    </tr>\n",
       "    <tr>\n",
       "      <th>...</th>\n",
       "      <td>...</td>\n",
       "      <td>...</td>\n",
       "      <td>...</td>\n",
       "    </tr>\n",
       "    <tr>\n",
       "      <th>35599</th>\n",
       "      <td>-0.532505</td>\n",
       "      <td>-0.249344</td>\n",
       "      <td>0</td>\n",
       "    </tr>\n",
       "    <tr>\n",
       "      <th>35600</th>\n",
       "      <td>-0.492333</td>\n",
       "      <td>-0.300038</td>\n",
       "      <td>0</td>\n",
       "    </tr>\n",
       "    <tr>\n",
       "      <th>35601</th>\n",
       "      <td>-0.460584</td>\n",
       "      <td>-0.217661</td>\n",
       "      <td>0</td>\n",
       "    </tr>\n",
       "    <tr>\n",
       "      <th>35602</th>\n",
       "      <td>-0.671010</td>\n",
       "      <td>-0.147957</td>\n",
       "      <td>0</td>\n",
       "    </tr>\n",
       "    <tr>\n",
       "      <th>35603</th>\n",
       "      <td>-0.582747</td>\n",
       "      <td>-0.090927</td>\n",
       "      <td>0</td>\n",
       "    </tr>\n",
       "  </tbody>\n",
       "</table>\n",
       "<p>32328 rows × 3 columns</p>\n",
       "</div>"
      ],
      "text/plain": [
       "           Temp   Current  Label\n",
       "0      0.048345  0.276600      0\n",
       "1      0.166498 -0.230334      0\n",
       "2      0.206671  0.853237      0\n",
       "3      0.160752  1.075021      0\n",
       "4      0.260994  1.151061      0\n",
       "...         ...       ...    ...\n",
       "35599 -0.532505 -0.249344      0\n",
       "35600 -0.492333 -0.300038      0\n",
       "35601 -0.460584 -0.217661      0\n",
       "35602 -0.671010 -0.147957      0\n",
       "35603 -0.582747 -0.090927      0\n",
       "\n",
       "[32328 rows x 3 columns]"
      ]
     },
     "execution_count": 15,
     "metadata": {},
     "output_type": "execute_result"
    }
   ],
   "source": [
    "ng_idx_train=train_data[train_data['Label']==1].index\n",
    "ok_idx_train=train_data[train_data['Label']==0].index\n",
    "ok_train=train_data.loc[ok_idx_train]\n",
    "ng_train=train_data.loc[ng_idx_train]\n",
    "ok_train"
   ]
  },
  {
   "cell_type": "code",
   "execution_count": 16,
   "id": "f760c84d",
   "metadata": {
    "scrolled": true
   },
   "outputs": [
    {
     "data": {
      "text/plain": [
       "array([[[ 0.04834502,  0.27659986],\n",
       "        [ 0.16649822, -0.23033417],\n",
       "        [ 0.20667061,  0.85323733],\n",
       "        ...,\n",
       "        [-0.60395836, -0.41409776],\n",
       "        [-0.50262144, -0.52815792],\n",
       "        [-0.54710092, -0.35706768]],\n",
       "\n",
       "       [[ 0.16649822, -0.23033417],\n",
       "        [ 0.20667061,  0.85323733],\n",
       "        [ 0.16075187,  1.07502097],\n",
       "        ...,\n",
       "        [-0.50262144, -0.52815792],\n",
       "        [-0.54710092, -0.35706768],\n",
       "        [ 0.05338504, -0.16696742]],\n",
       "\n",
       "       [[ 0.20667061,  0.85323733],\n",
       "        [ 0.16075187,  1.07502097],\n",
       "        [ 0.26099432,  1.15106107],\n",
       "        ...,\n",
       "        [-0.54710092, -0.35706768],\n",
       "        [ 0.05338504, -0.16696742],\n",
       "        [ 0.18291414, -0.2493442 ]],\n",
       "\n",
       "       ...,\n",
       "\n",
       "       [[-0.60395836, -0.41409776],\n",
       "        [-0.65795547, -0.38241438],\n",
       "        [-0.54710092, -0.35706768],\n",
       "        ...,\n",
       "        [-0.57299108, -0.16696742],\n",
       "        [-0.53250489, -0.2493442 ],\n",
       "        [-0.4923325 , -0.3000376 ]],\n",
       "\n",
       "       [[-0.65795547, -0.38241438],\n",
       "        [-0.54710092, -0.35706768],\n",
       "        [ 0.03838782, -0.45845449],\n",
       "        ...,\n",
       "        [-0.53250489, -0.2493442 ],\n",
       "        [-0.4923325 , -0.3000376 ],\n",
       "        [-0.46058422, -0.21766082]],\n",
       "\n",
       "       [[-0.54710092, -0.35706768],\n",
       "        [ 0.03838782, -0.45845449],\n",
       "        [-0.02511291, -0.2493442 ],\n",
       "        ...,\n",
       "        [-0.4923325 , -0.3000376 ],\n",
       "        [-0.46058422, -0.21766082],\n",
       "        [-0.67100983, -0.14795739]]])"
      ]
     },
     "execution_count": 16,
     "metadata": {},
     "output_type": "execute_result"
    }
   ],
   "source": [
    "TIME_STEP=36\n",
    "def sequences(x,y,time_steps=TIME_STEP):\n",
    "    xs,ys=[],[]\n",
    "    for i in range(len(x)-time_steps):\n",
    "        xs.append(x.iloc[i:(i+time_steps)].values)\n",
    "        ys.append(y.iloc[i:(i+time_steps)].values)\n",
    "        \n",
    "    return np.array(xs), np.array(ys)\n",
    "    \n",
    "X_train, Y_train = sequences(ok_train[['Temp','Current']],ok_train[['Temp','Current']])\n",
    "X_train"
   ]
  },
  {
   "cell_type": "code",
   "execution_count": 17,
   "id": "309d7c70",
   "metadata": {
    "scrolled": true
   },
   "outputs": [
    {
     "data": {
      "text/plain": [
       "array([[[ 0.11846597, -0.47746451],\n",
       "        [-0.09352687, -0.31904763],\n",
       "        [ 0.07898631,  0.98630751],\n",
       "        ...,\n",
       "        [-0.75929239, -0.42043444],\n",
       "        [-0.50262144, -0.67390145],\n",
       "        [-0.54710092, -0.64221808]],\n",
       "\n",
       "       [[-0.09352687, -0.31904763],\n",
       "        [ 0.07898631,  0.98630751],\n",
       "        [ 0.01737774,  0.59343363],\n",
       "        ...,\n",
       "        [-0.50262144, -0.67390145],\n",
       "        [-0.54710092, -0.64221808],\n",
       "        [-0.11453507, -0.16696742]],\n",
       "\n",
       "       [[ 0.07898631,  0.98630751],\n",
       "        [ 0.01737774,  0.59343363],\n",
       "        [ 0.04104764,  0.91660408],\n",
       "        ...,\n",
       "        [-0.54710092, -0.64221808],\n",
       "        [-0.11453507, -0.16696742],\n",
       "        [ 0.06180715, -0.2493442 ]],\n",
       "\n",
       "       ...,\n",
       "\n",
       "       [[-0.79043444, -0.57885132],\n",
       "        [-0.77801688, -0.2746909 ],\n",
       "        [-0.59808191, -0.69924816],\n",
       "        ...,\n",
       "        [-0.73587116, -0.09092731],\n",
       "        [-0.55952895, -0.04023391],\n",
       "        [-0.69768381, -0.59786135]],\n",
       "\n",
       "       [[-0.77801688, -0.2746909 ],\n",
       "        [-0.59808191, -0.69924816],\n",
       "        [-0.11718642, -0.68023813],\n",
       "        ...,\n",
       "        [-0.55952895, -0.04023391],\n",
       "        [-0.69768381, -0.59786135],\n",
       "        [-0.60395836, -0.2746909 ]],\n",
       "\n",
       "       [[-0.59808191, -0.69924816],\n",
       "        [-0.11718642, -0.68023813],\n",
       "        [-0.1085241 , -0.34439433],\n",
       "        ...,\n",
       "        [-0.69768381, -0.59786135],\n",
       "        [-0.60395836, -0.2746909 ],\n",
       "        [-0.50262144, -0.52815792]]])"
      ]
     },
     "execution_count": 17,
     "metadata": {},
     "output_type": "execute_result"
    }
   ],
   "source": [
    "X_test, Y_test = sequences(test_data[['Temp','Current']], test_data[['Label']])\n",
    "X_test"
   ]
  },
  {
   "cell_type": "code",
   "execution_count": 18,
   "id": "98ec217b",
   "metadata": {
    "scrolled": false
   },
   "outputs": [
    {
     "name": "stdout",
     "output_type": "stream",
     "text": [
      "WARNING:tensorflow:Layer lstm will not use cuDNN kernels since it doesn't meet the criteria. It will use a generic GPU kernel as fallback when running on GPU.\n",
      "WARNING:tensorflow:Layer lstm_1 will not use cuDNN kernels since it doesn't meet the criteria. It will use a generic GPU kernel as fallback when running on GPU.\n",
      "WARNING:tensorflow:Layer lstm_2 will not use cuDNN kernels since it doesn't meet the criteria. It will use a generic GPU kernel as fallback when running on GPU.\n",
      "WARNING:tensorflow:Layer lstm_3 will not use cuDNN kernels since it doesn't meet the criteria. It will use a generic GPU kernel as fallback when running on GPU.\n",
      "Model: \"sequential\"\n",
      "_________________________________________________________________\n",
      " Layer (type)                Output Shape              Param #   \n",
      "=================================================================\n",
      " lstm (LSTM)                 (None, 36, 140)           80080     \n",
      "                                                                 \n",
      " lstm_1 (LSTM)               (None, 70)                59080     \n",
      "                                                                 \n",
      " repeat_vector (RepeatVector  (None, 36, 70)           0         \n",
      " )                                                               \n",
      "                                                                 \n",
      " lstm_2 (LSTM)               (None, 36, 70)            39480     \n",
      "                                                                 \n",
      " lstm_3 (LSTM)               (None, 36, 140)           118160    \n",
      "                                                                 \n",
      " time_distributed (TimeDistr  (None, 36, 2)            282       \n",
      " ibuted)                                                         \n",
      "                                                                 \n",
      "=================================================================\n",
      "Total params: 297,082\n",
      "Trainable params: 297,082\n",
      "Non-trainable params: 0\n",
      "_________________________________________________________________\n"
     ]
    }
   ],
   "source": [
    "timesteps = TIME_STEP\n",
    "features = 2\n",
    "\n",
    "\n",
    "Lstm_AE = Sequential()\n",
    "\n",
    "Lstm_AE.add(LSTM(140,activation='relu', input_shape=(timesteps, features), return_sequences=True))\n",
    "Lstm_AE.add(LSTM(70,activation='relu', return_sequences=False))\n",
    "Lstm_AE.add(RepeatVector(timesteps))\n",
    "\n",
    "Lstm_AE.add(LSTM(70,activation='relu', return_sequences=True))\n",
    "Lstm_AE.add(LSTM(140,activation='relu', return_sequences=True))\n",
    "Lstm_AE.add(TimeDistributed(Dense(features)))\n",
    "\n",
    "Lstm_AE.compile(loss='mse', optimizer=keras.optimizers.Adam(0.01))\n",
    "Lstm_AE.summary()"
   ]
  },
  {
   "cell_type": "code",
   "execution_count": 19,
   "id": "426d6c18",
   "metadata": {
    "scrolled": true
   },
   "outputs": [
    {
     "name": "stdout",
     "output_type": "stream",
     "text": [
      "Epoch 1/50\n",
      "808/808 [==============================] - 381s 464ms/step - loss: 111916425216.0000 - val_loss: 0.1556\n",
      "Epoch 2/50\n",
      "808/808 [==============================] - 300s 372ms/step - loss: 3000440193024.0000 - val_loss: 0.1456\n",
      "Epoch 3/50\n",
      "808/808 [==============================] - 317s 392ms/step - loss: 0.1304 - val_loss: 0.1330\n",
      "Epoch 4/50\n",
      "808/808 [==============================] - 296s 366ms/step - loss: 0.1015 - val_loss: 0.0725\n",
      "Epoch 5/50\n",
      "808/808 [==============================] - 294s 364ms/step - loss: 0.0643 - val_loss: 0.0630\n",
      "Epoch 6/50\n",
      "808/808 [==============================] - 296s 367ms/step - loss: 0.0562 - val_loss: 0.0564\n",
      "Epoch 7/50\n",
      "808/808 [==============================] - 295s 366ms/step - loss: 0.0529 - val_loss: 0.0549\n",
      "Epoch 8/50\n",
      "808/808 [==============================] - 296s 366ms/step - loss: 0.0513 - val_loss: 0.0525\n",
      "Epoch 9/50\n",
      "808/808 [==============================] - 296s 367ms/step - loss: 0.0497 - val_loss: 0.0517\n",
      "Epoch 10/50\n",
      "808/808 [==============================] - 295s 366ms/step - loss: 0.0484 - val_loss: 0.0501\n",
      "Epoch 11/50\n",
      "808/808 [==============================] - 294s 364ms/step - loss: 0.0476 - val_loss: 0.0517\n",
      "Epoch 12/50\n",
      "808/808 [==============================] - 294s 364ms/step - loss: 0.0468 - val_loss: 0.0478\n",
      "Epoch 13/50\n",
      "808/808 [==============================] - 295s 366ms/step - loss: 0.0458 - val_loss: 0.0484\n",
      "Epoch 14/50\n",
      "808/808 [==============================] - 299s 370ms/step - loss: 0.0454 - val_loss: 0.0471\n",
      "Epoch 15/50\n",
      "808/808 [==============================] - 297s 368ms/step - loss: 0.0445 - val_loss: 0.0457\n",
      "Epoch 16/50\n",
      "808/808 [==============================] - 295s 365ms/step - loss: 0.0444 - val_loss: 0.0456\n",
      "Epoch 17/50\n",
      "808/808 [==============================] - 294s 364ms/step - loss: 0.0437 - val_loss: 0.0482\n",
      "Epoch 18/50\n",
      "808/808 [==============================] - 296s 366ms/step - loss: 0.0432 - val_loss: 0.0478\n",
      "Epoch 19/50\n",
      "808/808 [==============================] - 298s 369ms/step - loss: 0.0429 - val_loss: 0.0443\n",
      "Epoch 20/50\n",
      "808/808 [==============================] - 297s 367ms/step - loss: 0.0425 - val_loss: 0.0445\n",
      "Epoch 21/50\n",
      "808/808 [==============================] - 295s 366ms/step - loss: 0.0417 - val_loss: 0.0437\n",
      "Epoch 22/50\n",
      "808/808 [==============================] - 295s 365ms/step - loss: 0.0420 - val_loss: 0.0431\n",
      "Epoch 23/50\n",
      "808/808 [==============================] - 299s 370ms/step - loss: 0.0410 - val_loss: 0.0432\n",
      "Epoch 24/50\n",
      "808/808 [==============================] - 296s 366ms/step - loss: 0.0409 - val_loss: 0.0416\n",
      "Epoch 25/50\n",
      "808/808 [==============================] - 301s 373ms/step - loss: 0.0400 - val_loss: 0.0414\n",
      "Epoch 26/50\n",
      "808/808 [==============================] - 309s 382ms/step - loss: 0.0398 - val_loss: 0.0429\n",
      "Epoch 27/50\n",
      "808/808 [==============================] - 307s 380ms/step - loss: 0.0393 - val_loss: 0.0404\n",
      "Epoch 28/50\n",
      "808/808 [==============================] - 310s 384ms/step - loss: 0.0388 - val_loss: 0.0432\n",
      "Epoch 29/50\n",
      "808/808 [==============================] - 311s 385ms/step - loss: 0.0388 - val_loss: 0.0407\n",
      "Epoch 30/50\n",
      "808/808 [==============================] - 311s 386ms/step - loss: 0.0382 - val_loss: 0.0420\n",
      "Epoch 31/50\n",
      "808/808 [==============================] - 312s 386ms/step - loss: 0.0383 - val_loss: 0.0390\n",
      "Epoch 32/50\n",
      "808/808 [==============================] - 313s 387ms/step - loss: 0.0376 - val_loss: 0.0396\n",
      "Epoch 33/50\n",
      "808/808 [==============================] - 313s 388ms/step - loss: 0.0371 - val_loss: 0.0407\n",
      "Epoch 34/50\n",
      "808/808 [==============================] - 314s 388ms/step - loss: 0.0375 - val_loss: 0.0386\n",
      "Epoch 35/50\n",
      "808/808 [==============================] - 316s 391ms/step - loss: 0.0367 - val_loss: 0.0387\n",
      "Epoch 36/50\n",
      "808/808 [==============================] - 316s 391ms/step - loss: 0.0365 - val_loss: 0.0489\n",
      "Epoch 37/50\n",
      "808/808 [==============================] - 316s 391ms/step - loss: 0.0365 - val_loss: 0.0385\n",
      "Epoch 38/50\n",
      "808/808 [==============================] - 316s 391ms/step - loss: 0.0361 - val_loss: 0.0385\n",
      "Epoch 39/50\n",
      "808/808 [==============================] - 317s 392ms/step - loss: 0.0359 - val_loss: 0.0387\n",
      "Epoch 40/50\n",
      "808/808 [==============================] - 315s 390ms/step - loss: 0.0356 - val_loss: 0.0390\n",
      "Epoch 41/50\n",
      "808/808 [==============================] - 316s 392ms/step - loss: 0.0350 - val_loss: 0.0361\n",
      "Epoch 42/50\n",
      "808/808 [==============================] - 315s 390ms/step - loss: 0.0348 - val_loss: 0.0388\n",
      "Epoch 43/50\n",
      "808/808 [==============================] - 317s 392ms/step - loss: 0.0352 - val_loss: 0.0397\n",
      "Epoch 44/50\n",
      "808/808 [==============================] - 315s 390ms/step - loss: 0.0345 - val_loss: 0.0353\n",
      "Epoch 45/50\n",
      "808/808 [==============================] - 316s 391ms/step - loss: 0.0350 - val_loss: 0.0356\n",
      "Epoch 46/50\n",
      "808/808 [==============================] - 315s 389ms/step - loss: 0.0343 - val_loss: 0.0444\n",
      "Epoch 47/50\n",
      "808/808 [==============================] - 315s 390ms/step - loss: 0.0343 - val_loss: 0.0353\n",
      "Epoch 48/50\n",
      "808/808 [==============================] - 314s 388ms/step - loss: 0.0337 - val_loss: 0.0440\n",
      "Epoch 49/50\n",
      "808/808 [==============================] - 317s 393ms/step - loss: 0.0354 - val_loss: 0.0349\n",
      "Epoch 50/50\n",
      "808/808 [==============================] - 370s 458ms/step - loss: 0.0337 - val_loss: 0.0378\n"
     ]
    }
   ],
   "source": [
    "epochs=50\n",
    "batch=32\n",
    "history = Lstm_AE.fit(X_train, Y_train, epochs=epochs, batch_size=batch, validation_split=0.2)"
   ]
  },
  {
   "cell_type": "code",
   "execution_count": 21,
   "id": "a89f922a",
   "metadata": {
    "scrolled": false
   },
   "outputs": [
    {
     "data": {
      "image/png": "[encoded data removed]",
      "text/plain": [
       "<Figure size 640x480 with 1 Axes>"
      ]
     },
     "metadata": {},
     "output_type": "display_data"
    }
   ],
   "source": [
    "plt.plot(history.history['loss'][2:49], 'b--', label='loss')\n",
    "plt.plot(history.history['val_loss'][2:49], 'r--', label='val_loss')\n",
    "plt.xlabel('epoch')\n",
    "plt.legend()\n",
    "plt.show()"
   ]
  },
  {
   "cell_type": "code",
   "execution_count": 22,
   "id": "ec6e7624",
   "metadata": {},
   "outputs": [
    {
     "name": "stdout",
     "output_type": "stream",
     "text": [
      "483/483 [==============================] - 30s 61ms/step\n"
     ]
    },
    {
     "data": {
      "text/html": [
       "<div>\n",
       "<style scoped>\n",
       "    .dataframe tbody tr th:only-of-type {\n",
       "        vertical-align: middle;\n",
       "    }\n",
       "\n",
       "    .dataframe tbody tr th {\n",
       "        vertical-align: top;\n",
       "    }\n",
       "\n",
       "    .dataframe thead th {\n",
       "        text-align: right;\n",
       "    }\n",
       "</style>\n",
       "<table border=\"1\" class=\"dataframe\">\n",
       "  <thead>\n",
       "    <tr style=\"text-align: right;\">\n",
       "      <th></th>\n",
       "      <th>Temp_error</th>\n",
       "      <th>Current_error</th>\n",
       "      <th>reconstruction_error</th>\n",
       "      <th>Label</th>\n",
       "    </tr>\n",
       "  </thead>\n",
       "  <tbody>\n",
       "    <tr>\n",
       "      <th>count</th>\n",
       "      <td>1.544400e+04</td>\n",
       "      <td>1.544400e+04</td>\n",
       "      <td>1.544400e+04</td>\n",
       "      <td>15444.00000</td>\n",
       "    </tr>\n",
       "    <tr>\n",
       "      <th>mean</th>\n",
       "      <td>1.388082e+11</td>\n",
       "      <td>1.126464e+11</td>\n",
       "      <td>2.514547e+11</td>\n",
       "      <td>0.04662</td>\n",
       "    </tr>\n",
       "    <tr>\n",
       "      <th>std</th>\n",
       "      <td>6.428577e+12</td>\n",
       "      <td>4.807315e+12</td>\n",
       "      <td>1.116103e+13</td>\n",
       "      <td>0.21083</td>\n",
       "    </tr>\n",
       "    <tr>\n",
       "      <th>min</th>\n",
       "      <td>4.332328e-03</td>\n",
       "      <td>1.335728e-02</td>\n",
       "      <td>2.001719e-02</td>\n",
       "      <td>0.00000</td>\n",
       "    </tr>\n",
       "    <tr>\n",
       "      <th>25%</th>\n",
       "      <td>9.702132e-03</td>\n",
       "      <td>3.236569e-02</td>\n",
       "      <td>4.209223e-02</td>\n",
       "      <td>0.00000</td>\n",
       "    </tr>\n",
       "    <tr>\n",
       "      <th>50%</th>\n",
       "      <td>1.350171e-02</td>\n",
       "      <td>4.567731e-02</td>\n",
       "      <td>6.035217e-02</td>\n",
       "      <td>0.00000</td>\n",
       "    </tr>\n",
       "    <tr>\n",
       "      <th>75%</th>\n",
       "      <td>2.424742e-02</td>\n",
       "      <td>8.176489e-02</td>\n",
       "      <td>1.061788e-01</td>\n",
       "      <td>0.00000</td>\n",
       "    </tr>\n",
       "    <tr>\n",
       "      <th>max</th>\n",
       "      <td>7.078688e+14</td>\n",
       "      <td>5.046290e+14</td>\n",
       "      <td>1.212498e+15</td>\n",
       "      <td>1.00000</td>\n",
       "    </tr>\n",
       "  </tbody>\n",
       "</table>\n",
       "</div>"
      ],
      "text/plain": [
       "         Temp_error  Current_error  reconstruction_error        Label\n",
       "count  1.544400e+04   1.544400e+04          1.544400e+04  15444.00000\n",
       "mean   1.388082e+11   1.126464e+11          2.514547e+11      0.04662\n",
       "std    6.428577e+12   4.807315e+12          1.116103e+13      0.21083\n",
       "min    4.332328e-03   1.335728e-02          2.001719e-02      0.00000\n",
       "25%    9.702132e-03   3.236569e-02          4.209223e-02      0.00000\n",
       "50%    1.350171e-02   4.567731e-02          6.035217e-02      0.00000\n",
       "75%    2.424742e-02   8.176489e-02          1.061788e-01      0.00000\n",
       "max    7.078688e+14   5.046290e+14          1.212498e+15      1.00000"
      ]
     },
     "execution_count": 22,
     "metadata": {},
     "output_type": "execute_result"
    }
   ],
   "source": [
    "prediction = Lstm_AE.predict(X_test)\n",
    "mse=np.mean(np.power(X_test-prediction,2),axis=1)\n",
    "error_df=pd.DataFrame(mse)\n",
    "error_df.columns = ['Temp_error', 'Current_error']\n",
    "error_df['reconstruction_error'] = error_df['Temp_error'] + error_df['Current_error']\n",
    "error_df['Label'] = Y_test[:,0]\n",
    "error_df.describe()"
   ]
  },
  {
   "cell_type": "code",
   "execution_count": 23,
   "id": "624e9bb4",
   "metadata": {},
   "outputs": [
    {
     "data": {
      "text/html": [
       "<div>\n",
       "<style scoped>\n",
       "    .dataframe tbody tr th:only-of-type {\n",
       "        vertical-align: middle;\n",
       "    }\n",
       "\n",
       "    .dataframe tbody tr th {\n",
       "        vertical-align: top;\n",
       "    }\n",
       "\n",
       "    .dataframe thead th {\n",
       "        text-align: right;\n",
       "    }\n",
       "</style>\n",
       "<table border=\"1\" class=\"dataframe\">\n",
       "  <thead>\n",
       "    <tr style=\"text-align: right;\">\n",
       "      <th></th>\n",
       "      <th>Temp_error</th>\n",
       "      <th>Current_error</th>\n",
       "      <th>reconstruction_error</th>\n",
       "      <th>Label</th>\n",
       "    </tr>\n",
       "  </thead>\n",
       "  <tbody>\n",
       "    <tr>\n",
       "      <th>count</th>\n",
       "      <td>1.544400e+04</td>\n",
       "      <td>1.544400e+04</td>\n",
       "      <td>1.544400e+04</td>\n",
       "      <td>15444.00000</td>\n",
       "    </tr>\n",
       "    <tr>\n",
       "      <th>mean</th>\n",
       "      <td>1.388082e+11</td>\n",
       "      <td>1.126464e+11</td>\n",
       "      <td>2.514547e+11</td>\n",
       "      <td>0.04662</td>\n",
       "    </tr>\n",
       "    <tr>\n",
       "      <th>std</th>\n",
       "      <td>6.428577e+12</td>\n",
       "      <td>4.807315e+12</td>\n",
       "      <td>1.116103e+13</td>\n",
       "      <td>0.21083</td>\n",
       "    </tr>\n",
       "    <tr>\n",
       "      <th>min</th>\n",
       "      <td>4.332328e-03</td>\n",
       "      <td>1.335728e-02</td>\n",
       "      <td>2.001719e-02</td>\n",
       "      <td>0.00000</td>\n",
       "    </tr>\n",
       "    <tr>\n",
       "      <th>25%</th>\n",
       "      <td>9.702132e-03</td>\n",
       "      <td>3.236569e-02</td>\n",
       "      <td>4.209223e-02</td>\n",
       "      <td>0.00000</td>\n",
       "    </tr>\n",
       "    <tr>\n",
       "      <th>50%</th>\n",
       "      <td>1.350171e-02</td>\n",
       "      <td>4.567731e-02</td>\n",
       "      <td>6.035217e-02</td>\n",
       "      <td>0.00000</td>\n",
       "    </tr>\n",
       "    <tr>\n",
       "      <th>75%</th>\n",
       "      <td>2.424742e-02</td>\n",
       "      <td>8.176489e-02</td>\n",
       "      <td>1.061788e-01</td>\n",
       "      <td>0.00000</td>\n",
       "    </tr>\n",
       "    <tr>\n",
       "      <th>max</th>\n",
       "      <td>7.078688e+14</td>\n",
       "      <td>5.046290e+14</td>\n",
       "      <td>1.212498e+15</td>\n",
       "      <td>1.00000</td>\n",
       "    </tr>\n",
       "  </tbody>\n",
       "</table>\n",
       "</div>"
      ],
      "text/plain": [
       "         Temp_error  Current_error  reconstruction_error        Label\n",
       "count  1.544400e+04   1.544400e+04          1.544400e+04  15444.00000\n",
       "mean   1.388082e+11   1.126464e+11          2.514547e+11      0.04662\n",
       "std    6.428577e+12   4.807315e+12          1.116103e+13      0.21083\n",
       "min    4.332328e-03   1.335728e-02          2.001719e-02      0.00000\n",
       "25%    9.702132e-03   3.236569e-02          4.209223e-02      0.00000\n",
       "50%    1.350171e-02   4.567731e-02          6.035217e-02      0.00000\n",
       "75%    2.424742e-02   8.176489e-02          1.061788e-01      0.00000\n",
       "max    7.078688e+14   5.046290e+14          1.212498e+15      1.00000"
      ]
     },
     "execution_count": 23,
     "metadata": {},
     "output_type": "execute_result"
    }
   ],
   "source": [
    "error_df['Label'] = Y_test[:,0]\n",
    "error_df.describe()"
   ]
  },
  {
   "cell_type": "code",
   "execution_count": 25,
   "id": "b5f580c6",
   "metadata": {},
   "outputs": [
    {
     "data": {
      "text/plain": [
       "0.1697227035883091"
      ]
     },
     "execution_count": 25,
     "metadata": {},
     "output_type": "execute_result"
    }
   ],
   "source": [
    "thr = np.percentile(error_df['reconstruction_error'],90)\n",
    "thr"
   ]
  },
  {
   "cell_type": "code",
   "execution_count": 26,
   "id": "fdb22897",
   "metadata": {},
   "outputs": [
    {
     "name": "stdout",
     "output_type": "stream",
     "text": [
      "13899\n"
     ]
    },
    {
     "data": {
      "image/png": "[encoded data removed]",
      "text/plain": [
       "<Figure size 640x480 with 1 Axes>"
      ]
     },
     "metadata": {},
     "output_type": "display_data"
    }
   ],
   "source": [
    "thr = np.percentile(error_df['reconstruction_error'],90)\n",
    "fig=plt.figure()\n",
    "ax=fig.add_subplot(111)\n",
    "error_df_0=error_df[error_df['reconstruction_error']<thr]\n",
    "print(len(error_df_0))\n",
    "_=ax.hist(error_df_0.reconstruction_error.values,bins=10)"
   ]
  },
  {
   "cell_type": "code",
   "execution_count": 27,
   "id": "1365ad31",
   "metadata": {},
   "outputs": [
    {
     "name": "stdout",
     "output_type": "stream",
     "text": [
      "1545\n"
     ]
    },
    {
     "data": {
      "image/png": "[encoded data removed]",
      "text/plain": [
       "<Figure size 640x480 with 1 Axes>"
      ]
     },
     "metadata": {},
     "output_type": "display_data"
    }
   ],
   "source": [
    "fig=plt.figure()\n",
    "ax=fig.add_subplot(111)\n",
    "error_df_1=error_df[error_df['reconstruction_error']>thr]\n",
    "print(len(error_df_1))\n",
    "_=ax.hist(error_df_1.reconstruction_error.values,bins=10)"
   ]
  },
  {
   "cell_type": "code",
   "execution_count": 28,
   "id": "15178511",
   "metadata": {
    "scrolled": true
   },
   "outputs": [
    {
     "data": {
      "image/png": "[encoded data removed]",
      "text/plain": [
       "<Figure size 700x700 with 2 Axes>"
      ]
     },
     "metadata": {},
     "output_type": "display_data"
    }
   ],
   "source": [
    "Y_predict=[1 if e>thr else 0 for e in error_df['reconstruction_error'].values]\n",
    "conf_matrix=confusion_matrix(error_df['Label'],Y_predict)\n",
    "plt.figure(figsize=(7,7))\n",
    "sns.heatmap(conf_matrix, annot=True, fmt='d')\n",
    "plt.title('Confusion Matrix')\n",
    "plt.xlabel('Prediction'); plt.ylabel('True')\n",
    "plt.show()"
   ]
  },
  {
   "cell_type": "code",
   "execution_count": 29,
   "id": "382b2dee",
   "metadata": {},
   "outputs": [
    {
     "data": {
      "text/plain": [
       "(0.9439690301548492, 1.0, 0.9465811965811965, 0.9711770254690284)"
      ]
     },
     "execution_count": 29,
     "metadata": {},
     "output_type": "execute_result"
    }
   ],
   "source": [
    "TP = conf_matrix[0][0]\n",
    "FN = conf_matrix[0][1]\n",
    "FP = conf_matrix[1][0]\n",
    "TN = conf_matrix[1][1]\n",
    "\n",
    "Recall=TP/(TP+FN)\n",
    "Precision = TP/(TP+FP)\n",
    "Accuracy=(TP+TN)/(TP+FP+FN+TN)\n",
    "F1_Score=2*(Recall*Precision)/(Recall+Precision)\n",
    "Recall, Precision, Accuracy, F1_Score"
   ]
  },
  {
   "cell_type": "code",
   "execution_count": 32,
   "id": "27ccfca6",
   "metadata": {},
   "outputs": [
    {
     "data": {
      "image/png": "[encoded data removed]",
      "text/plain": [
       "<Figure size 700x700 with 2 Axes>"
      ]
     },
     "metadata": {},
     "output_type": "display_data"
    }
   ],
   "source": [
    "Y_predict2=[0 if e>thr else 1 for e in error_df['reconstruction_error'].values]\n",
    "error_df['Label2'] = [1 if e==0 else 0 for e in error_df['Label'].values]\n",
    "conf_matrix=confusion_matrix(error_df['Label2'],Y_predict2)\n",
    "plt.figure(figsize=(7,7))\n",
    "sns.heatmap(conf_matrix, annot=True, fmt='d')\n",
    "plt.title('Confusion Matrix')\n",
    "plt.xlabel('Prediction'); plt.ylabel('True')\n",
    "plt.show()"
   ]
  },
  {
   "cell_type": "code",
   "execution_count": 33,
   "id": "00709887",
   "metadata": {},
   "outputs": [
    {
     "data": {
      "text/plain": [
       "(0.9465811965811965,\n",
       " 1.0,\n",
       " 0.9439690301548492,\n",
       " 0.9711770254690284,\n",
       " 0.9719845150774247)"
      ]
     },
     "execution_count": 33,
     "metadata": {},
     "output_type": "execute_result"
    }
   ],
   "source": [
    "accuracy = accuracy_score(error_df['Label2'], Y_predict2)\n",
    "precisioin = precision_score(error_df['Label2'], Y_predict2)\n",
    "recall = recall_score(error_df['Label2'], Y_predict2)\n",
    "f1 = f1_score(error_df['Label2'], Y_predict2)\n",
    "roc_auc = roc_auc_score(error_df['Label2'], Y_predict2)\n",
    "accuracy, precisioin, recall, f1, roc_auc "
   ]
  },
  {
   "cell_type": "code",
   "execution_count": 34,
   "id": "019efa7a",
   "metadata": {
    "scrolled": false
   },
   "outputs": [
    {
     "data": {
      "image/png": "[encoded data removed]",
      "text/plain": [
       "<Figure size 640x480 with 1 Axes>"
      ]
     },
     "metadata": {},
     "output_type": "display_data"
    },
    {
     "data": {
      "text/plain": [
       "0.9719845150774247"
      ]
     },
     "execution_count": 34,
     "metadata": {},
     "output_type": "execute_result"
    }
   ],
   "source": [
    "fpr, tpr, thresholds = roc_curve(error_df['Label2'], Y_predict2)\n",
    "plt.plot([0,1], [0,1], \"b--\", \"r+\")\n",
    "plt.plot(fpr, tpr, label='RandomForest')\n",
    "plt.xlabel('False Positive Rate')\n",
    "plt.ylabel('True Positive Rate')\n",
    "plt.title('Receiver operating characteristic curve(ROC)')\n",
    "plt.show()\n",
    "roc_auc"
   ]
  },
  {
   "cell_type": "code",
   "execution_count": null,
   "id": "7ccce137",
   "metadata": {},
   "outputs": [],
   "source": []
  }
 ],
 "metadata": {
  "kernelspec": {
   "display_name": "Python 3 (ipykernel)",
   "language": "python",
   "name": "python3"
  },
  "language_info": {
   "codemirror_mode": {
    "name": "ipython",
    "version": 3
   },
   "file_extension": ".py",
   "mimetype": "text/x-python",
   "name": "python",
   "nbconvert_exporter": "python",
   "pygments_lexer": "ipython3",
   "version": "3.9.7"
  }
 },
 "nbformat": 4,
 "nbformat_minor": 5
}
