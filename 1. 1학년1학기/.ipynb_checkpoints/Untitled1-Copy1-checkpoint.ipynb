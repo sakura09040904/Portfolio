{
 "cells": [
  {
   "cell_type": "code",
   "execution_count": 1,
   "id": "9415188c",
   "metadata": {},
   "outputs": [],
   "source": [
    "import numpy as np"
   ]
  },
  {
   "cell_type": "code",
   "execution_count": 2,
   "id": "f04a0c5c",
   "metadata": {},
   "outputs": [],
   "source": [
    "# 전가산기에 활용될 논리게이트\n",
    "def AND(x1, x2):\n",
    "    w1, w2, theta = 0.5, 0.5, 0.7\n",
    "    tmp = w1*x1 + w2*x2\n",
    "    if tmp <= theta:\n",
    "        return 0\n",
    "    elif tmp > theta:\n",
    "        return 1\n",
    "    \n",
    "def NAND(x1, x2):\n",
    "    x = np.array([x1,x2])\n",
    "    w = np.array([-0.5,-0.5])\n",
    "    b = 0.7\n",
    "    tmp = np.sum(x*w) + b\n",
    "    if tmp <= 0:\n",
    "        return 0\n",
    "    elif tmp > 0:\n",
    "        return 1\n",
    "    \n",
    "def OR(x1, x2):\n",
    "    x = np.array([x1,x2])\n",
    "    w = np.array([0.5,0.5])\n",
    "    b = -0.2\n",
    "    tmp = np.sum(x*w) + b\n",
    "    if tmp <= 0:\n",
    "        return 0\n",
    "    elif tmp > 0:\n",
    "        return 1\n",
    "    \n",
    "def XOR(x1, x2):\n",
    "    s1 = NAND(x1, x2)\n",
    "    s2 = OR(x1, x2)\n",
    "    y = AND(s1, s2)\n",
    "    return y"
   ]
  },
  {
   "cell_type": "code",
   "execution_count": 3,
   "id": "bc7e0911",
   "metadata": {},
   "outputs": [],
   "source": [
    "# 반가산기 구현함수\n",
    "def half_adder(a,b):\n",
    "    Addsum = XOR(a,b)\n",
    "    carry = AND(a,b)\n",
    "    return Addsum, carry\n",
    "\n",
    "#전가산기 구현함수\n",
    "def full_adder(a,b,c):\n",
    "    sum1, carry1 = half_adder(a,b)\n",
    "    sum2, carry2 = half_adder(sum1,c)\n",
    "    carry = OR(carry1, carry2)\n",
    "    return sum2, carry"
   ]
  },
  {
   "cell_type": "code",
   "execution_count": 4,
   "id": "ced52362",
   "metadata": {},
   "outputs": [
    {
     "name": "stdout",
     "output_type": "stream",
     "text": [
      "(0, 0)\n",
      "(1, 0)\n",
      "(1, 0)\n",
      "(0, 1)\n",
      "(1, 0)\n",
      "(0, 1)\n",
      "(0, 1)\n",
      "(1, 1)\n"
     ]
    }
   ],
   "source": [
    "print(full_adder(0,0,0))\n",
    "print(full_adder(0,0,1))\n",
    "print(full_adder(0,1,0))\n",
    "print(full_adder(0,1,1))\n",
    "print(full_adder(1,0,0))\n",
    "print(full_adder(1,0,1))\n",
    "print(full_adder(1,1,0))\n",
    "print(full_adder(1,1,1))"
   ]
  },
  {
   "cell_type": "code",
   "execution_count": null,
   "id": "d4ae29bf",
   "metadata": {},
   "outputs": [],
   "source": []
  }
 ],
 "metadata": {
  "kernelspec": {
   "display_name": "Python 3 (ipykernel)",
   "language": "python",
   "name": "python3"
  },
  "language_info": {
   "codemirror_mode": {
    "name": "ipython",
    "version": 3
   },
   "file_extension": ".py",
   "mimetype": "text/x-python",
   "name": "python",
   "nbconvert_exporter": "python",
   "pygments_lexer": "ipython3",
   "version": "3.9.7"
  }
 },
 "nbformat": 4,
 "nbformat_minor": 5
}
