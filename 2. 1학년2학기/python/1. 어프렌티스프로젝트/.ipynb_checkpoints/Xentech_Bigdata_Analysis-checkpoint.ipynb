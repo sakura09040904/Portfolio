{
 "cells": [
  {
   "cell_type": "code",
   "execution_count": 1,
   "id": "2e1caa6d",
   "metadata": {},
   "outputs": [],
   "source": [
    "import os\n",
    "import glob\n",
    "import pandas as pd\n",
    "import numpy as np\n",
    "import matplotlib.pyplot as plt\n",
    "import datetime\n",
    "from sklearn import tree\n",
    "import autokeras as ak\n",
    "import seaborn as sns\n",
    "from sklearn.metrics import mean_squared_error\n",
    "from math import sqrt\n",
    "from tensorflow.keras.utils import plot_model\n",
    "from sklearn.model_selection import train_test_split\n",
    "import tensorflow\n",
    "from sklearn.metrics import confusion_matrix\n",
    "from sklearn.metrics import accuracy_score\n",
    "from sklearn.metrics import precision_score\n",
    "from sklearn.metrics import recall_score\n",
    "from sklearn.metrics import f1_score\n",
    "from sklearn.metrics import roc_curve\n",
    "from sklearn.metrics import classification_report"
   ]
  },
  {
   "cell_type": "code",
   "execution_count": 2,
   "id": "7eb499c6",
   "metadata": {},
   "outputs": [
    {
     "data": {
      "text/plain": [
       "'D:\\\\Portfolio\\\\2. 1학년2학기\\\\python\\\\1. 어프렌티스프로젝트\\\\data_Xentech'"
      ]
     },
     "execution_count": 2,
     "metadata": {},
     "output_type": "execute_result"
    }
   ],
   "source": [
    "new_path = os.path.join(os.getcwd(),'data_Xentech')\n",
    "new_path"
   ]
  },
  {
   "cell_type": "code",
   "execution_count": 3,
   "id": "4ebcdca1",
   "metadata": {},
   "outputs": [
    {
     "data": {
      "text/plain": [
       "['D:\\\\Portfolio\\\\2. 1학년2학기\\\\python\\\\1. 어프렌티스프로젝트\\\\data_Xentech\\\\2022.09.06.csv',\n",
       " 'D:\\\\Portfolio\\\\2. 1학년2학기\\\\python\\\\1. 어프렌티스프로젝트\\\\data_Xentech\\\\2022.09.07.csv',\n",
       " 'D:\\\\Portfolio\\\\2. 1학년2학기\\\\python\\\\1. 어프렌티스프로젝트\\\\data_Xentech\\\\2022.09.08.csv',\n",
       " 'D:\\\\Portfolio\\\\2. 1학년2학기\\\\python\\\\1. 어프렌티스프로젝트\\\\data_Xentech\\\\2022.09.09.csv',\n",
       " 'D:\\\\Portfolio\\\\2. 1학년2학기\\\\python\\\\1. 어프렌티스프로젝트\\\\data_Xentech\\\\2022.09.10.csv',\n",
       " 'D:\\\\Portfolio\\\\2. 1학년2학기\\\\python\\\\1. 어프렌티스프로젝트\\\\data_Xentech\\\\2022.09.13.csv',\n",
       " 'D:\\\\Portfolio\\\\2. 1학년2학기\\\\python\\\\1. 어프렌티스프로젝트\\\\data_Xentech\\\\2022.09.14.csv',\n",
       " 'D:\\\\Portfolio\\\\2. 1학년2학기\\\\python\\\\1. 어프렌티스프로젝트\\\\data_Xentech\\\\2022.09.15.csv',\n",
       " 'D:\\\\Portfolio\\\\2. 1학년2학기\\\\python\\\\1. 어프렌티스프로젝트\\\\data_Xentech\\\\2022.09.16.csv',\n",
       " 'D:\\\\Portfolio\\\\2. 1학년2학기\\\\python\\\\1. 어프렌티스프로젝트\\\\data_Xentech\\\\2022.09.17.csv',\n",
       " 'D:\\\\Portfolio\\\\2. 1학년2학기\\\\python\\\\1. 어프렌티스프로젝트\\\\data_Xentech\\\\2022.09.23.csv',\n",
       " 'D:\\\\Portfolio\\\\2. 1학년2학기\\\\python\\\\1. 어프렌티스프로젝트\\\\data_Xentech\\\\2022.09.24.csv',\n",
       " 'D:\\\\Portfolio\\\\2. 1학년2학기\\\\python\\\\1. 어프렌티스프로젝트\\\\data_Xentech\\\\2022.09.27.csv',\n",
       " 'D:\\\\Portfolio\\\\2. 1학년2학기\\\\python\\\\1. 어프렌티스프로젝트\\\\data_Xentech\\\\2022.09.28.csv',\n",
       " 'D:\\\\Portfolio\\\\2. 1학년2학기\\\\python\\\\1. 어프렌티스프로젝트\\\\data_Xentech\\\\2022.09.29.csv',\n",
       " 'D:\\\\Portfolio\\\\2. 1학년2학기\\\\python\\\\1. 어프렌티스프로젝트\\\\data_Xentech\\\\2022.09.30.csv',\n",
       " 'D:\\\\Portfolio\\\\2. 1학년2학기\\\\python\\\\1. 어프렌티스프로젝트\\\\data_Xentech\\\\2022.10.01.csv',\n",
       " 'D:\\\\Portfolio\\\\2. 1학년2학기\\\\python\\\\1. 어프렌티스프로젝트\\\\data_Xentech\\\\2022.10.05.csv',\n",
       " 'D:\\\\Portfolio\\\\2. 1학년2학기\\\\python\\\\1. 어프렌티스프로젝트\\\\data_Xentech\\\\2022.10.06.csv',\n",
       " 'D:\\\\Portfolio\\\\2. 1학년2학기\\\\python\\\\1. 어프렌티스프로젝트\\\\data_Xentech\\\\2022.10.07.csv',\n",
       " 'D:\\\\Portfolio\\\\2. 1학년2학기\\\\python\\\\1. 어프렌티스프로젝트\\\\data_Xentech\\\\2022.10.08.csv',\n",
       " 'D:\\\\Portfolio\\\\2. 1학년2학기\\\\python\\\\1. 어프렌티스프로젝트\\\\data_Xentech\\\\2022.10.12.csv',\n",
       " 'D:\\\\Portfolio\\\\2. 1학년2학기\\\\python\\\\1. 어프렌티스프로젝트\\\\data_Xentech\\\\2022.10.13.csv',\n",
       " 'D:\\\\Portfolio\\\\2. 1학년2학기\\\\python\\\\1. 어프렌티스프로젝트\\\\data_Xentech\\\\2022.10.14.csv',\n",
       " 'D:\\\\Portfolio\\\\2. 1학년2학기\\\\python\\\\1. 어프렌티스프로젝트\\\\data_Xentech\\\\2022.10.15.csv',\n",
       " 'D:\\\\Portfolio\\\\2. 1학년2학기\\\\python\\\\1. 어프렌티스프로젝트\\\\data_Xentech\\\\2022.10.18.csv',\n",
       " 'D:\\\\Portfolio\\\\2. 1학년2학기\\\\python\\\\1. 어프렌티스프로젝트\\\\data_Xentech\\\\2022.10.19.csv',\n",
       " 'D:\\\\Portfolio\\\\2. 1학년2학기\\\\python\\\\1. 어프렌티스프로젝트\\\\data_Xentech\\\\2022.10.20.csv',\n",
       " 'D:\\\\Portfolio\\\\2. 1학년2학기\\\\python\\\\1. 어프렌티스프로젝트\\\\data_Xentech\\\\2022.10.21.csv',\n",
       " 'D:\\\\Portfolio\\\\2. 1학년2학기\\\\python\\\\1. 어프렌티스프로젝트\\\\data_Xentech\\\\2022.10.22.csv',\n",
       " 'D:\\\\Portfolio\\\\2. 1학년2학기\\\\python\\\\1. 어프렌티스프로젝트\\\\data_Xentech\\\\2022.10.25.csv',\n",
       " 'D:\\\\Portfolio\\\\2. 1학년2학기\\\\python\\\\1. 어프렌티스프로젝트\\\\data_Xentech\\\\2022.10.26.csv',\n",
       " 'D:\\\\Portfolio\\\\2. 1학년2학기\\\\python\\\\1. 어프렌티스프로젝트\\\\data_Xentech\\\\2022.10.27.csv',\n",
       " 'D:\\\\Portfolio\\\\2. 1학년2학기\\\\python\\\\1. 어프렌티스프로젝트\\\\data_Xentech\\\\Error Lot list.csv']"
      ]
     },
     "execution_count": 3,
     "metadata": {},
     "output_type": "execute_result"
    }
   ],
   "source": [
    "glob.glob(new_path + '/*')"
   ]
  },
  {
   "cell_type": "code",
   "execution_count": null,
   "id": "1024cc53",
   "metadata": {},
   "outputs": [],
   "source": [
    "dataList = list()\n",
    "\n",
    "for pth in glob.glob(new_path+'/*')[:-1]:\n",
    "    "
   ]
  }
 ],
 "metadata": {
  "kernelspec": {
   "display_name": "Python 3 (ipykernel)",
   "language": "python",
   "name": "python3"
  },
  "language_info": {
   "codemirror_mode": {
    "name": "ipython",
    "version": 3
   },
   "file_extension": ".py",
   "mimetype": "text/x-python",
   "name": "python",
   "nbconvert_exporter": "python",
   "pygments_lexer": "ipython3",
   "version": "3.11.4"
  }
 },
 "nbformat": 4,
 "nbformat_minor": 5
}
