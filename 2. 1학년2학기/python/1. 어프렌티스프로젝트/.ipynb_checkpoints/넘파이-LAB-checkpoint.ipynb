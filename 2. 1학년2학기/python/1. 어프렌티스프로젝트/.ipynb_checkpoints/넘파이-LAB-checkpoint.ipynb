{
 "cells": [
  {
   "cell_type": "code",
   "execution_count": 2,
   "metadata": {},
   "outputs": [
    {
     "name": "stdout",
     "output_type": "stream",
     "text": [
      "C:\\kjy\\인력개발\\2023-2학기-어프렌티스 프로젝트\\강의기초자료\\난생처음 파이썬\\source_4672\\06장\n"
     ]
    }
   ],
   "source": [
    "import os\n",
    "print(os.getcwd())"
   ]
  },
  {
   "cell_type": "code",
   "execution_count": 3,
   "metadata": {
    "id": "8vA_Suf34XT7"
   },
   "outputs": [
    {
     "name": "stdout",
     "output_type": "stream",
     "text": [
      "차원: 2\n",
      "모양: (1795, 4)\n",
      "원소 수: 7180\n",
      "[[1.000e+00 2.016e+03 6.300e-01 3.750e+00]\n",
      " [2.000e+00 2.015e+03 7.000e-01 2.750e+00]\n",
      " [3.000e+00 2.015e+03 7.000e-01 3.000e+00]\n",
      " ...\n",
      " [1.793e+03 2.011e+03 6.500e-01 3.500e+00]\n",
      " [1.794e+03 2.011e+03 6.200e-01 3.250e+00]\n",
      " [1.795e+03 2.010e+03 6.500e-01 3.000e+00]]\n"
     ]
    }
   ],
   "source": [
    "import numpy as np\n",
    "data = np.loadtxt('chocolate_rating.csv', delimiter=',')\n",
    "print('차원:', data.ndim)\n",
    "print('모양:', data.shape)\n",
    "print('원소 수:', data.size)\n",
    "print(data)"
   ]
  },
  {
   "cell_type": "code",
   "execution_count": 13,
   "metadata": {},
   "outputs": [
    {
     "data": {
      "text/plain": [
       "(1795, 4)"
      ]
     },
     "execution_count": 13,
     "metadata": {},
     "output_type": "execute_result"
    }
   ],
   "source": [
    "data.shape"
   ]
  },
  {
   "cell_type": "code",
   "execution_count": 4,
   "metadata": {
    "id": "kX6h26Pt5KT0"
   },
   "outputs": [
    {
     "name": "stdout",
     "output_type": "stream",
     "text": [
      "3.185933147632312\n"
     ]
    }
   ],
   "source": [
    "ratings_mean = data[:,3].mean()\n",
    "print(ratings_mean)"
   ]
  },
  {
   "cell_type": "code",
   "execution_count": 5,
   "metadata": {
    "id": "YC_fpcYA5hxt"
   },
   "outputs": [
    {
     "name": "stdout",
     "output_type": "stream",
     "text": [
      "우수 초콜릿 수: 100\n",
      "[  10   18   21   55   57   77   78   79   84   87   88   93  108  109\n",
      "  118  124  153  180  181  187  223  232  233  240  243  244  245  248\n",
      "  257  312  316  317  358  437  503  567  573  574  582  601  650  687\n",
      "  690  691  701  720  730  800  828  862  864  865  866  883  919  993\n",
      " 1088 1089 1118 1119 1120 1204 1241 1245 1247 1274 1277 1278 1289 1291\n",
      " 1293 1295 1323 1331 1336 1378 1394 1426 1428 1433 1479 1488 1513 1516\n",
      " 1529 1530 1531 1533 1536 1537 1544 1545 1664 1683 1686 1688 1694 1700\n",
      " 1740 1757]\n"
     ]
    }
   ],
   "source": [
    "high_level = data[data[:,3] >= 4]\n",
    "high_id = high_level[:,0].astype(np.int64)\n",
    "print('우수 초콜릿 수:', high_id.size)\n",
    "print(high_id)"
   ]
  },
  {
   "cell_type": "code",
   "execution_count": 14,
   "metadata": {},
   "outputs": [
    {
     "data": {
      "text/plain": [
       "numpy.ndarray"
      ]
     },
     "execution_count": 14,
     "metadata": {},
     "output_type": "execute_result"
    }
   ],
   "source": [
    "type(high_id)"
   ]
  },
  {
   "cell_type": "code",
   "execution_count": 6,
   "metadata": {
    "id": "tPZILWO-5hvw"
   },
   "outputs": [
    {
     "name": "stdout",
     "output_type": "stream",
     "text": [
      "카카오 함유량: [0.6  0.63 0.64 0.65 0.66 0.67 0.68 0.69 0.7  0.71 0.72 0.73 0.74 0.75\n",
      " 0.78 0.8  0.88]\n",
      "함유량별 빈도수: [ 1  3  4  2  1  3  2  2 45  1 11  1  4 17  1  1  1]\n"
     ]
    }
   ],
   "source": [
    "high_kakao = high_level[:,2]\n",
    "unique_values, value_counts = np.unique(high_kakao, return_counts=True)\n",
    "print('카카오 함유량:', unique_values)\n",
    "print('함유량별 빈도수:', value_counts)"
   ]
  },
  {
   "cell_type": "code",
   "execution_count": 7,
   "metadata": {
    "id": "TmjSDCNP5hty"
   },
   "outputs": [
    {
     "name": "stdout",
     "output_type": "stream",
     "text": [
      "0.7\n",
      "우수 초콜릿 100 가지 중 45 가지의 카카오 함유량이 70.0 %입니다.\n"
     ]
    }
   ],
   "source": [
    "max_index = np.argmax(value_counts)\n",
    "print(unique_values[max_index])\n",
    "print('우수 초콜릿', high_id.size, '가지 중', value_counts[max_index],\\\n",
    "      '가지의 카카오 함유량이', unique_values[max_index] * 100, '%입니다.')"
   ]
  },
  {
   "cell_type": "code",
   "execution_count": null,
   "metadata": {},
   "outputs": [],
   "source": []
  }
 ],
 "metadata": {
  "colab": {
   "authorship_tag": "ABX9TyMM4lixDGVtVOBn54ITjJPk",
   "provenance": []
  },
  "kernelspec": {
   "display_name": "Python 3 (ipykernel)",
   "language": "python",
   "name": "python3"
  },
  "language_info": {
   "codemirror_mode": {
    "name": "ipython",
    "version": 3
   },
   "file_extension": ".py",
   "mimetype": "text/x-python",
   "name": "python",
   "nbconvert_exporter": "python",
   "pygments_lexer": "ipython3",
   "version": "3.11.5"
  }
 },
 "nbformat": 4,
 "nbformat_minor": 4
}
