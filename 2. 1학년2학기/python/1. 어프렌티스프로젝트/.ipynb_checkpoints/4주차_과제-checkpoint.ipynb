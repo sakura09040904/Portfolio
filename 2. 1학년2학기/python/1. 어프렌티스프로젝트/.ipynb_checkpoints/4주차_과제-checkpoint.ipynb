{
 "cells": [
  {
   "cell_type": "markdown",
   "id": "1ba725da",
   "metadata": {},
   "source": [
    "<과제-1: 타이타닉 생존자 데이터 탐색>\n",
    "1.\t수업시간에 강의자료와 함께 배포한 \"titanic.csv\" 파일을 DataFrame “df”로 저장한 후 아래 데이터 탐색과 시각화에 대한 솔루션 코드와 계산 결과를 jupyter notebook파일로 제출하시오.\n",
    "I.\tDataFrame 데이터 탐색\n",
    "1.\t생존자 중 몇 명인지 계산하세요.\n",
    "2.\t항구 \"S\"에서 탑승한 승객 수를 계산하세요.\n",
    "3.\t남성 승객 수를 계산하세요.\n",
    "4.\t3등실에 탑승하고 지불한 요금이 40.000 미만인 승객 수를 계산하세요.\n",
    "5.\t승객 ID가 674인 승객의 이름을 찾아보세요.\n",
    "6.\t승객들의 평균 나이를 계산하세요.\n",
    "7.\t생존자와 사망자의 수를 각각 계산하세요.\n",
    "8.\t남성과 여성 승객 수를 계산하세요.\n",
    "9.\t각 성별에 따른 생존자와 사망자의 수를 계산하세요.[DataFrame. groupby() 함수 이용]\n",
    "10.\t각 등급별로 생존한 사람과 사망한 사람의 평균 지불 요금을 계산하세요[(DataFrame.pivot_table() 함수 이용)\n",
    "\n",
    "II.\tDataFrame 데이터 시각화\n",
    "1.\t탑승자의 생존 여부에 대한 비율을 계산하고, 이 비율을 막대 그래프로 시각화.\n",
    "2.\t나이 열의 분포를 20개의 구간(bin)으로 나누어 히스토그램으로 시각화\n",
    "3.\t나이와 요금 간의 산점도 시각화\n",
    "4.\t객실 등급(Pclass)별로 생존자와 사망자 수를 막대그래프로 시각화."
   ]
  },
  {
   "cell_type": "code",
   "execution_count": 1,
   "id": "b481cf86",
   "metadata": {},
   "outputs": [],
   "source": [
    "import pandas as pd"
   ]
  },
  {
   "cell_type": "code",
   "execution_count": 2,
   "id": "c9f32660",
   "metadata": {},
   "outputs": [
    {
     "data": {
      "text/html": [
       "<div>\n",
       "<style scoped>\n",
       "    .dataframe tbody tr th:only-of-type {\n",
       "        vertical-align: middle;\n",
       "    }\n",
       "\n",
       "    .dataframe tbody tr th {\n",
       "        vertical-align: top;\n",
       "    }\n",
       "\n",
       "    .dataframe thead th {\n",
       "        text-align: right;\n",
       "    }\n",
       "</style>\n",
       "<table border=\"1\" class=\"dataframe\">\n",
       "  <thead>\n",
       "    <tr style=\"text-align: right;\">\n",
       "      <th></th>\n",
       "      <th>PassengerId</th>\n",
       "      <th>Survived</th>\n",
       "      <th>Pclass</th>\n",
       "      <th>Name</th>\n",
       "      <th>Sex</th>\n",
       "      <th>Age</th>\n",
       "      <th>SibSp</th>\n",
       "      <th>Parch</th>\n",
       "      <th>Ticket</th>\n",
       "      <th>Fare</th>\n",
       "      <th>Cabin</th>\n",
       "      <th>Embarked</th>\n",
       "    </tr>\n",
       "  </thead>\n",
       "  <tbody>\n",
       "    <tr>\n",
       "      <th>0</th>\n",
       "      <td>1</td>\n",
       "      <td>0</td>\n",
       "      <td>3</td>\n",
       "      <td>Braund, Mr. Owen Harris</td>\n",
       "      <td>male</td>\n",
       "      <td>22.0</td>\n",
       "      <td>1</td>\n",
       "      <td>0</td>\n",
       "      <td>A/5 21171</td>\n",
       "      <td>7.2500</td>\n",
       "      <td>NaN</td>\n",
       "      <td>S</td>\n",
       "    </tr>\n",
       "    <tr>\n",
       "      <th>1</th>\n",
       "      <td>2</td>\n",
       "      <td>1</td>\n",
       "      <td>1</td>\n",
       "      <td>Cumings, Mrs. John Bradley (Florence Briggs Th...</td>\n",
       "      <td>female</td>\n",
       "      <td>38.0</td>\n",
       "      <td>1</td>\n",
       "      <td>0</td>\n",
       "      <td>PC 17599</td>\n",
       "      <td>71.2833</td>\n",
       "      <td>C85</td>\n",
       "      <td>C</td>\n",
       "    </tr>\n",
       "    <tr>\n",
       "      <th>2</th>\n",
       "      <td>3</td>\n",
       "      <td>1</td>\n",
       "      <td>3</td>\n",
       "      <td>Heikkinen, Miss. Laina</td>\n",
       "      <td>female</td>\n",
       "      <td>26.0</td>\n",
       "      <td>0</td>\n",
       "      <td>0</td>\n",
       "      <td>STON/O2. 3101282</td>\n",
       "      <td>7.9250</td>\n",
       "      <td>NaN</td>\n",
       "      <td>S</td>\n",
       "    </tr>\n",
       "    <tr>\n",
       "      <th>3</th>\n",
       "      <td>4</td>\n",
       "      <td>1</td>\n",
       "      <td>1</td>\n",
       "      <td>Futrelle, Mrs. Jacques Heath (Lily May Peel)</td>\n",
       "      <td>female</td>\n",
       "      <td>35.0</td>\n",
       "      <td>1</td>\n",
       "      <td>0</td>\n",
       "      <td>113803</td>\n",
       "      <td>53.1000</td>\n",
       "      <td>C123</td>\n",
       "      <td>S</td>\n",
       "    </tr>\n",
       "    <tr>\n",
       "      <th>4</th>\n",
       "      <td>5</td>\n",
       "      <td>0</td>\n",
       "      <td>3</td>\n",
       "      <td>Allen, Mr. William Henry</td>\n",
       "      <td>male</td>\n",
       "      <td>35.0</td>\n",
       "      <td>0</td>\n",
       "      <td>0</td>\n",
       "      <td>373450</td>\n",
       "      <td>8.0500</td>\n",
       "      <td>NaN</td>\n",
       "      <td>S</td>\n",
       "    </tr>\n",
       "  </tbody>\n",
       "</table>\n",
       "</div>"
      ],
      "text/plain": [
       "   PassengerId  Survived  Pclass  \\\n",
       "0            1         0       3   \n",
       "1            2         1       1   \n",
       "2            3         1       3   \n",
       "3            4         1       1   \n",
       "4            5         0       3   \n",
       "\n",
       "                                                Name     Sex   Age  SibSp  \\\n",
       "0                            Braund, Mr. Owen Harris    male  22.0      1   \n",
       "1  Cumings, Mrs. John Bradley (Florence Briggs Th...  female  38.0      1   \n",
       "2                             Heikkinen, Miss. Laina  female  26.0      0   \n",
       "3       Futrelle, Mrs. Jacques Heath (Lily May Peel)  female  35.0      1   \n",
       "4                           Allen, Mr. William Henry    male  35.0      0   \n",
       "\n",
       "   Parch            Ticket     Fare Cabin Embarked  \n",
       "0      0         A/5 21171   7.2500   NaN        S  \n",
       "1      0          PC 17599  71.2833   C85        C  \n",
       "2      0  STON/O2. 3101282   7.9250   NaN        S  \n",
       "3      0            113803  53.1000  C123        S  \n",
       "4      0            373450   8.0500   NaN        S  "
      ]
     },
     "execution_count": 2,
     "metadata": {},
     "output_type": "execute_result"
    }
   ],
   "source": [
    "df=pd.read_csv(\"titanic.csv\", sep=\",\")\n",
    "df.head()"
   ]
  },
  {
   "cell_type": "markdown",
   "id": "b0dd8305",
   "metadata": {},
   "source": [
    "1.\t생존자 중 몇 명인지 계산하세요 : 342명"
   ]
  },
  {
   "cell_type": "code",
   "execution_count": 3,
   "id": "abffb11f",
   "metadata": {},
   "outputs": [
    {
     "data": {
      "text/plain": [
       "0    549\n",
       "1    342\n",
       "Name: Survived, dtype: int64"
      ]
     },
     "execution_count": 3,
     "metadata": {},
     "output_type": "execute_result"
    }
   ],
   "source": [
    "df['Survived'].value_counts()"
   ]
  },
  {
   "cell_type": "markdown",
   "id": "3b920d35",
   "metadata": {},
   "source": [
    "2.\t항구 \"S\"에서 탑승한 승객 수를 계산하세요 : 644명"
   ]
  },
  {
   "cell_type": "code",
   "execution_count": 4,
   "id": "17f77419",
   "metadata": {},
   "outputs": [
    {
     "data": {
      "text/plain": [
       "644"
      ]
     },
     "execution_count": 4,
     "metadata": {},
     "output_type": "execute_result"
    }
   ],
   "source": [
    "num_s = df[\"Embarked\"].value_counts()['S']\n",
    "num_s"
   ]
  },
  {
   "cell_type": "markdown",
   "id": "2d2e3d46",
   "metadata": {},
   "source": [
    "3.\t남성 승객 수를 계산하세요 : 577명"
   ]
  },
  {
   "cell_type": "code",
   "execution_count": 5,
   "id": "234d0225",
   "metadata": {},
   "outputs": [
    {
     "data": {
      "text/plain": [
       "577"
      ]
     },
     "execution_count": 5,
     "metadata": {},
     "output_type": "execute_result"
    }
   ],
   "source": [
    "num_man = df[\"Sex\"].value_counts()['male']\n",
    "num_man"
   ]
  },
  {
   "cell_type": "markdown",
   "id": "54a6e8f0",
   "metadata": {},
   "source": [
    "4.\t3등실에 탑승하고 지불한 요금이 40.000 미만인 승객 수를 계산하세요 : 471명"
   ]
  },
  {
   "cell_type": "code",
   "execution_count": 6,
   "id": "03ac805c",
   "metadata": {},
   "outputs": [
    {
     "data": {
      "text/plain": [
       "3    471\n",
       "2    174\n",
       "1     70\n",
       "Name: Pclass, dtype: int64"
      ]
     },
     "execution_count": 6,
     "metadata": {},
     "output_type": "execute_result"
    }
   ],
   "source": [
    "df['Pclass'][df['Fare'] < 40].value_counts()"
   ]
  },
  {
   "cell_type": "markdown",
   "id": "4cf2144e",
   "metadata": {},
   "source": [
    "5.\t승객 ID가 674인 승객의 이름을 찾아보세요 : Wilhelms, Mr. Charles"
   ]
  },
  {
   "cell_type": "code",
   "execution_count": 7,
   "id": "2c6e93ee",
   "metadata": {},
   "outputs": [
    {
     "data": {
      "text/html": [
       "<div>\n",
       "<style scoped>\n",
       "    .dataframe tbody tr th:only-of-type {\n",
       "        vertical-align: middle;\n",
       "    }\n",
       "\n",
       "    .dataframe tbody tr th {\n",
       "        vertical-align: top;\n",
       "    }\n",
       "\n",
       "    .dataframe thead th {\n",
       "        text-align: right;\n",
       "    }\n",
       "</style>\n",
       "<table border=\"1\" class=\"dataframe\">\n",
       "  <thead>\n",
       "    <tr style=\"text-align: right;\">\n",
       "      <th></th>\n",
       "      <th>PassengerId</th>\n",
       "      <th>Name</th>\n",
       "    </tr>\n",
       "  </thead>\n",
       "  <tbody>\n",
       "    <tr>\n",
       "      <th>673</th>\n",
       "      <td>674</td>\n",
       "      <td>Wilhelms, Mr. Charles</td>\n",
       "    </tr>\n",
       "  </tbody>\n",
       "</table>\n",
       "</div>"
      ],
      "text/plain": [
       "     PassengerId                   Name\n",
       "673          674  Wilhelms, Mr. Charles"
      ]
     },
     "execution_count": 7,
     "metadata": {},
     "output_type": "execute_result"
    }
   ],
   "source": [
    "name = df.loc[df[\"PassengerId\"]==674, [\"PassengerId\", \"Name\"]]\n",
    "name.head()"
   ]
  },
  {
   "cell_type": "markdown",
   "id": "98ba2bcd",
   "metadata": {},
   "source": [
    "6.\t승객들의 평균 나이를 계산하세요 : 29.6세"
   ]
  },
  {
   "cell_type": "code",
   "execution_count": 8,
   "id": "6658dcb0",
   "metadata": {},
   "outputs": [
    {
     "data": {
      "text/plain": [
       "29.69911764705882"
      ]
     },
     "execution_count": 8,
     "metadata": {},
     "output_type": "execute_result"
    }
   ],
   "source": [
    "df['Age'].mean()"
   ]
  },
  {
   "cell_type": "markdown",
   "id": "251ae8ac",
   "metadata": {},
   "source": [
    "7.\t생존자와 사망자의 수를 각각 계산하세요 : 생존자 342명 / 사망자 549명"
   ]
  },
  {
   "cell_type": "code",
   "execution_count": 9,
   "id": "d7297fe3",
   "metadata": {},
   "outputs": [
    {
     "data": {
      "text/plain": [
       "0    549\n",
       "1    342\n",
       "Name: Survived, dtype: int64"
      ]
     },
     "execution_count": 9,
     "metadata": {},
     "output_type": "execute_result"
    }
   ],
   "source": [
    "df['Survived'].value_counts()"
   ]
  },
  {
   "cell_type": "markdown",
   "id": "175dd8d5",
   "metadata": {},
   "source": [
    "8.\t남성과 여성 승객 수를 계산하세요 : 남자 577명 / 여자 314명"
   ]
  },
  {
   "cell_type": "code",
   "execution_count": 10,
   "id": "299723f5",
   "metadata": {},
   "outputs": [
    {
     "data": {
      "text/plain": [
       "male      577\n",
       "female    314\n",
       "Name: Sex, dtype: int64"
      ]
     },
     "execution_count": 10,
     "metadata": {},
     "output_type": "execute_result"
    }
   ],
   "source": [
    "df['Sex'].value_counts()"
   ]
  },
  {
   "cell_type": "markdown",
   "id": "5abeefcd",
   "metadata": {},
   "source": [
    "9.\t각 성별에 따른 생존자와 사망자의 수를 계산하세요.[DataFrame. groupby() 함수 이용] \n",
    ": 여성 - 사망 81명 / 생존 233명, 남자 - 사망 468명 / 생존 109명"
   ]
  },
  {
   "cell_type": "code",
   "execution_count": 11,
   "id": "0c01dfca",
   "metadata": {},
   "outputs": [
    {
     "data": {
      "text/plain": [
       "Sex     Survived\n",
       "female  1           233\n",
       "        0            81\n",
       "male    0           468\n",
       "        1           109\n",
       "Name: Survived, dtype: int64"
      ]
     },
     "execution_count": 11,
     "metadata": {},
     "output_type": "execute_result"
    }
   ],
   "source": [
    "grouped = df.groupby('Sex') \n",
    "grouped['Survived'].value_counts()"
   ]
  },
  {
   "cell_type": "markdown",
   "id": "f4468e86",
   "metadata": {},
   "source": [
    "10.\t각 등급별로 생존한 사람과 사망한 사람의 평균 지불 요금을 계산하세요(DataFrame.pivot_table() 함수 이용)\n",
    ": 1등급 - 사망 64 / 생존 95, \n",
    "  2등급 - 사망 19 / 생존 22, \n",
    "  3등급 - 사망 13 / 생존 13"
   ]
  },
  {
   "cell_type": "code",
   "execution_count": 12,
   "id": "278e3d9c",
   "metadata": {},
   "outputs": [
    {
     "data": {
      "text/html": [
       "<div>\n",
       "<style scoped>\n",
       "    .dataframe tbody tr th:only-of-type {\n",
       "        vertical-align: middle;\n",
       "    }\n",
       "\n",
       "    .dataframe tbody tr th {\n",
       "        vertical-align: top;\n",
       "    }\n",
       "\n",
       "    .dataframe thead th {\n",
       "        text-align: right;\n",
       "    }\n",
       "</style>\n",
       "<table border=\"1\" class=\"dataframe\">\n",
       "  <thead>\n",
       "    <tr style=\"text-align: right;\">\n",
       "      <th>Survived</th>\n",
       "      <th>0</th>\n",
       "      <th>1</th>\n",
       "    </tr>\n",
       "    <tr>\n",
       "      <th>Pclass</th>\n",
       "      <th></th>\n",
       "      <th></th>\n",
       "    </tr>\n",
       "  </thead>\n",
       "  <tbody>\n",
       "    <tr>\n",
       "      <th>1</th>\n",
       "      <td>64.684007</td>\n",
       "      <td>95.608029</td>\n",
       "    </tr>\n",
       "    <tr>\n",
       "      <th>2</th>\n",
       "      <td>19.412328</td>\n",
       "      <td>22.055700</td>\n",
       "    </tr>\n",
       "    <tr>\n",
       "      <th>3</th>\n",
       "      <td>13.669364</td>\n",
       "      <td>13.694887</td>\n",
       "    </tr>\n",
       "  </tbody>\n",
       "</table>\n",
       "</div>"
      ],
      "text/plain": [
       "Survived          0          1\n",
       "Pclass                        \n",
       "1         64.684007  95.608029\n",
       "2         19.412328  22.055700\n",
       "3         13.669364  13.694887"
      ]
     },
     "execution_count": 12,
     "metadata": {},
     "output_type": "execute_result"
    }
   ],
   "source": [
    "p_df = pd.pivot_table(df,index = 'Pclass',columns = 'Survived',  values = 'Fare', aggfunc = 'mean')                    \n",
    "p_df"
   ]
  },
  {
   "cell_type": "markdown",
   "id": "fd230bb3",
   "metadata": {},
   "source": [
    "II.\tDataFrame 데이터 시각화\n",
    "1.\t탑승자의 생존 여부에 대한 비율을 계산하고, 이 비율을 막대 그래프로 시각화."
   ]
  },
  {
   "cell_type": "code",
   "execution_count": 13,
   "id": "09c24440",
   "metadata": {},
   "outputs": [
    {
     "data": {
      "text/plain": [
       "<BarContainer object of 2 artists>"
      ]
     },
     "execution_count": 13,
     "metadata": {},
     "output_type": "execute_result"
    },
    {
     "data": {
      "image/png": "[encoded data removed]",
      "text/plain": [
       "<Figure size 640x480 with 1 Axes>"
      ]
     },
     "metadata": {},
     "output_type": "display_data"
    }
   ],
   "source": [
    "import matplotlib.pyplot as plt\n",
    "x = ['Dead','Survived']\n",
    "value = (df['Survived'].value_counts())/(df['Survived'].count())\n",
    "\n",
    "plt.bar(x, value, color='b')"
   ]
  },
  {
   "cell_type": "markdown",
   "id": "df90c677",
   "metadata": {},
   "source": [
    "2.\t나이 열의 분포를 20개의 구간(bin)으로 나누어 히스토그램으로 시각화"
   ]
  },
  {
   "cell_type": "code",
   "execution_count": 14,
   "id": "eccfff67",
   "metadata": {},
   "outputs": [
    {
     "data": {
      "image/png": "[encoded data removed]",
      "text/plain": [
       "<Figure size 640x480 with 1 Axes>"
      ]
     },
     "metadata": {},
     "output_type": "display_data"
    }
   ],
   "source": [
    "plt.hist(df['Age'], label='bins=20')\n",
    "plt.legend()\n",
    "plt.show()"
   ]
  },
  {
   "cell_type": "markdown",
   "id": "cf56b9f6",
   "metadata": {},
   "source": [
    "3.\t나이와 요금 간의 산점도 시각화"
   ]
  },
  {
   "cell_type": "code",
   "execution_count": 15,
   "id": "a2947d15",
   "metadata": {},
   "outputs": [
    {
     "data": {
      "image/png": "[encoded data removed]",
      "text/plain": [
       "<Figure size 640x480 with 1 Axes>"
      ]
     },
     "metadata": {},
     "output_type": "display_data"
    }
   ],
   "source": [
    "df.plot(kind=\"scatter\", x=\"Age\", y=\"Fare\", grid=True)\n",
    "plt.show()"
   ]
  },
  {
   "cell_type": "markdown",
   "id": "7e3ce8d4",
   "metadata": {},
   "source": [
    "4.\t객실 등급(Pclass)별로 생존자와 사망자 수를 막대그래프로 시각화."
   ]
  },
  {
   "cell_type": "code",
   "execution_count": 16,
   "id": "3690385c",
   "metadata": {},
   "outputs": [
    {
     "data": {
      "image/png": "[encoded data removed]",
      "text/plain": [
       "<Figure size 640x480 with 1 Axes>"
      ]
     },
     "metadata": {},
     "output_type": "display_data"
    }
   ],
   "source": [
    "import seaborn as sns\n",
    "\n",
    "sns.countplot(x='Pclass',hue='Survived',data=df)\n",
    "plt.title('Pclass vs Survived')\n",
    "plt.show()"
   ]
  },
  {
   "cell_type": "code",
   "execution_count": null,
   "id": "5bffe099",
   "metadata": {},
   "outputs": [],
   "source": []
  }
 ],
 "metadata": {
  "kernelspec": {
   "display_name": "Python 3 (ipykernel)",
   "language": "python",
   "name": "python3"
  },
  "language_info": {
   "codemirror_mode": {
    "name": "ipython",
    "version": 3
   },
   "file_extension": ".py",
   "mimetype": "text/x-python",
   "name": "python",
   "nbconvert_exporter": "python",
   "pygments_lexer": "ipython3",
   "version": "3.11.4"
  }
 },
 "nbformat": 4,
 "nbformat_minor": 5
}
