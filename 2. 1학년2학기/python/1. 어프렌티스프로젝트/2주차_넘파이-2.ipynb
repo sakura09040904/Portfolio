{
 "cells": [
  {
   "cell_type": "markdown",
   "metadata": {
    "id": "86kbxZSgpIgW"
   },
   "source": [
    "### **1. 넘파이 배열 생성**"
   ]
  },
  {
   "cell_type": "code",
   "execution_count": null,
   "metadata": {
    "id": "EIQqx2OLdHHH"
   },
   "outputs": [],
   "source": [
    "#코드 2-1\n",
    "import numpy as np\n",
    "\n",
    "#리스트를 생성하고 배열로 변환하기\n",
    "list1 = [1, 2, 3, 4]\n",
    "a = np.array(list1)\n",
    "print('a.shape: ', a.shape)\n",
    "print('a[0]: ', a[0])\n",
    "\n",
    "#2차원 배열 생성하기\n",
    "b = np.array([[1, 2, 3], [4, 5, 6]])\n",
    "print('b.shape: ', b.shape)\n",
    "print('b[0,0]: ', b[0,0])\n",
    "print('b[0]: ', b[0])"
   ]
  },
  {
   "cell_type": "code",
   "execution_count": null,
   "metadata": {
    "id": "DlMRazoYe437"
   },
   "outputs": [],
   "source": [
    "#코드 2-2\n",
    "a = np.zeros(2)\n",
    "print('a\\n', a)\n",
    "b = np.zeros((2,2))\n",
    "print('b\\n', b)\n",
    "c = np.ones((2,3))\n",
    "print('c\\n', c)\n",
    "d = np.full((2,3), 5)\n",
    "print('d\\n', d)\n",
    "e = np.eye(3)\n",
    "print('e\\n', e)"
   ]
  },
  {
   "cell_type": "code",
   "execution_count": null,
   "metadata": {
    "id": "nXhXM08Ye_GP"
   },
   "outputs": [],
   "source": [
    "#코드 2-3\n",
    "#실수형 배열 생성하기\n",
    "a = np.array([1, 2], dtype=np.float64)\n",
    "print(a.dtype)\n",
    "\n",
    "#정수형 배열로 변환하기\n",
    "a_i8 = a.astype(np.int8)\n",
    "print(a_i8.dtype)"
   ]
  },
  {
   "cell_type": "code",
   "execution_count": null,
   "metadata": {
    "id": "brgig0Q9fseP"
   },
   "outputs": [],
   "source": [
    "#코드 2-4\n",
    "arr = np.array([[0, 1, 2], [3, 4, 5]])\n",
    "\n",
    "print('type(arr):',type(arr))\n",
    "print('arr.ndim:',arr.ndim)\n",
    "print('arr.dtype:',arr.dtype)\n",
    "print('arr.itemsize:',arr.itemsize)\n",
    "print('arr.size:',arr.size)\n",
    "print('arr.nbytes:',arr.nbytes)\n",
    "print('arr.T:\\n',arr.T)\n",
    "print('arr.shape:',arr.shape)"
   ]
  },
  {
   "cell_type": "code",
   "execution_count": null,
   "metadata": {
    "id": "yrE4CI1shOVr"
   },
   "outputs": [],
   "source": [
    "#코드 2-5\n",
    "#1차원 배열 생성하기\n",
    "a = np.arange(8)\n",
    "print('a\\n', a)\n",
    "\n",
    "#다차원 배열로 변경하기\n",
    "a.shape = (2,4)\n",
    "print('shape\\n', a)\n",
    "\n",
    "#1차원 배열로 변경하기\n",
    "print('flatten\\n', a.flatten())\n",
    "\n",
    "#resize 함수로 모양 변경하기\n",
    "a.resize((4,2))\n",
    "print('resize\\n', a)"
   ]
  },
  {
   "cell_type": "code",
   "execution_count": null,
   "metadata": {
    "id": "RlRodY8Ji1YX"
   },
   "outputs": [],
   "source": [
    "#코드 2-6\n",
    "a = np.array([[0, 1, 2], [3, 4, 5]])\n",
    "print('a\\n', a)\n",
    "\n",
    "b = a.transpose()\n",
    "print('b\\n', b)\n",
    "c = a.T\n",
    "print('c\\n', c)"
   ]
  },
  {
   "cell_type": "markdown",
   "metadata": {
    "id": "eQNGPseMra2P"
   },
   "source": [
    "### **2. 배열 원소 조회 및 정렬**"
   ]
  },
  {
   "cell_type": "code",
   "execution_count": null,
   "metadata": {
    "id": "hi0sEWQxgAZ-"
   },
   "outputs": [],
   "source": [
    "#코드 2-7\n",
    "mask = np.array([0, 1, 1, 0], dtype=bool)\n",
    "print(mask)\n",
    "\n",
    "data = np.random.randn(4,2)\n",
    "print('\\ndata 출력\\n',data) #랜덤 데이터 배열 data는 책과 다르게 나타남\n",
    "\n",
    "print('\\n마스킹된 데이터 출력\\n',data[mask])\n",
    "print('\\n마스킹 역전된 데이터 출력\\n',data[~mask])"
   ]
  },
  {
   "cell_type": "code",
   "execution_count": null,
   "metadata": {
    "id": "kL5QakYRg7YJ"
   },
   "outputs": [],
   "source": [
    "#코드 2-8\n",
    "posit = data[data > 0]\n",
    "print('양수 데이터 출력', '\\n',posit)\n",
    "\n",
    "#다중 조건\n",
    "over1 = data[1][data[1] > 0]\n",
    "print('두 번째 행의 양수 데이터 출력','\\n',over1)"
   ]
  },
  {
   "cell_type": "code",
   "execution_count": null,
   "metadata": {
    "id": "ZixHiGU1j8QN"
   },
   "outputs": [],
   "source": [
    "#코드 2-9\n",
    "a = np.arange(6)\n",
    "b = a\n",
    "print(a)\n",
    "print(b is a)\n",
    "\n",
    "b[0] = 10\n",
    "print(a)"
   ]
  },
  {
   "cell_type": "code",
   "execution_count": null,
   "metadata": {
    "id": "pZokePGDkpiE"
   },
   "outputs": [],
   "source": [
    "#코드 2-10\n",
    "a = np.arange(6)\n",
    "c = a.copy()\n",
    "\n",
    "c[0] = 20\n",
    "print('A: ', a)\n",
    "print('C: ', c)"
   ]
  },
  {
   "cell_type": "code",
   "execution_count": null,
   "metadata": {
    "colab": {
     "base_uri": "https://localhost:8080/"
    },
    "executionInfo": {
     "elapsed": 24,
     "status": "ok",
     "timestamp": 1678324715614,
     "user": {
      "displayName": "안비단",
      "userId": "14578315619824770276"
     },
     "user_tz": -540
    },
    "id": "uexuKioWkuJ8",
    "outputId": "8f8e475d-3d88-4bf5-ceeb-556d5d522331"
   },
   "outputs": [
    {
     "name": "stdout",
     "output_type": "stream",
     "text": [
      "원본\n",
      " [3 2 5 1 4]\n",
      "정렬 후\n",
      " [1 2 3 4 5]\n",
      "원본\n",
      " [3 2 5 1 4]\n",
      "정렬한 인덱스\n",
      " [3 1 0 4 2]\n",
      "원본\n",
      " [1 2 3 4 5]\n"
     ]
    }
   ],
   "source": [
    "#코드 2-11\n",
    "a = np.array([3, 2, 5, 1, 4])\n",
    "\n",
    "print('원본\\n',a)\n",
    "print('정렬 후\\n',np.sort(a))\n",
    "\n",
    "print('원본\\n',a)\n",
    "print('정렬한 인덱스\\n',np.argsort(a))\n",
    "\n",
    "a.sort()\n",
    "print('원본\\n',a)"
   ]
  }
 ],
 "metadata": {
  "colab": {
   "authorship_tag": "ABX9TyM0ag2ez3md0ZFuk07r40lb",
   "provenance": []
  },
  "kernelspec": {
   "display_name": "Python 3 (ipykernel)",
   "language": "python",
   "name": "python3"
  },
  "language_info": {
   "codemirror_mode": {
    "name": "ipython",
    "version": 3
   },
   "file_extension": ".py",
   "mimetype": "text/x-python",
   "name": "python",
   "nbconvert_exporter": "python",
   "pygments_lexer": "ipython3",
   "version": "3.11.5"
  }
 },
 "nbformat": 4,
 "nbformat_minor": 4
}
