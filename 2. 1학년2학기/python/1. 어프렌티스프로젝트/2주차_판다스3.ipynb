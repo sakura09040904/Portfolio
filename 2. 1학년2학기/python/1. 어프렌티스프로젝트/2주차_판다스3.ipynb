{
 "cells": [
  {
   "cell_type": "markdown",
   "metadata": {
    "id": "ynafPkzwL6WV"
   },
   "source": [
    "### **1. 시리즈와 데이터프레임 생성**"
   ]
  },
  {
   "cell_type": "code",
   "execution_count": 1,
   "metadata": {
    "id": "LVD_yiR-BmzQ"
   },
   "outputs": [
    {
     "name": "stdout",
     "output_type": "stream",
     "text": [
      "0    1\n",
      "1    2\n",
      "2    3\n",
      "3    4\n",
      "dtype: int64\n",
      "a    1\n",
      "b    2\n",
      "c    3\n",
      "dtype: int64\n"
     ]
    }
   ],
   "source": [
    "#코드 2-12\n",
    "import pandas as pd\n",
    "\n",
    "a = pd.Series([1, 2, 3, 4])\n",
    "print(a)\n",
    "b = pd.Series([1, 2, 3], index=['a', 'b', 'c'])\n",
    "print(b)"
   ]
  },
  {
   "cell_type": "code",
   "execution_count": 2,
   "metadata": {
    "id": "hF1OyIpUCn7F"
   },
   "outputs": [
    {
     "data": {
      "text/html": [
       "<div>\n",
       "<style scoped>\n",
       "    .dataframe tbody tr th:only-of-type {\n",
       "        vertical-align: middle;\n",
       "    }\n",
       "\n",
       "    .dataframe tbody tr th {\n",
       "        vertical-align: top;\n",
       "    }\n",
       "\n",
       "    .dataframe thead th {\n",
       "        text-align: right;\n",
       "    }\n",
       "</style>\n",
       "<table border=\"1\" class=\"dataframe\">\n",
       "  <thead>\n",
       "    <tr style=\"text-align: right;\">\n",
       "      <th></th>\n",
       "      <th>이름</th>\n",
       "      <th>성별</th>\n",
       "      <th>나이</th>\n",
       "      <th>키</th>\n",
       "    </tr>\n",
       "  </thead>\n",
       "  <tbody>\n",
       "    <tr>\n",
       "      <th>0</th>\n",
       "      <td>한빛</td>\n",
       "      <td>남자</td>\n",
       "      <td>20</td>\n",
       "      <td>180</td>\n",
       "    </tr>\n",
       "    <tr>\n",
       "      <th>1</th>\n",
       "      <td>한결</td>\n",
       "      <td>남자</td>\n",
       "      <td>21</td>\n",
       "      <td>177</td>\n",
       "    </tr>\n",
       "    <tr>\n",
       "      <th>2</th>\n",
       "      <td>한라</td>\n",
       "      <td>여자</td>\n",
       "      <td>20</td>\n",
       "      <td>160</td>\n",
       "    </tr>\n",
       "  </tbody>\n",
       "</table>\n",
       "</div>"
      ],
      "text/plain": [
       "   이름  성별  나이    키\n",
       "0  한빛  남자  20  180\n",
       "1  한결  남자  21  177\n",
       "2  한라  여자  20  160"
      ]
     },
     "execution_count": 2,
     "metadata": {},
     "output_type": "execute_result"
    }
   ],
   "source": [
    "#코드 2-13\n",
    "list1 = list([['한빛', '남자', '20', '180'],\n",
    "              ['한결', '남자', '21', '177'],\n",
    "              ['한라', '여자', '20', '160']])\n",
    "col_names = ['이름', '성별', '나이', '키']\n",
    "pd.DataFrame(list1, columns=col_names)"
   ]
  },
  {
   "cell_type": "code",
   "execution_count": 3,
   "metadata": {
    "id": "LhXyLZEyDjc8"
   },
   "outputs": [
    {
     "data": {
      "text/html": [
       "<div>\n",
       "<style scoped>\n",
       "    .dataframe tbody tr th:only-of-type {\n",
       "        vertical-align: middle;\n",
       "    }\n",
       "\n",
       "    .dataframe tbody tr th {\n",
       "        vertical-align: top;\n",
       "    }\n",
       "\n",
       "    .dataframe thead th {\n",
       "        text-align: right;\n",
       "    }\n",
       "</style>\n",
       "<table border=\"1\" class=\"dataframe\">\n",
       "  <thead>\n",
       "    <tr style=\"text-align: right;\">\n",
       "      <th></th>\n",
       "      <th>이름</th>\n",
       "      <th>성별</th>\n",
       "      <th>나이</th>\n",
       "      <th>키</th>\n",
       "    </tr>\n",
       "  </thead>\n",
       "  <tbody>\n",
       "    <tr>\n",
       "      <th>0</th>\n",
       "      <td>한빛</td>\n",
       "      <td>남자</td>\n",
       "      <td>20</td>\n",
       "      <td>180</td>\n",
       "    </tr>\n",
       "    <tr>\n",
       "      <th>1</th>\n",
       "      <td>한결</td>\n",
       "      <td>남자</td>\n",
       "      <td>21</td>\n",
       "      <td>177</td>\n",
       "    </tr>\n",
       "    <tr>\n",
       "      <th>2</th>\n",
       "      <td>한라</td>\n",
       "      <td>여자</td>\n",
       "      <td>20</td>\n",
       "      <td>160</td>\n",
       "    </tr>\n",
       "  </tbody>\n",
       "</table>\n",
       "</div>"
      ],
      "text/plain": [
       "   이름  성별  나이    키\n",
       "0  한빛  남자  20  180\n",
       "1  한결  남자  21  177\n",
       "2  한라  여자  20  160"
      ]
     },
     "execution_count": 3,
     "metadata": {},
     "output_type": "execute_result"
    }
   ],
   "source": [
    "#코드 2-14\n",
    "dict1 = {'이름':{0:'한빛', 1:'한결', 2:'한라'},\n",
    "         '성별':{0:'남자', 1:'남자', 2:'여자'},\n",
    "         '나이':{0:'20', 1:'21', 2:'20'},\n",
    "         '키':{0:'180', 1:'177', 2:'160'}}\n",
    "pd.DataFrame(dict1)"
   ]
  },
  {
   "cell_type": "code",
   "execution_count": 4,
   "metadata": {
    "id": "66_tYWoYFnKj"
   },
   "outputs": [
    {
     "data": {
      "text/html": [
       "<div>\n",
       "<style scoped>\n",
       "    .dataframe tbody tr th:only-of-type {\n",
       "        vertical-align: middle;\n",
       "    }\n",
       "\n",
       "    .dataframe tbody tr th {\n",
       "        vertical-align: top;\n",
       "    }\n",
       "\n",
       "    .dataframe thead th {\n",
       "        text-align: right;\n",
       "    }\n",
       "</style>\n",
       "<table border=\"1\" class=\"dataframe\">\n",
       "  <thead>\n",
       "    <tr style=\"text-align: right;\">\n",
       "      <th></th>\n",
       "      <th>이름</th>\n",
       "      <th>성별</th>\n",
       "      <th>나이</th>\n",
       "      <th>키</th>\n",
       "    </tr>\n",
       "  </thead>\n",
       "  <tbody>\n",
       "    <tr>\n",
       "      <th>0</th>\n",
       "      <td>한빛</td>\n",
       "      <td>남자</td>\n",
       "      <td>20</td>\n",
       "      <td>180</td>\n",
       "    </tr>\n",
       "    <tr>\n",
       "      <th>1</th>\n",
       "      <td>한결</td>\n",
       "      <td>남자</td>\n",
       "      <td>21</td>\n",
       "      <td>177</td>\n",
       "    </tr>\n",
       "    <tr>\n",
       "      <th>2</th>\n",
       "      <td>한라</td>\n",
       "      <td>여자</td>\n",
       "      <td>20</td>\n",
       "      <td>160</td>\n",
       "    </tr>\n",
       "  </tbody>\n",
       "</table>\n",
       "</div>"
      ],
      "text/plain": [
       "   이름  성별  나이    키\n",
       "0  한빛  남자  20  180\n",
       "1  한결  남자  21  177\n",
       "2  한라  여자  20  160"
      ]
     },
     "execution_count": 4,
     "metadata": {},
     "output_type": "execute_result"
    }
   ],
   "source": [
    "#코드 2-15\n",
    "import numpy as np\n",
    "\n",
    "#배열\n",
    "arr1 = np.array([['한빛','남자', '20', '180'],\n",
    "                 ['한결','남자', '21', '177'],\n",
    "                 ['한라','여자', '20', '160']])\n",
    "\n",
    "#열 이름 리스트\n",
    "col_names = ['이름','성별','나이','키']\n",
    "\n",
    "#데이터프레임 생성하기\n",
    "pd.DataFrame(arr1, columns=col_names)"
   ]
  },
  {
   "cell_type": "code",
   "execution_count": 5,
   "metadata": {
    "id": "k8vcIAAuHOpF"
   },
   "outputs": [
    {
     "data": {
      "text/html": [
       "<div>\n",
       "<style scoped>\n",
       "    .dataframe tbody tr th:only-of-type {\n",
       "        vertical-align: middle;\n",
       "    }\n",
       "\n",
       "    .dataframe tbody tr th {\n",
       "        vertical-align: top;\n",
       "    }\n",
       "\n",
       "    .dataframe thead th {\n",
       "        text-align: right;\n",
       "    }\n",
       "</style>\n",
       "<table border=\"1\" class=\"dataframe\">\n",
       "  <thead>\n",
       "    <tr style=\"text-align: right;\">\n",
       "      <th></th>\n",
       "      <th>이름</th>\n",
       "      <th>성별</th>\n",
       "      <th>나이</th>\n",
       "      <th>키</th>\n",
       "    </tr>\n",
       "  </thead>\n",
       "  <tbody>\n",
       "    <tr>\n",
       "      <th>0</th>\n",
       "      <td>허준호</td>\n",
       "      <td>남자</td>\n",
       "      <td>30</td>\n",
       "      <td>183</td>\n",
       "    </tr>\n",
       "    <tr>\n",
       "      <th>1</th>\n",
       "      <td>이가원</td>\n",
       "      <td>여자</td>\n",
       "      <td>24</td>\n",
       "      <td>162</td>\n",
       "    </tr>\n",
       "    <tr>\n",
       "      <th>2</th>\n",
       "      <td>배규민</td>\n",
       "      <td>남자</td>\n",
       "      <td>23</td>\n",
       "      <td>179</td>\n",
       "    </tr>\n",
       "    <tr>\n",
       "      <th>3</th>\n",
       "      <td>고고림</td>\n",
       "      <td>남자</td>\n",
       "      <td>21</td>\n",
       "      <td>182</td>\n",
       "    </tr>\n",
       "    <tr>\n",
       "      <th>4</th>\n",
       "      <td>이새봄</td>\n",
       "      <td>여자</td>\n",
       "      <td>28</td>\n",
       "      <td>160</td>\n",
       "    </tr>\n",
       "    <tr>\n",
       "      <th>5</th>\n",
       "      <td>이보람</td>\n",
       "      <td>여자</td>\n",
       "      <td>26</td>\n",
       "      <td>163</td>\n",
       "    </tr>\n",
       "    <tr>\n",
       "      <th>6</th>\n",
       "      <td>이루리</td>\n",
       "      <td>여자</td>\n",
       "      <td>24</td>\n",
       "      <td>157</td>\n",
       "    </tr>\n",
       "    <tr>\n",
       "      <th>7</th>\n",
       "      <td>오다현</td>\n",
       "      <td>여자</td>\n",
       "      <td>24</td>\n",
       "      <td>172</td>\n",
       "    </tr>\n",
       "  </tbody>\n",
       "</table>\n",
       "</div>"
      ],
      "text/plain": [
       "    이름  성별  나이    키\n",
       "0  허준호  남자  30  183\n",
       "1  이가원  여자  24  162\n",
       "2  배규민  남자  23  179\n",
       "3  고고림  남자  21  182\n",
       "4  이새봄  여자  28  160\n",
       "5  이보람  여자  26  163\n",
       "6  이루리  여자  24  157\n",
       "7  오다현  여자  24  172"
      ]
     },
     "execution_count": 5,
     "metadata": {},
     "output_type": "execute_result"
    }
   ],
   "source": [
    "#코드 2-16\n",
    "list1 = list([['허준호','남자','30','183'],\n",
    "              ['이가원','여자','24','162'],\n",
    "              ['배규민','남자','23','179'],\n",
    "              ['고고림','남자','21','182'],\n",
    "              ['이새봄','여자','28','160'],\n",
    "              ['이보람','여자','26','163'],\n",
    "              ['이루리','여자','24','157'],\n",
    "              ['오다현','여자','24','172']])\n",
    "col_names = ['이름','성별','나이','키']\n",
    "df = pd.DataFrame(list1, columns=col_names)\n",
    "df"
   ]
  },
  {
   "cell_type": "code",
   "execution_count": 6,
   "metadata": {
    "id": "0BDNo4tmHusx"
   },
   "outputs": [
    {
     "data": {
      "text/html": [
       "<div>\n",
       "<style scoped>\n",
       "    .dataframe tbody tr th:only-of-type {\n",
       "        vertical-align: middle;\n",
       "    }\n",
       "\n",
       "    .dataframe tbody tr th {\n",
       "        vertical-align: top;\n",
       "    }\n",
       "\n",
       "    .dataframe thead th {\n",
       "        text-align: right;\n",
       "    }\n",
       "</style>\n",
       "<table border=\"1\" class=\"dataframe\">\n",
       "  <thead>\n",
       "    <tr style=\"text-align: right;\">\n",
       "      <th></th>\n",
       "      <th>이름</th>\n",
       "      <th>성별</th>\n",
       "      <th>나이</th>\n",
       "      <th>키</th>\n",
       "    </tr>\n",
       "  </thead>\n",
       "  <tbody>\n",
       "    <tr>\n",
       "      <th>0</th>\n",
       "      <td>허준호</td>\n",
       "      <td>남자</td>\n",
       "      <td>30</td>\n",
       "      <td>183</td>\n",
       "    </tr>\n",
       "    <tr>\n",
       "      <th>1</th>\n",
       "      <td>이가원</td>\n",
       "      <td>여자</td>\n",
       "      <td>24</td>\n",
       "      <td>162</td>\n",
       "    </tr>\n",
       "    <tr>\n",
       "      <th>2</th>\n",
       "      <td>배규민</td>\n",
       "      <td>남자</td>\n",
       "      <td>23</td>\n",
       "      <td>179</td>\n",
       "    </tr>\n",
       "    <tr>\n",
       "      <th>3</th>\n",
       "      <td>고고림</td>\n",
       "      <td>남자</td>\n",
       "      <td>21</td>\n",
       "      <td>182</td>\n",
       "    </tr>\n",
       "    <tr>\n",
       "      <th>4</th>\n",
       "      <td>이새봄</td>\n",
       "      <td>여자</td>\n",
       "      <td>28</td>\n",
       "      <td>160</td>\n",
       "    </tr>\n",
       "    <tr>\n",
       "      <th>5</th>\n",
       "      <td>이보람</td>\n",
       "      <td>여자</td>\n",
       "      <td>26</td>\n",
       "      <td>163</td>\n",
       "    </tr>\n",
       "    <tr>\n",
       "      <th>6</th>\n",
       "      <td>이루리</td>\n",
       "      <td>여자</td>\n",
       "      <td>24</td>\n",
       "      <td>157</td>\n",
       "    </tr>\n",
       "    <tr>\n",
       "      <th>7</th>\n",
       "      <td>오다현</td>\n",
       "      <td>여자</td>\n",
       "      <td>24</td>\n",
       "      <td>172</td>\n",
       "    </tr>\n",
       "  </tbody>\n",
       "</table>\n",
       "</div>"
      ],
      "text/plain": [
       "    이름  성별  나이    키\n",
       "0  허준호  남자  30  183\n",
       "1  이가원  여자  24  162\n",
       "2  배규민  남자  23  179\n",
       "3  고고림  남자  21  182\n",
       "4  이새봄  여자  28  160\n",
       "5  이보람  여자  26  163\n",
       "6  이루리  여자  24  157\n",
       "7  오다현  여자  24  172"
      ]
     },
     "execution_count": 6,
     "metadata": {},
     "output_type": "execute_result"
    }
   ],
   "source": [
    "#코드 2-17\n",
    "#디렉토리에 CSV 파일로 저장하기\n",
    "df.to_csv('./file.csv', header=True, index=False, encoding='utf-8')\n",
    "#CSV 파일 읽기\n",
    "df2 = pd.read_csv('./file.csv', sep=',')\n",
    "\n",
    "df2"
   ]
  },
  {
   "cell_type": "code",
   "execution_count": 7,
   "metadata": {
    "id": "15fNM8XdNdad"
   },
   "outputs": [
    {
     "data": {
      "text/plain": [
       "Index(['이름', '성별', '나이', '키'], dtype='object')"
      ]
     },
     "execution_count": 7,
     "metadata": {},
     "output_type": "execute_result"
    }
   ],
   "source": [
    "#코드 2-18\n",
    "df.columns"
   ]
  },
  {
   "cell_type": "code",
   "execution_count": 8,
   "metadata": {
    "id": "3IA2ltJCUVMI"
   },
   "outputs": [
    {
     "data": {
      "text/html": [
       "<div>\n",
       "<style scoped>\n",
       "    .dataframe tbody tr th:only-of-type {\n",
       "        vertical-align: middle;\n",
       "    }\n",
       "\n",
       "    .dataframe tbody tr th {\n",
       "        vertical-align: top;\n",
       "    }\n",
       "\n",
       "    .dataframe thead th {\n",
       "        text-align: right;\n",
       "    }\n",
       "</style>\n",
       "<table border=\"1\" class=\"dataframe\">\n",
       "  <thead>\n",
       "    <tr style=\"text-align: right;\">\n",
       "      <th></th>\n",
       "      <th>이름</th>\n",
       "      <th>성별</th>\n",
       "      <th>나이</th>\n",
       "      <th>키</th>\n",
       "    </tr>\n",
       "  </thead>\n",
       "  <tbody>\n",
       "    <tr>\n",
       "      <th>count</th>\n",
       "      <td>8</td>\n",
       "      <td>8</td>\n",
       "      <td>8</td>\n",
       "      <td>8</td>\n",
       "    </tr>\n",
       "    <tr>\n",
       "      <th>unique</th>\n",
       "      <td>8</td>\n",
       "      <td>2</td>\n",
       "      <td>6</td>\n",
       "      <td>8</td>\n",
       "    </tr>\n",
       "    <tr>\n",
       "      <th>top</th>\n",
       "      <td>허준호</td>\n",
       "      <td>여자</td>\n",
       "      <td>24</td>\n",
       "      <td>183</td>\n",
       "    </tr>\n",
       "    <tr>\n",
       "      <th>freq</th>\n",
       "      <td>1</td>\n",
       "      <td>5</td>\n",
       "      <td>3</td>\n",
       "      <td>1</td>\n",
       "    </tr>\n",
       "  </tbody>\n",
       "</table>\n",
       "</div>"
      ],
      "text/plain": [
       "         이름  성별  나이    키\n",
       "count     8   8   8    8\n",
       "unique    8   2   6    8\n",
       "top     허준호  여자  24  183\n",
       "freq      1   5   3    1"
      ]
     },
     "execution_count": 8,
     "metadata": {},
     "output_type": "execute_result"
    }
   ],
   "source": [
    "#코드 2-19\n",
    "df.describe()"
   ]
  },
  {
   "cell_type": "code",
   "execution_count": 9,
   "metadata": {
    "id": "evWVPRFcNVlD"
   },
   "outputs": [
    {
     "data": {
      "text/html": [
       "<div>\n",
       "<style scoped>\n",
       "    .dataframe tbody tr th:only-of-type {\n",
       "        vertical-align: middle;\n",
       "    }\n",
       "\n",
       "    .dataframe tbody tr th {\n",
       "        vertical-align: top;\n",
       "    }\n",
       "\n",
       "    .dataframe thead th {\n",
       "        text-align: right;\n",
       "    }\n",
       "</style>\n",
       "<table border=\"1\" class=\"dataframe\">\n",
       "  <thead>\n",
       "    <tr style=\"text-align: right;\">\n",
       "      <th></th>\n",
       "      <th>이름</th>\n",
       "      <th>성별</th>\n",
       "      <th>나이</th>\n",
       "      <th>키</th>\n",
       "    </tr>\n",
       "  </thead>\n",
       "  <tbody>\n",
       "    <tr>\n",
       "      <th>0</th>\n",
       "      <td>허준호</td>\n",
       "      <td>남자</td>\n",
       "      <td>30</td>\n",
       "      <td>183</td>\n",
       "    </tr>\n",
       "    <tr>\n",
       "      <th>1</th>\n",
       "      <td>이가원</td>\n",
       "      <td>여자</td>\n",
       "      <td>24</td>\n",
       "      <td>162</td>\n",
       "    </tr>\n",
       "    <tr>\n",
       "      <th>2</th>\n",
       "      <td>배규민</td>\n",
       "      <td>남자</td>\n",
       "      <td>23</td>\n",
       "      <td>179</td>\n",
       "    </tr>\n",
       "  </tbody>\n",
       "</table>\n",
       "</div>"
      ],
      "text/plain": [
       "    이름  성별  나이    키\n",
       "0  허준호  남자  30  183\n",
       "1  이가원  여자  24  162\n",
       "2  배규민  남자  23  179"
      ]
     },
     "execution_count": 9,
     "metadata": {},
     "output_type": "execute_result"
    }
   ],
   "source": [
    "#코드 2-20\n",
    "df.head(3)"
   ]
  },
  {
   "cell_type": "code",
   "execution_count": 10,
   "metadata": {
    "id": "rG5MIPz9NaoK"
   },
   "outputs": [
    {
     "data": {
      "text/html": [
       "<div>\n",
       "<style scoped>\n",
       "    .dataframe tbody tr th:only-of-type {\n",
       "        vertical-align: middle;\n",
       "    }\n",
       "\n",
       "    .dataframe tbody tr th {\n",
       "        vertical-align: top;\n",
       "    }\n",
       "\n",
       "    .dataframe thead th {\n",
       "        text-align: right;\n",
       "    }\n",
       "</style>\n",
       "<table border=\"1\" class=\"dataframe\">\n",
       "  <thead>\n",
       "    <tr style=\"text-align: right;\">\n",
       "      <th></th>\n",
       "      <th>이름</th>\n",
       "      <th>성별</th>\n",
       "      <th>나이</th>\n",
       "      <th>키</th>\n",
       "    </tr>\n",
       "  </thead>\n",
       "  <tbody>\n",
       "    <tr>\n",
       "      <th>3</th>\n",
       "      <td>고고림</td>\n",
       "      <td>남자</td>\n",
       "      <td>21</td>\n",
       "      <td>182</td>\n",
       "    </tr>\n",
       "    <tr>\n",
       "      <th>4</th>\n",
       "      <td>이새봄</td>\n",
       "      <td>여자</td>\n",
       "      <td>28</td>\n",
       "      <td>160</td>\n",
       "    </tr>\n",
       "    <tr>\n",
       "      <th>5</th>\n",
       "      <td>이보람</td>\n",
       "      <td>여자</td>\n",
       "      <td>26</td>\n",
       "      <td>163</td>\n",
       "    </tr>\n",
       "    <tr>\n",
       "      <th>6</th>\n",
       "      <td>이루리</td>\n",
       "      <td>여자</td>\n",
       "      <td>24</td>\n",
       "      <td>157</td>\n",
       "    </tr>\n",
       "    <tr>\n",
       "      <th>7</th>\n",
       "      <td>오다현</td>\n",
       "      <td>여자</td>\n",
       "      <td>24</td>\n",
       "      <td>172</td>\n",
       "    </tr>\n",
       "  </tbody>\n",
       "</table>\n",
       "</div>"
      ],
      "text/plain": [
       "    이름  성별  나이    키\n",
       "3  고고림  남자  21  182\n",
       "4  이새봄  여자  28  160\n",
       "5  이보람  여자  26  163\n",
       "6  이루리  여자  24  157\n",
       "7  오다현  여자  24  172"
      ]
     },
     "execution_count": 10,
     "metadata": {},
     "output_type": "execute_result"
    }
   ],
   "source": [
    "#코드 2-21\n",
    "df.tail()"
   ]
  },
  {
   "cell_type": "markdown",
   "metadata": {
    "id": "M5lStGxpMKVK"
   },
   "source": [
    "### **2. 데이터프레임 데이터 분석**"
   ]
  },
  {
   "cell_type": "code",
   "execution_count": null,
   "metadata": {
    "id": "pIJNYRSQyc_r"
   },
   "outputs": [],
   "source": [
    "#코드 2-22\n",
    "df.sort_index(axis=0).head()"
   ]
  },
  {
   "cell_type": "code",
   "execution_count": null,
   "metadata": {
    "id": "VLARHgMCzhLw"
   },
   "outputs": [],
   "source": [
    "#코드 2-23\n",
    "#나이 열과 키 열을 기준으로 행을 정렬하기\n",
    "df.sort_values(by=['나이', '키'], ascending=False).head()"
   ]
  },
  {
   "cell_type": "code",
   "execution_count": null,
   "metadata": {
    "id": "rHzaDutM3ED6"
   },
   "outputs": [],
   "source": [
    "#코드 2-24\n",
    "df[['이름', '키']].head()"
   ]
  },
  {
   "cell_type": "code",
   "execution_count": null,
   "metadata": {
    "id": "hgJfH0ah3K6A"
   },
   "outputs": [],
   "source": [
    "#코드 2-25\n",
    "df.iloc[1:4, 0:3]"
   ]
  },
  {
   "cell_type": "code",
   "execution_count": null,
   "metadata": {
    "id": "b60XBn3N3PKC"
   },
   "outputs": [],
   "source": [
    "#코드 2-26\n",
    "df[df['키'] > 180]"
   ]
  },
  {
   "cell_type": "code",
   "execution_count": null,
   "metadata": {
    "id": "uCt_T7mO4TJG"
   },
   "outputs": [],
   "source": [
    "#코드 2-27\n",
    "list1 = list([['허준호', '남자', 30, 183],\n",
    "              ['이가원', '여자', 24, 162],\n",
    "              ['배규민', '남자', 23, 179],\n",
    "              ['고고림', '남자', 21, 182],\n",
    "              ['이새봄', '여자', 28, 160],\n",
    "              ['이보람', '여자', 26, 163],\n",
    "              ['이루리', '여자', 24, 157],\n",
    "              ['오다현', '여자', 24, 172]])\n",
    "col_names = ['이름', '성별', '나이', '키']\n",
    "df = pd.DataFrame(list1, columns=col_names)\n",
    "\n",
    "df[df['키'] > 180]"
   ]
  },
  {
   "cell_type": "code",
   "execution_count": null,
   "metadata": {
    "id": "pvqAebne7NYI"
   },
   "outputs": [],
   "source": [
    "코드 2-28\n",
    "df[df['나이'].isin([21, 23])]"
   ]
  },
  {
   "cell_type": "code",
   "execution_count": null,
   "metadata": {
    "id": "b3Mc-MNc8DoT"
   },
   "outputs": [],
   "source": [
    "#코드 2-29\n",
    "df[(df['성별'] == '여자') & (df['키'] > 160)]"
   ]
  },
  {
   "cell_type": "code",
   "execution_count": null,
   "metadata": {
    "id": "AaXKopuh9CNb"
   },
   "outputs": [],
   "source": [
    "#코드 2-30\n",
    "df[(df['나이'] >= 28) | (df['성별'] == '남자')]"
   ]
  },
  {
   "cell_type": "code",
   "execution_count": null,
   "metadata": {
    "id": "vWrvQ_J89QW3"
   },
   "outputs": [],
   "source": [
    "#코드 2-31\n",
    "df[df['이름'].str.contains('봄')]"
   ]
  },
  {
   "cell_type": "code",
   "execution_count": null,
   "metadata": {
    "id": "Ec_53I0dOpkp"
   },
   "outputs": [],
   "source": [
    "#코드 2-32\n",
    "df.describe()"
   ]
  },
  {
   "cell_type": "code",
   "execution_count": null,
   "metadata": {
    "id": "Qs7gsi1d9QQ2"
   },
   "outputs": [],
   "source": [
    "#코드 2-33\n",
    "df.loc[4,'키'] = df.loc[4,'키'] + 5\n",
    "df.loc[[4]]"
   ]
  },
  {
   "cell_type": "code",
   "execution_count": null,
   "metadata": {
    "id": "Kqao8YnC_Wds"
   },
   "outputs": [],
   "source": [
    "#코드 2-34\n",
    "df.loc[1:3,'키'] = ['모름'] * 3\n",
    "df"
   ]
  },
  {
   "cell_type": "code",
   "execution_count": null,
   "metadata": {
    "id": "2FoTydi7D_gm"
   },
   "outputs": [],
   "source": [
    "#코드 2-35\n",
    "df.set_index('이름', inplace=True)\n",
    "df.head(3)"
   ]
  },
  {
   "cell_type": "code",
   "execution_count": null,
   "metadata": {
    "id": "oE4P_AhUGwwl"
   },
   "outputs": [],
   "source": [
    "#코드 2-36\n",
    "df['보너스'] = df['나이'] * 10000\n",
    "df.head(3)"
   ]
  },
  {
   "cell_type": "code",
   "execution_count": null,
   "metadata": {
    "id": "xz_EzY_HMrf6"
   },
   "outputs": [],
   "source": [
    "#코드 2-37\n",
    "df.drop('보너스', axis=1, inplace=True)\n",
    "df.head(3)"
   ]
  },
  {
   "cell_type": "code",
   "execution_count": null,
   "metadata": {
    "id": "Fm7YOz1QN7J1"
   },
   "outputs": [],
   "source": [
    "#코드 2-38\n",
    "df.reset_index(inplace=True)\n",
    "df.head(3)"
   ]
  },
  {
   "cell_type": "code",
   "execution_count": null,
   "metadata": {
    "id": "OtqnNcpPQJD2"
   },
   "outputs": [],
   "source": [
    "#코드 2-39\n",
    "rep_cond = {'성별':{'남자':1, '여자':0}}\n",
    "df2 = df.replace(rep_cond)\n",
    "df2.head(3)"
   ]
  },
  {
   "cell_type": "code",
   "execution_count": null,
   "metadata": {
    "id": "ZEnk0yBQS4Xn"
   },
   "outputs": [],
   "source": [
    "#코드 2-40\n",
    "#성별 평균 키\n",
    "mean_by_gender = df.groupby(by=['성별'], as_index=False)['키'].mean()\n",
    "mean_by_gender.rename(columns={'키':'평균 키'}, inplace=True)\n",
    "#성별 키의 표준편차\n",
    "std_by_gender = df.groupby(by=['성별'], as_index=False)['키'].std()\n",
    "std_by_gender.rename(columns = {'키':'키의 표준편차'}, inplace=True)\n",
    "\n",
    "new_df = pd.merge(mean_by_gender, std_by_gender)\n",
    "new_df"
   ]
  }
 ],
 "metadata": {
  "colab": {
   "authorship_tag": "ABX9TyMRd4pocEbZfe6WGAD63y7T",
   "provenance": []
  },
  "kernelspec": {
   "display_name": "Python 3 (ipykernel)",
   "language": "python",
   "name": "python3"
  },
  "language_info": {
   "codemirror_mode": {
    "name": "ipython",
    "version": 3
   },
   "file_extension": ".py",
   "mimetype": "text/x-python",
   "name": "python",
   "nbconvert_exporter": "python",
   "pygments_lexer": "ipython3",
   "version": "3.11.5"
  }
 },
 "nbformat": 4,
 "nbformat_minor": 4
}
