{
 "cells": [
  {
   "cell_type": "code",
   "execution_count": 1,
   "id": "2e1caa6d",
   "metadata": {},
   "outputs": [],
   "source": [
    "import os\n",
    "import glob\n",
    "import pandas as pd\n",
    "import numpy as np\n",
    "import matplotlib.pyplot as plt\n",
    "import datetime\n",
    "import seaborn as sns\n",
    "from sklearn.model_selection import train_test_split\n",
    "import tensorflow\n",
    "from sklearn.metrics import confusion_matrix\n",
    "from sklearn.metrics import accuracy_score\n",
    "from sklearn.metrics import precision_score\n",
    "from sklearn.metrics import recall_score\n",
    "from sklearn.metrics import f1_score\n",
    "from sklearn.metrics import roc_auc_score\n",
    "from sklearn.metrics import roc_curve\n",
    "from warnings import filterwarnings\n",
    "filterwarnings('ignore')"
   ]
  },
  {
   "cell_type": "code",
   "execution_count": 2,
   "id": "7eb499c6",
   "metadata": {},
   "outputs": [
    {
     "name": "stdout",
     "output_type": "stream",
     "text": [
      "File Lists :  ['data-2022.09.06.csv', 'data-2022.09.07.csv', 'data-2022.09.08.csv', 'data-2022.09.09.csv', 'data-2022.09.10.csv', 'data-2022.09.13.csv', 'data-2022.09.14.csv', 'data-2022.09.15.csv', 'data-2022.09.16.csv', 'data-2022.09.17.csv', 'data-2022.09.23.csv', 'data-2022.09.24.csv', 'data-2022.09.27.csv', 'data-2022.09.28.csv', 'data-2022.09.29.csv', 'data-2022.09.30.csv', 'data-2022.10.01.csv', 'data-2022.10.05.csv', 'data-2022.10.06.csv', 'data-2022.10.07.csv', 'data-2022.10.08.csv', 'data-2022.10.12.csv', 'data-2022.10.13.csv', 'data-2022.10.14.csv', 'data-2022.10.15.csv', 'data-2022.10.18.csv', 'data-2022.10.19.csv', 'data-2022.10.20.csv', 'data-2022.10.21.csv', 'data-2022.10.22.csv', 'data-2022.10.25.csv', 'data-2022.10.26.csv', 'data-2022.10.27.csv', 'Error Lot list.csv']\n"
     ]
    }
   ],
   "source": [
    "new_path = os.path.join(os.getcwd(),'data_Xentech_copy')\n",
    "new_path\n",
    "\n",
    "f_lists = os.listdir(new_path)\n",
    "print(\"File Lists : \", f_lists)"
   ]
  },
  {
   "cell_type": "code",
   "execution_count": 3,
   "id": "dc7bd83b",
   "metadata": {},
   "outputs": [
    {
     "data": {
      "text/html": [
       "<div>\n",
       "<style scoped>\n",
       "    .dataframe tbody tr th:only-of-type {\n",
       "        vertical-align: middle;\n",
       "    }\n",
       "\n",
       "    .dataframe tbody tr th {\n",
       "        vertical-align: top;\n",
       "    }\n",
       "\n",
       "    .dataframe thead th {\n",
       "        text-align: right;\n",
       "    }\n",
       "</style>\n",
       "<table border=\"1\" class=\"dataframe\">\n",
       "  <thead>\n",
       "    <tr style=\"text-align: right;\">\n",
       "      <th></th>\n",
       "      <th>Index</th>\n",
       "      <th>Lot</th>\n",
       "      <th>Time</th>\n",
       "      <th>pH</th>\n",
       "      <th>Temp</th>\n",
       "      <th>Current</th>\n",
       "      <th>Date</th>\n",
       "    </tr>\n",
       "  </thead>\n",
       "  <tbody>\n",
       "    <tr>\n",
       "      <th>0</th>\n",
       "      <td>1</td>\n",
       "      <td>1</td>\n",
       "      <td>오후 4:29:15.0</td>\n",
       "      <td>10.37</td>\n",
       "      <td>42.87</td>\n",
       "      <td>7.34</td>\n",
       "      <td>2022-09-06</td>\n",
       "    </tr>\n",
       "    <tr>\n",
       "      <th>1</th>\n",
       "      <td>2</td>\n",
       "      <td>1</td>\n",
       "      <td>오후 4:29:20.0</td>\n",
       "      <td>10.90</td>\n",
       "      <td>42.70</td>\n",
       "      <td>8.26</td>\n",
       "      <td>2022-09-06</td>\n",
       "    </tr>\n",
       "    <tr>\n",
       "      <th>2</th>\n",
       "      <td>3</td>\n",
       "      <td>1</td>\n",
       "      <td>오후 4:29:25.0</td>\n",
       "      <td>9.61</td>\n",
       "      <td>42.37</td>\n",
       "      <td>8.46</td>\n",
       "      <td>2022-09-06</td>\n",
       "    </tr>\n",
       "    <tr>\n",
       "      <th>3</th>\n",
       "      <td>4</td>\n",
       "      <td>1</td>\n",
       "      <td>오후 4:29:30.0</td>\n",
       "      <td>10.32</td>\n",
       "      <td>45.85</td>\n",
       "      <td>8.04</td>\n",
       "      <td>2022-09-06</td>\n",
       "    </tr>\n",
       "    <tr>\n",
       "      <th>4</th>\n",
       "      <td>5</td>\n",
       "      <td>1</td>\n",
       "      <td>오후 4:29:35.0</td>\n",
       "      <td>10.36</td>\n",
       "      <td>44.18</td>\n",
       "      <td>7.23</td>\n",
       "      <td>2022-09-06</td>\n",
       "    </tr>\n",
       "    <tr>\n",
       "      <th>...</th>\n",
       "      <td>...</td>\n",
       "      <td>...</td>\n",
       "      <td>...</td>\n",
       "      <td>...</td>\n",
       "      <td>...</td>\n",
       "      <td>...</td>\n",
       "      <td>...</td>\n",
       "    </tr>\n",
       "    <tr>\n",
       "      <th>50089</th>\n",
       "      <td>1514</td>\n",
       "      <td>22</td>\n",
       "      <td>오후 6:39:05.9</td>\n",
       "      <td>9.79</td>\n",
       "      <td>43.52</td>\n",
       "      <td>8.55</td>\n",
       "      <td>2022-10-27</td>\n",
       "    </tr>\n",
       "    <tr>\n",
       "      <th>50090</th>\n",
       "      <td>1515</td>\n",
       "      <td>22</td>\n",
       "      <td>오후 6:39:10.9</td>\n",
       "      <td>9.53</td>\n",
       "      <td>44.44</td>\n",
       "      <td>7.36</td>\n",
       "      <td>2022-10-27</td>\n",
       "    </tr>\n",
       "    <tr>\n",
       "      <th>50091</th>\n",
       "      <td>1516</td>\n",
       "      <td>22</td>\n",
       "      <td>오후 6:39:15.9</td>\n",
       "      <td>9.86</td>\n",
       "      <td>46.54</td>\n",
       "      <td>8.15</td>\n",
       "      <td>2022-10-27</td>\n",
       "    </tr>\n",
       "    <tr>\n",
       "      <th>50092</th>\n",
       "      <td>1517</td>\n",
       "      <td>22</td>\n",
       "      <td>오후 6:39:20.9</td>\n",
       "      <td>10.52</td>\n",
       "      <td>47.88</td>\n",
       "      <td>7.97</td>\n",
       "      <td>2022-10-27</td>\n",
       "    </tr>\n",
       "    <tr>\n",
       "      <th>50093</th>\n",
       "      <td>1518</td>\n",
       "      <td>22</td>\n",
       "      <td>오후 6:39:25.9</td>\n",
       "      <td>10.97</td>\n",
       "      <td>43.02</td>\n",
       "      <td>8.98</td>\n",
       "      <td>2022-10-27</td>\n",
       "    </tr>\n",
       "  </tbody>\n",
       "</table>\n",
       "<p>50094 rows × 7 columns</p>\n",
       "</div>"
      ],
      "text/plain": [
       "       Index  Lot          Time     pH   Temp  Current        Date\n",
       "0          1    1  오후 4:29:15.0  10.37  42.87     7.34  2022-09-06\n",
       "1          2    1  오후 4:29:20.0  10.90  42.70     8.26  2022-09-06\n",
       "2          3    1  오후 4:29:25.0   9.61  42.37     8.46  2022-09-06\n",
       "3          4    1  오후 4:29:30.0  10.32  45.85     8.04  2022-09-06\n",
       "4          5    1  오후 4:29:35.0  10.36  44.18     7.23  2022-09-06\n",
       "...      ...  ...           ...    ...    ...      ...         ...\n",
       "50089   1514   22  오후 6:39:05.9   9.79  43.52     8.55  2022-10-27\n",
       "50090   1515   22  오후 6:39:10.9   9.53  44.44     7.36  2022-10-27\n",
       "50091   1516   22  오후 6:39:15.9   9.86  46.54     8.15  2022-10-27\n",
       "50092   1517   22  오후 6:39:20.9  10.52  47.88     7.97  2022-10-27\n",
       "50093   1518   22  오후 6:39:25.9  10.97  43.02     8.98  2022-10-27\n",
       "\n",
       "[50094 rows x 7 columns]"
      ]
     },
     "execution_count": 3,
     "metadata": {},
     "output_type": "execute_result"
    }
   ],
   "source": [
    "dataList=list()\n",
    "cnt = 0\n",
    "\n",
    "for pth in glob.glob(new_path+'/*')[:-1]:\n",
    "    origin = pd.read_csv(pth,index_col=False)\n",
    "    origin['Date'] = \"-\".join(pth.split('-')[-1].split(\".\")[:-1])\n",
    "    cnt = cnt+len(origin)\n",
    "    dataList.append(origin)\n",
    "\n",
    "CatList=pd.concat(dataList,axis=0,ignore_index=True)\n",
    "CatList"
   ]
  },
  {
   "cell_type": "code",
   "execution_count": 4,
   "id": "0bc94475",
   "metadata": {},
   "outputs": [
    {
     "data": {
      "text/html": [
       "<div>\n",
       "<style scoped>\n",
       "    .dataframe tbody tr th:only-of-type {\n",
       "        vertical-align: middle;\n",
       "    }\n",
       "\n",
       "    .dataframe tbody tr th {\n",
       "        vertical-align: top;\n",
       "    }\n",
       "\n",
       "    .dataframe thead th {\n",
       "        text-align: right;\n",
       "    }\n",
       "</style>\n",
       "<table border=\"1\" class=\"dataframe\">\n",
       "  <thead>\n",
       "    <tr style=\"text-align: right;\">\n",
       "      <th></th>\n",
       "      <th>Lot</th>\n",
       "      <th>pH</th>\n",
       "      <th>Temp</th>\n",
       "      <th>Current</th>\n",
       "      <th>Date</th>\n",
       "    </tr>\n",
       "  </thead>\n",
       "  <tbody>\n",
       "    <tr>\n",
       "      <th>0</th>\n",
       "      <td>1</td>\n",
       "      <td>10.37</td>\n",
       "      <td>42.87</td>\n",
       "      <td>7.34</td>\n",
       "      <td>2022-09-06</td>\n",
       "    </tr>\n",
       "    <tr>\n",
       "      <th>1</th>\n",
       "      <td>1</td>\n",
       "      <td>10.90</td>\n",
       "      <td>42.70</td>\n",
       "      <td>8.26</td>\n",
       "      <td>2022-09-06</td>\n",
       "    </tr>\n",
       "    <tr>\n",
       "      <th>2</th>\n",
       "      <td>1</td>\n",
       "      <td>9.61</td>\n",
       "      <td>42.37</td>\n",
       "      <td>8.46</td>\n",
       "      <td>2022-09-06</td>\n",
       "    </tr>\n",
       "    <tr>\n",
       "      <th>3</th>\n",
       "      <td>1</td>\n",
       "      <td>10.32</td>\n",
       "      <td>45.85</td>\n",
       "      <td>8.04</td>\n",
       "      <td>2022-09-06</td>\n",
       "    </tr>\n",
       "    <tr>\n",
       "      <th>4</th>\n",
       "      <td>1</td>\n",
       "      <td>10.36</td>\n",
       "      <td>44.18</td>\n",
       "      <td>7.23</td>\n",
       "      <td>2022-09-06</td>\n",
       "    </tr>\n",
       "    <tr>\n",
       "      <th>...</th>\n",
       "      <td>...</td>\n",
       "      <td>...</td>\n",
       "      <td>...</td>\n",
       "      <td>...</td>\n",
       "      <td>...</td>\n",
       "    </tr>\n",
       "    <tr>\n",
       "      <th>50089</th>\n",
       "      <td>22</td>\n",
       "      <td>9.79</td>\n",
       "      <td>43.52</td>\n",
       "      <td>8.55</td>\n",
       "      <td>2022-10-27</td>\n",
       "    </tr>\n",
       "    <tr>\n",
       "      <th>50090</th>\n",
       "      <td>22</td>\n",
       "      <td>9.53</td>\n",
       "      <td>44.44</td>\n",
       "      <td>7.36</td>\n",
       "      <td>2022-10-27</td>\n",
       "    </tr>\n",
       "    <tr>\n",
       "      <th>50091</th>\n",
       "      <td>22</td>\n",
       "      <td>9.86</td>\n",
       "      <td>46.54</td>\n",
       "      <td>8.15</td>\n",
       "      <td>2022-10-27</td>\n",
       "    </tr>\n",
       "    <tr>\n",
       "      <th>50092</th>\n",
       "      <td>22</td>\n",
       "      <td>10.52</td>\n",
       "      <td>47.88</td>\n",
       "      <td>7.97</td>\n",
       "      <td>2022-10-27</td>\n",
       "    </tr>\n",
       "    <tr>\n",
       "      <th>50093</th>\n",
       "      <td>22</td>\n",
       "      <td>10.97</td>\n",
       "      <td>43.02</td>\n",
       "      <td>8.98</td>\n",
       "      <td>2022-10-27</td>\n",
       "    </tr>\n",
       "  </tbody>\n",
       "</table>\n",
       "<p>50094 rows × 5 columns</p>\n",
       "</div>"
      ],
      "text/plain": [
       "       Lot     pH   Temp  Current        Date\n",
       "0        1  10.37  42.87     7.34  2022-09-06\n",
       "1        1  10.90  42.70     8.26  2022-09-06\n",
       "2        1   9.61  42.37     8.46  2022-09-06\n",
       "3        1  10.32  45.85     8.04  2022-09-06\n",
       "4        1  10.36  44.18     7.23  2022-09-06\n",
       "...    ...    ...    ...      ...         ...\n",
       "50089   22   9.79  43.52     8.55  2022-10-27\n",
       "50090   22   9.53  44.44     7.36  2022-10-27\n",
       "50091   22   9.86  46.54     8.15  2022-10-27\n",
       "50092   22  10.52  47.88     7.97  2022-10-27\n",
       "50093   22  10.97  43.02     8.98  2022-10-27\n",
       "\n",
       "[50094 rows x 5 columns]"
      ]
     },
     "execution_count": 4,
     "metadata": {},
     "output_type": "execute_result"
    }
   ],
   "source": [
    "df = CatList.drop(['Index','Time'], axis=1, inplace=False)\n",
    "df"
   ]
  },
  {
   "cell_type": "code",
   "execution_count": 5,
   "id": "c906577d",
   "metadata": {},
   "outputs": [
    {
     "data": {
      "text/plain": [
       "(50094, 5)"
      ]
     },
     "execution_count": 5,
     "metadata": {},
     "output_type": "execute_result"
    }
   ],
   "source": [
    "df.shape"
   ]
  },
  {
   "cell_type": "code",
   "execution_count": 6,
   "id": "58daa280",
   "metadata": {},
   "outputs": [
    {
     "data": {
      "text/html": [
       "<div>\n",
       "<style scoped>\n",
       "    .dataframe tbody tr th:only-of-type {\n",
       "        vertical-align: middle;\n",
       "    }\n",
       "\n",
       "    .dataframe tbody tr th {\n",
       "        vertical-align: top;\n",
       "    }\n",
       "\n",
       "    .dataframe thead th {\n",
       "        text-align: right;\n",
       "    }\n",
       "</style>\n",
       "<table border=\"1\" class=\"dataframe\">\n",
       "  <thead>\n",
       "    <tr style=\"text-align: right;\">\n",
       "      <th></th>\n",
       "      <th>Lot</th>\n",
       "      <th>pH</th>\n",
       "      <th>Temp</th>\n",
       "      <th>Current</th>\n",
       "    </tr>\n",
       "  </thead>\n",
       "  <tbody>\n",
       "    <tr>\n",
       "      <th>count</th>\n",
       "      <td>50094.000000</td>\n",
       "      <td>50094.000000</td>\n",
       "      <td>50094.000000</td>\n",
       "      <td>50094.000000</td>\n",
       "    </tr>\n",
       "    <tr>\n",
       "      <th>mean</th>\n",
       "      <td>11.500000</td>\n",
       "      <td>10.273346</td>\n",
       "      <td>45.023847</td>\n",
       "      <td>7.974549</td>\n",
       "    </tr>\n",
       "    <tr>\n",
       "      <th>std</th>\n",
       "      <td>6.344352</td>\n",
       "      <td>0.453278</td>\n",
       "      <td>1.661687</td>\n",
       "      <td>0.601907</td>\n",
       "    </tr>\n",
       "    <tr>\n",
       "      <th>min</th>\n",
       "      <td>1.000000</td>\n",
       "      <td>9.510000</td>\n",
       "      <td>42.010000</td>\n",
       "      <td>5.510000</td>\n",
       "    </tr>\n",
       "    <tr>\n",
       "      <th>25%</th>\n",
       "      <td>6.000000</td>\n",
       "      <td>9.900000</td>\n",
       "      <td>43.670000</td>\n",
       "      <td>7.500000</td>\n",
       "    </tr>\n",
       "    <tr>\n",
       "      <th>50%</th>\n",
       "      <td>11.500000</td>\n",
       "      <td>10.260000</td>\n",
       "      <td>45.020000</td>\n",
       "      <td>7.990000</td>\n",
       "    </tr>\n",
       "    <tr>\n",
       "      <th>75%</th>\n",
       "      <td>17.000000</td>\n",
       "      <td>10.630000</td>\n",
       "      <td>46.360000</td>\n",
       "      <td>8.470000</td>\n",
       "    </tr>\n",
       "    <tr>\n",
       "      <th>max</th>\n",
       "      <td>22.000000</td>\n",
       "      <td>11.990000</td>\n",
       "      <td>51.980000</td>\n",
       "      <td>8.990000</td>\n",
       "    </tr>\n",
       "  </tbody>\n",
       "</table>\n",
       "</div>"
      ],
      "text/plain": [
       "                Lot            pH          Temp       Current\n",
       "count  50094.000000  50094.000000  50094.000000  50094.000000\n",
       "mean      11.500000     10.273346     45.023847      7.974549\n",
       "std        6.344352      0.453278      1.661687      0.601907\n",
       "min        1.000000      9.510000     42.010000      5.510000\n",
       "25%        6.000000      9.900000     43.670000      7.500000\n",
       "50%       11.500000     10.260000     45.020000      7.990000\n",
       "75%       17.000000     10.630000     46.360000      8.470000\n",
       "max       22.000000     11.990000     51.980000      8.990000"
      ]
     },
     "execution_count": 6,
     "metadata": {},
     "output_type": "execute_result"
    }
   ],
   "source": [
    "df.describe()"
   ]
  },
  {
   "cell_type": "code",
   "execution_count": 7,
   "id": "f0b440d7",
   "metadata": {},
   "outputs": [
    {
     "name": "stdout",
     "output_type": "stream",
     "text": [
      "<class 'pandas.core.frame.DataFrame'>\n",
      "RangeIndex: 50094 entries, 0 to 50093\n",
      "Data columns (total 5 columns):\n",
      " #   Column   Non-Null Count  Dtype  \n",
      "---  ------   --------------  -----  \n",
      " 0   Lot      50094 non-null  int64  \n",
      " 1   pH       50094 non-null  float64\n",
      " 2   Temp     50094 non-null  float64\n",
      " 3   Current  50094 non-null  float64\n",
      " 4   Date     50094 non-null  object \n",
      "dtypes: float64(3), int64(1), object(1)\n",
      "memory usage: 1.9+ MB\n"
     ]
    }
   ],
   "source": [
    "df.info()"
   ]
  },
  {
   "cell_type": "code",
   "execution_count": 8,
   "id": "34c3e489",
   "metadata": {},
   "outputs": [
    {
     "data": {
      "text/plain": [
       "Lot        0\n",
       "pH         0\n",
       "Temp       0\n",
       "Current    0\n",
       "Date       0\n",
       "dtype: int64"
      ]
     },
     "execution_count": 8,
     "metadata": {},
     "output_type": "execute_result"
    }
   ],
   "source": [
    "df.isnull().sum()"
   ]
  },
  {
   "cell_type": "code",
   "execution_count": 9,
   "id": "e74016f8",
   "metadata": {},
   "outputs": [
    {
     "data": {
      "image/png": "[encoded data removed]",
      "text/plain": [
       "<Figure size 600x600 with 4 Axes>"
      ]
     },
     "metadata": {},
     "output_type": "display_data"
    }
   ],
   "source": [
    "df.hist(figsize=(6,6))\n",
    "plt.show()"
   ]
  },
  {
   "cell_type": "code",
   "execution_count": 10,
   "id": "a45eb425",
   "metadata": {},
   "outputs": [
    {
     "data": {
      "text/html": [
       "<div>\n",
       "<style scoped>\n",
       "    .dataframe tbody tr th:only-of-type {\n",
       "        vertical-align: middle;\n",
       "    }\n",
       "\n",
       "    .dataframe tbody tr th {\n",
       "        vertical-align: top;\n",
       "    }\n",
       "\n",
       "    .dataframe thead th {\n",
       "        text-align: right;\n",
       "    }\n",
       "</style>\n",
       "<table border=\"1\" class=\"dataframe\">\n",
       "  <thead>\n",
       "    <tr style=\"text-align: right;\">\n",
       "      <th></th>\n",
       "      <th>Lot</th>\n",
       "      <th>pH</th>\n",
       "      <th>Temp</th>\n",
       "      <th>Current</th>\n",
       "    </tr>\n",
       "  </thead>\n",
       "  <tbody>\n",
       "    <tr>\n",
       "      <th>Lot</th>\n",
       "      <td>1.000000</td>\n",
       "      <td>-0.001241</td>\n",
       "      <td>-0.001545</td>\n",
       "      <td>-0.004212</td>\n",
       "    </tr>\n",
       "    <tr>\n",
       "      <th>pH</th>\n",
       "      <td>-0.001241</td>\n",
       "      <td>1.000000</td>\n",
       "      <td>0.001407</td>\n",
       "      <td>-0.026063</td>\n",
       "    </tr>\n",
       "    <tr>\n",
       "      <th>Temp</th>\n",
       "      <td>-0.001545</td>\n",
       "      <td>0.001407</td>\n",
       "      <td>1.000000</td>\n",
       "      <td>-0.000786</td>\n",
       "    </tr>\n",
       "    <tr>\n",
       "      <th>Current</th>\n",
       "      <td>-0.004212</td>\n",
       "      <td>-0.026063</td>\n",
       "      <td>-0.000786</td>\n",
       "      <td>1.000000</td>\n",
       "    </tr>\n",
       "  </tbody>\n",
       "</table>\n",
       "</div>"
      ],
      "text/plain": [
       "              Lot        pH      Temp   Current\n",
       "Lot      1.000000 -0.001241 -0.001545 -0.004212\n",
       "pH      -0.001241  1.000000  0.001407 -0.026063\n",
       "Temp    -0.001545  0.001407  1.000000 -0.000786\n",
       "Current -0.004212 -0.026063 -0.000786  1.000000"
      ]
     },
     "execution_count": 10,
     "metadata": {},
     "output_type": "execute_result"
    }
   ],
   "source": [
    "corr_matrix = df.corr()\n",
    "corr_matrix"
   ]
  },
  {
   "cell_type": "code",
   "execution_count": 11,
   "id": "bf866c3a",
   "metadata": {},
   "outputs": [
    {
     "data": {
      "text/plain": [
       "<Axes: >"
      ]
     },
     "execution_count": 11,
     "metadata": {},
     "output_type": "execute_result"
    },
    {
     "data": {
      "image/png": "[encoded data removed]",
      "text/plain": [
       "<Figure size 640x480 with 2 Axes>"
      ]
     },
     "metadata": {},
     "output_type": "display_data"
    }
   ],
   "source": [
    "sns.heatmap(corr_matrix, annot=True, fmt = '.2f', linewidths=.5, cmap='Blues')"
   ]
  },
  {
   "cell_type": "code",
   "execution_count": 12,
   "id": "f6c79cc6",
   "metadata": {},
   "outputs": [
    {
     "data": {
      "text/plain": [
       "array([ 1,  2,  3,  4,  5,  6,  7,  8,  9, 10, 11, 12, 13, 14, 15, 16, 17,\n",
       "       18, 19, 20, 21, 22], dtype=int64)"
      ]
     },
     "execution_count": 12,
     "metadata": {},
     "output_type": "execute_result"
    }
   ],
   "source": [
    "lot_lists = df['Lot'].unique()\n",
    "lot_lists"
   ]
  },
  {
   "cell_type": "code",
   "execution_count": 13,
   "id": "4481a66b",
   "metadata": {},
   "outputs": [
    {
     "data": {
      "text/plain": [
       "array(['2022-09-06', '2022-09-07', '2022-09-08', '2022-09-09',\n",
       "       '2022-09-10', '2022-09-13', '2022-09-14', '2022-09-15',\n",
       "       '2022-09-16', '2022-09-17', '2022-09-23', '2022-09-24',\n",
       "       '2022-09-27', '2022-09-28', '2022-09-29', '2022-09-30',\n",
       "       '2022-10-01', '2022-10-05', '2022-10-06', '2022-10-07',\n",
       "       '2022-10-08', '2022-10-12', '2022-10-13', '2022-10-14',\n",
       "       '2022-10-15', '2022-10-18', '2022-10-19', '2022-10-20',\n",
       "       '2022-10-21', '2022-10-22', '2022-10-25', '2022-10-26',\n",
       "       '2022-10-27'], dtype=object)"
      ]
     },
     "execution_count": 13,
     "metadata": {},
     "output_type": "execute_result"
    }
   ],
   "source": [
    "d_lists = df['Date'].unique()\n",
    "d_lists"
   ]
  },
  {
   "cell_type": "code",
   "execution_count": 14,
   "id": "06018118",
   "metadata": {},
   "outputs": [
    {
     "data": {
      "text/html": [
       "<div>\n",
       "<style scoped>\n",
       "    .dataframe tbody tr th:only-of-type {\n",
       "        vertical-align: middle;\n",
       "    }\n",
       "\n",
       "    .dataframe tbody tr th {\n",
       "        vertical-align: top;\n",
       "    }\n",
       "\n",
       "    .dataframe thead th {\n",
       "        text-align: right;\n",
       "    }\n",
       "</style>\n",
       "<table border=\"1\" class=\"dataframe\">\n",
       "  <thead>\n",
       "    <tr style=\"text-align: right;\">\n",
       "      <th></th>\n",
       "      <th>Index</th>\n",
       "      <th>Date</th>\n",
       "      <th>LoT</th>\n",
       "      <th>LoT2</th>\n",
       "    </tr>\n",
       "  </thead>\n",
       "  <tbody>\n",
       "    <tr>\n",
       "      <th>0</th>\n",
       "      <td>1</td>\n",
       "      <td>2022-09-06</td>\n",
       "      <td>NaN</td>\n",
       "      <td>NaN</td>\n",
       "    </tr>\n",
       "    <tr>\n",
       "      <th>1</th>\n",
       "      <td>2</td>\n",
       "      <td>2022-09-07</td>\n",
       "      <td>13.0</td>\n",
       "      <td>NaN</td>\n",
       "    </tr>\n",
       "    <tr>\n",
       "      <th>2</th>\n",
       "      <td>3</td>\n",
       "      <td>2022-09-08</td>\n",
       "      <td>NaN</td>\n",
       "      <td>NaN</td>\n",
       "    </tr>\n",
       "    <tr>\n",
       "      <th>3</th>\n",
       "      <td>4</td>\n",
       "      <td>2022-09-09</td>\n",
       "      <td>NaN</td>\n",
       "      <td>NaN</td>\n",
       "    </tr>\n",
       "    <tr>\n",
       "      <th>4</th>\n",
       "      <td>5</td>\n",
       "      <td>2022-09-10</td>\n",
       "      <td>NaN</td>\n",
       "      <td>NaN</td>\n",
       "    </tr>\n",
       "    <tr>\n",
       "      <th>5</th>\n",
       "      <td>6</td>\n",
       "      <td>2022-09-13</td>\n",
       "      <td>NaN</td>\n",
       "      <td>NaN</td>\n",
       "    </tr>\n",
       "    <tr>\n",
       "      <th>6</th>\n",
       "      <td>7</td>\n",
       "      <td>2022-09-14</td>\n",
       "      <td>5.0</td>\n",
       "      <td>NaN</td>\n",
       "    </tr>\n",
       "    <tr>\n",
       "      <th>7</th>\n",
       "      <td>8</td>\n",
       "      <td>2022-09-15</td>\n",
       "      <td>5.0</td>\n",
       "      <td>NaN</td>\n",
       "    </tr>\n",
       "    <tr>\n",
       "      <th>8</th>\n",
       "      <td>9</td>\n",
       "      <td>2022-09-16</td>\n",
       "      <td>NaN</td>\n",
       "      <td>NaN</td>\n",
       "    </tr>\n",
       "    <tr>\n",
       "      <th>9</th>\n",
       "      <td>10</td>\n",
       "      <td>2022-09-17</td>\n",
       "      <td>NaN</td>\n",
       "      <td>NaN</td>\n",
       "    </tr>\n",
       "    <tr>\n",
       "      <th>10</th>\n",
       "      <td>11</td>\n",
       "      <td>2022-09-23</td>\n",
       "      <td>13.0</td>\n",
       "      <td>NaN</td>\n",
       "    </tr>\n",
       "    <tr>\n",
       "      <th>11</th>\n",
       "      <td>12</td>\n",
       "      <td>2022-09-24</td>\n",
       "      <td>NaN</td>\n",
       "      <td>NaN</td>\n",
       "    </tr>\n",
       "    <tr>\n",
       "      <th>12</th>\n",
       "      <td>13</td>\n",
       "      <td>2022-09-27</td>\n",
       "      <td>NaN</td>\n",
       "      <td>NaN</td>\n",
       "    </tr>\n",
       "    <tr>\n",
       "      <th>13</th>\n",
       "      <td>14</td>\n",
       "      <td>2022-09-28</td>\n",
       "      <td>NaN</td>\n",
       "      <td>NaN</td>\n",
       "    </tr>\n",
       "    <tr>\n",
       "      <th>14</th>\n",
       "      <td>15</td>\n",
       "      <td>2022-09-29</td>\n",
       "      <td>9.0</td>\n",
       "      <td>NaN</td>\n",
       "    </tr>\n",
       "    <tr>\n",
       "      <th>15</th>\n",
       "      <td>16</td>\n",
       "      <td>2022-09-30</td>\n",
       "      <td>NaN</td>\n",
       "      <td>NaN</td>\n",
       "    </tr>\n",
       "    <tr>\n",
       "      <th>16</th>\n",
       "      <td>17</td>\n",
       "      <td>2022-10-01</td>\n",
       "      <td>8.0</td>\n",
       "      <td>NaN</td>\n",
       "    </tr>\n",
       "    <tr>\n",
       "      <th>17</th>\n",
       "      <td>18</td>\n",
       "      <td>2022-10-05</td>\n",
       "      <td>17.0</td>\n",
       "      <td>NaN</td>\n",
       "    </tr>\n",
       "    <tr>\n",
       "      <th>18</th>\n",
       "      <td>19</td>\n",
       "      <td>2022-10-06</td>\n",
       "      <td>19.0</td>\n",
       "      <td>NaN</td>\n",
       "    </tr>\n",
       "    <tr>\n",
       "      <th>19</th>\n",
       "      <td>20</td>\n",
       "      <td>2022-10-07</td>\n",
       "      <td>NaN</td>\n",
       "      <td>NaN</td>\n",
       "    </tr>\n",
       "    <tr>\n",
       "      <th>20</th>\n",
       "      <td>21</td>\n",
       "      <td>2022-10-08</td>\n",
       "      <td>14.0</td>\n",
       "      <td>NaN</td>\n",
       "    </tr>\n",
       "    <tr>\n",
       "      <th>21</th>\n",
       "      <td>22</td>\n",
       "      <td>2022-10-12</td>\n",
       "      <td>NaN</td>\n",
       "      <td>NaN</td>\n",
       "    </tr>\n",
       "    <tr>\n",
       "      <th>22</th>\n",
       "      <td>23</td>\n",
       "      <td>2022-10-13</td>\n",
       "      <td>NaN</td>\n",
       "      <td>NaN</td>\n",
       "    </tr>\n",
       "    <tr>\n",
       "      <th>23</th>\n",
       "      <td>24</td>\n",
       "      <td>2022-10-14</td>\n",
       "      <td>NaN</td>\n",
       "      <td>NaN</td>\n",
       "    </tr>\n",
       "    <tr>\n",
       "      <th>24</th>\n",
       "      <td>25</td>\n",
       "      <td>2022-10-15</td>\n",
       "      <td>NaN</td>\n",
       "      <td>NaN</td>\n",
       "    </tr>\n",
       "    <tr>\n",
       "      <th>25</th>\n",
       "      <td>26</td>\n",
       "      <td>2022-10-18</td>\n",
       "      <td>NaN</td>\n",
       "      <td>NaN</td>\n",
       "    </tr>\n",
       "    <tr>\n",
       "      <th>26</th>\n",
       "      <td>27</td>\n",
       "      <td>2022-10-19</td>\n",
       "      <td>NaN</td>\n",
       "      <td>NaN</td>\n",
       "    </tr>\n",
       "    <tr>\n",
       "      <th>27</th>\n",
       "      <td>28</td>\n",
       "      <td>2022-10-20</td>\n",
       "      <td>1.0</td>\n",
       "      <td>22.0</td>\n",
       "    </tr>\n",
       "    <tr>\n",
       "      <th>28</th>\n",
       "      <td>29</td>\n",
       "      <td>2022-10-21</td>\n",
       "      <td>NaN</td>\n",
       "      <td>NaN</td>\n",
       "    </tr>\n",
       "    <tr>\n",
       "      <th>29</th>\n",
       "      <td>30</td>\n",
       "      <td>2022-10-22</td>\n",
       "      <td>5.0</td>\n",
       "      <td>22.0</td>\n",
       "    </tr>\n",
       "    <tr>\n",
       "      <th>30</th>\n",
       "      <td>31</td>\n",
       "      <td>2022-10-25</td>\n",
       "      <td>19.0</td>\n",
       "      <td>NaN</td>\n",
       "    </tr>\n",
       "    <tr>\n",
       "      <th>31</th>\n",
       "      <td>32</td>\n",
       "      <td>2022-10-26</td>\n",
       "      <td>15.0</td>\n",
       "      <td>NaN</td>\n",
       "    </tr>\n",
       "    <tr>\n",
       "      <th>32</th>\n",
       "      <td>33</td>\n",
       "      <td>2022-10-27</td>\n",
       "      <td>NaN</td>\n",
       "      <td>NaN</td>\n",
       "    </tr>\n",
       "  </tbody>\n",
       "</table>\n",
       "</div>"
      ],
      "text/plain": [
       "    Index        Date   LoT  LoT2\n",
       "0       1  2022-09-06   NaN   NaN\n",
       "1       2  2022-09-07  13.0   NaN\n",
       "2       3  2022-09-08   NaN   NaN\n",
       "3       4  2022-09-09   NaN   NaN\n",
       "4       5  2022-09-10   NaN   NaN\n",
       "5       6  2022-09-13   NaN   NaN\n",
       "6       7  2022-09-14   5.0   NaN\n",
       "7       8  2022-09-15   5.0   NaN\n",
       "8       9  2022-09-16   NaN   NaN\n",
       "9      10  2022-09-17   NaN   NaN\n",
       "10     11  2022-09-23  13.0   NaN\n",
       "11     12  2022-09-24   NaN   NaN\n",
       "12     13  2022-09-27   NaN   NaN\n",
       "13     14  2022-09-28   NaN   NaN\n",
       "14     15  2022-09-29   9.0   NaN\n",
       "15     16  2022-09-30   NaN   NaN\n",
       "16     17  2022-10-01   8.0   NaN\n",
       "17     18  2022-10-05  17.0   NaN\n",
       "18     19  2022-10-06  19.0   NaN\n",
       "19     20  2022-10-07   NaN   NaN\n",
       "20     21  2022-10-08  14.0   NaN\n",
       "21     22  2022-10-12   NaN   NaN\n",
       "22     23  2022-10-13   NaN   NaN\n",
       "23     24  2022-10-14   NaN   NaN\n",
       "24     25  2022-10-15   NaN   NaN\n",
       "25     26  2022-10-18   NaN   NaN\n",
       "26     27  2022-10-19   NaN   NaN\n",
       "27     28  2022-10-20   1.0  22.0\n",
       "28     29  2022-10-21   NaN   NaN\n",
       "29     30  2022-10-22   5.0  22.0\n",
       "30     31  2022-10-25  19.0   NaN\n",
       "31     32  2022-10-26  15.0   NaN\n",
       "32     33  2022-10-27   NaN   NaN"
      ]
     },
     "execution_count": 14,
     "metadata": {},
     "output_type": "execute_result"
    }
   ],
   "source": [
    "df_er = pd.read_csv(glob.glob(new_path+'/*')[-1],index_col=False)\n",
    "df_er"
   ]
  },
  {
   "cell_type": "code",
   "execution_count": 15,
   "id": "d46253b0",
   "metadata": {},
   "outputs": [
    {
     "data": {
      "text/plain": [
       "array([13.,  5.,  9.,  8., 17., 19., 14.,  1., 15.])"
      ]
     },
     "execution_count": 15,
     "metadata": {},
     "output_type": "execute_result"
    }
   ],
   "source": [
    "er_drop = df_er.dropna(thresh=3, axis=0)\n",
    "lot_er_list = er_drop['LoT'].unique()\n",
    "lot_er_list"
   ]
  },
  {
   "cell_type": "code",
   "execution_count": 16,
   "id": "9d9baa6a",
   "metadata": {},
   "outputs": [
    {
     "data": {
      "text/plain": [
       "array(['2022-09-07', '2022-09-14', '2022-09-15', '2022-09-23',\n",
       "       '2022-09-29', '2022-10-01', '2022-10-05', '2022-10-06',\n",
       "       '2022-10-08', '2022-10-20', '2022-10-22', '2022-10-25',\n",
       "       '2022-10-26'], dtype=object)"
      ]
     },
     "execution_count": 16,
     "metadata": {},
     "output_type": "execute_result"
    }
   ],
   "source": [
    "d_er_list = er_drop['Date'].unique()\n",
    "d_er_list"
   ]
  },
  {
   "cell_type": "code",
   "execution_count": 17,
   "id": "3fa15423",
   "metadata": {},
   "outputs": [],
   "source": [
    "df_total = pd.DataFrame(columns=['pH','Temp','Current','NG'])"
   ]
  },
  {
   "cell_type": "code",
   "execution_count": 18,
   "id": "ef9e43fc",
   "metadata": {},
   "outputs": [
    {
     "data": {
      "text/html": [
       "<div>\n",
       "<style scoped>\n",
       "    .dataframe tbody tr th:only-of-type {\n",
       "        vertical-align: middle;\n",
       "    }\n",
       "\n",
       "    .dataframe tbody tr th {\n",
       "        vertical-align: top;\n",
       "    }\n",
       "\n",
       "    .dataframe thead th {\n",
       "        text-align: right;\n",
       "    }\n",
       "</style>\n",
       "<table border=\"1\" class=\"dataframe\">\n",
       "  <thead>\n",
       "    <tr style=\"text-align: right;\">\n",
       "      <th></th>\n",
       "      <th>pH</th>\n",
       "      <th>Temp</th>\n",
       "      <th>Current</th>\n",
       "      <th>NG</th>\n",
       "    </tr>\n",
       "  </thead>\n",
       "  <tbody>\n",
       "    <tr>\n",
       "      <th>0</th>\n",
       "      <td>10.37</td>\n",
       "      <td>42.87</td>\n",
       "      <td>7.34</td>\n",
       "      <td>0</td>\n",
       "    </tr>\n",
       "    <tr>\n",
       "      <th>1</th>\n",
       "      <td>10.90</td>\n",
       "      <td>42.70</td>\n",
       "      <td>8.26</td>\n",
       "      <td>0</td>\n",
       "    </tr>\n",
       "    <tr>\n",
       "      <th>2</th>\n",
       "      <td>9.61</td>\n",
       "      <td>42.37</td>\n",
       "      <td>8.46</td>\n",
       "      <td>0</td>\n",
       "    </tr>\n",
       "    <tr>\n",
       "      <th>3</th>\n",
       "      <td>10.32</td>\n",
       "      <td>45.85</td>\n",
       "      <td>8.04</td>\n",
       "      <td>0</td>\n",
       "    </tr>\n",
       "    <tr>\n",
       "      <th>4</th>\n",
       "      <td>10.36</td>\n",
       "      <td>44.18</td>\n",
       "      <td>7.23</td>\n",
       "      <td>0</td>\n",
       "    </tr>\n",
       "    <tr>\n",
       "      <th>...</th>\n",
       "      <td>...</td>\n",
       "      <td>...</td>\n",
       "      <td>...</td>\n",
       "      <td>...</td>\n",
       "    </tr>\n",
       "    <tr>\n",
       "      <th>50089</th>\n",
       "      <td>9.79</td>\n",
       "      <td>43.52</td>\n",
       "      <td>8.55</td>\n",
       "      <td>0</td>\n",
       "    </tr>\n",
       "    <tr>\n",
       "      <th>50090</th>\n",
       "      <td>9.53</td>\n",
       "      <td>44.44</td>\n",
       "      <td>7.36</td>\n",
       "      <td>0</td>\n",
       "    </tr>\n",
       "    <tr>\n",
       "      <th>50091</th>\n",
       "      <td>9.86</td>\n",
       "      <td>46.54</td>\n",
       "      <td>8.15</td>\n",
       "      <td>0</td>\n",
       "    </tr>\n",
       "    <tr>\n",
       "      <th>50092</th>\n",
       "      <td>10.52</td>\n",
       "      <td>47.88</td>\n",
       "      <td>7.97</td>\n",
       "      <td>0</td>\n",
       "    </tr>\n",
       "    <tr>\n",
       "      <th>50093</th>\n",
       "      <td>10.97</td>\n",
       "      <td>43.02</td>\n",
       "      <td>8.98</td>\n",
       "      <td>0</td>\n",
       "    </tr>\n",
       "  </tbody>\n",
       "</table>\n",
       "<p>50094 rows × 4 columns</p>\n",
       "</div>"
      ],
      "text/plain": [
       "          pH   Temp  Current  NG\n",
       "0      10.37  42.87     7.34   0\n",
       "1      10.90  42.70     8.26   0\n",
       "2       9.61  42.37     8.46   0\n",
       "3      10.32  45.85     8.04   0\n",
       "4      10.36  44.18     7.23   0\n",
       "...      ...    ...      ...  ..\n",
       "50089   9.79  43.52     8.55   0\n",
       "50090   9.53  44.44     7.36   0\n",
       "50091   9.86  46.54     8.15   0\n",
       "50092  10.52  47.88     7.97   0\n",
       "50093  10.97  43.02     8.98   0\n",
       "\n",
       "[50094 rows x 4 columns]"
      ]
     },
     "execution_count": 18,
     "metadata": {},
     "output_type": "execute_result"
    }
   ],
   "source": [
    "for d in d_lists:\n",
    "    for lot in lot_lists:\n",
    "        tmp = df[(df['Date']==d)&(df['Lot']==lot)]\n",
    "        tmp = tmp[['pH', 'Temp','Current']]\n",
    "        er_df = er_drop[(er_drop['Date']==d)&\n",
    "                              ((er_drop['LoT']==lot)|(er_drop['LoT2']==lot))]\n",
    "        len_error = len(er_df)\n",
    "        if len_error>0:\n",
    "            trr = np.full((tmp['pH'].shape), 1)\n",
    "        else:\n",
    "            trr = np.full((tmp['pH'].shape), 0)\n",
    "        tmp['NG'] = trr\n",
    "        df_total = df_total.append(tmp)\n",
    "df_total =  df_total.apply(pd.to_numeric)\n",
    "df_total"
   ]
  },
  {
   "cell_type": "code",
   "execution_count": 19,
   "id": "438b8e1e",
   "metadata": {},
   "outputs": [
    {
     "data": {
      "text/html": [
       "<div>\n",
       "<style scoped>\n",
       "    .dataframe tbody tr th:only-of-type {\n",
       "        vertical-align: middle;\n",
       "    }\n",
       "\n",
       "    .dataframe tbody tr th {\n",
       "        vertical-align: top;\n",
       "    }\n",
       "\n",
       "    .dataframe thead th {\n",
       "        text-align: right;\n",
       "    }\n",
       "</style>\n",
       "<table border=\"1\" class=\"dataframe\">\n",
       "  <thead>\n",
       "    <tr style=\"text-align: right;\">\n",
       "      <th></th>\n",
       "      <th>pH</th>\n",
       "      <th>Temp</th>\n",
       "      <th>Current</th>\n",
       "      <th>NG</th>\n",
       "    </tr>\n",
       "  </thead>\n",
       "  <tbody>\n",
       "    <tr>\n",
       "      <th>count</th>\n",
       "      <td>50094.000000</td>\n",
       "      <td>50094.000000</td>\n",
       "      <td>50094.000000</td>\n",
       "      <td>50094.000000</td>\n",
       "    </tr>\n",
       "    <tr>\n",
       "      <th>mean</th>\n",
       "      <td>10.273346</td>\n",
       "      <td>45.023847</td>\n",
       "      <td>7.974549</td>\n",
       "      <td>0.020661</td>\n",
       "    </tr>\n",
       "    <tr>\n",
       "      <th>std</th>\n",
       "      <td>0.453278</td>\n",
       "      <td>1.661687</td>\n",
       "      <td>0.601907</td>\n",
       "      <td>0.142249</td>\n",
       "    </tr>\n",
       "    <tr>\n",
       "      <th>min</th>\n",
       "      <td>9.510000</td>\n",
       "      <td>42.010000</td>\n",
       "      <td>5.510000</td>\n",
       "      <td>0.000000</td>\n",
       "    </tr>\n",
       "    <tr>\n",
       "      <th>25%</th>\n",
       "      <td>9.900000</td>\n",
       "      <td>43.670000</td>\n",
       "      <td>7.500000</td>\n",
       "      <td>0.000000</td>\n",
       "    </tr>\n",
       "    <tr>\n",
       "      <th>50%</th>\n",
       "      <td>10.260000</td>\n",
       "      <td>45.020000</td>\n",
       "      <td>7.990000</td>\n",
       "      <td>0.000000</td>\n",
       "    </tr>\n",
       "    <tr>\n",
       "      <th>75%</th>\n",
       "      <td>10.630000</td>\n",
       "      <td>46.360000</td>\n",
       "      <td>8.470000</td>\n",
       "      <td>0.000000</td>\n",
       "    </tr>\n",
       "    <tr>\n",
       "      <th>max</th>\n",
       "      <td>11.990000</td>\n",
       "      <td>51.980000</td>\n",
       "      <td>8.990000</td>\n",
       "      <td>1.000000</td>\n",
       "    </tr>\n",
       "  </tbody>\n",
       "</table>\n",
       "</div>"
      ],
      "text/plain": [
       "                 pH          Temp       Current            NG\n",
       "count  50094.000000  50094.000000  50094.000000  50094.000000\n",
       "mean      10.273346     45.023847      7.974549      0.020661\n",
       "std        0.453278      1.661687      0.601907      0.142249\n",
       "min        9.510000     42.010000      5.510000      0.000000\n",
       "25%        9.900000     43.670000      7.500000      0.000000\n",
       "50%       10.260000     45.020000      7.990000      0.000000\n",
       "75%       10.630000     46.360000      8.470000      0.000000\n",
       "max       11.990000     51.980000      8.990000      1.000000"
      ]
     },
     "execution_count": 19,
     "metadata": {},
     "output_type": "execute_result"
    }
   ],
   "source": [
    "df_total.describe()"
   ]
  },
  {
   "cell_type": "code",
   "execution_count": 20,
   "id": "0fcd4312",
   "metadata": {},
   "outputs": [
    {
     "data": {
      "text/html": [
       "<div>\n",
       "<style scoped>\n",
       "    .dataframe tbody tr th:only-of-type {\n",
       "        vertical-align: middle;\n",
       "    }\n",
       "\n",
       "    .dataframe tbody tr th {\n",
       "        vertical-align: top;\n",
       "    }\n",
       "\n",
       "    .dataframe thead th {\n",
       "        text-align: right;\n",
       "    }\n",
       "</style>\n",
       "<table border=\"1\" class=\"dataframe\">\n",
       "  <thead>\n",
       "    <tr style=\"text-align: right;\">\n",
       "      <th></th>\n",
       "      <th>pH</th>\n",
       "      <th>Temp</th>\n",
       "      <th>Current</th>\n",
       "      <th>NG</th>\n",
       "    </tr>\n",
       "  </thead>\n",
       "  <tbody>\n",
       "    <tr>\n",
       "      <th>pH</th>\n",
       "      <td>1.000000</td>\n",
       "      <td>0.001407</td>\n",
       "      <td>-0.026063</td>\n",
       "      <td>0.026743</td>\n",
       "    </tr>\n",
       "    <tr>\n",
       "      <th>Temp</th>\n",
       "      <td>0.001407</td>\n",
       "      <td>1.000000</td>\n",
       "      <td>-0.000786</td>\n",
       "      <td>0.011250</td>\n",
       "    </tr>\n",
       "    <tr>\n",
       "      <th>Current</th>\n",
       "      <td>-0.026063</td>\n",
       "      <td>-0.000786</td>\n",
       "      <td>1.000000</td>\n",
       "      <td>-0.014376</td>\n",
       "    </tr>\n",
       "    <tr>\n",
       "      <th>NG</th>\n",
       "      <td>0.026743</td>\n",
       "      <td>0.011250</td>\n",
       "      <td>-0.014376</td>\n",
       "      <td>1.000000</td>\n",
       "    </tr>\n",
       "  </tbody>\n",
       "</table>\n",
       "</div>"
      ],
      "text/plain": [
       "               pH      Temp   Current        NG\n",
       "pH       1.000000  0.001407 -0.026063  0.026743\n",
       "Temp     0.001407  1.000000 -0.000786  0.011250\n",
       "Current -0.026063 -0.000786  1.000000 -0.014376\n",
       "NG       0.026743  0.011250 -0.014376  1.000000"
      ]
     },
     "execution_count": 20,
     "metadata": {},
     "output_type": "execute_result"
    }
   ],
   "source": [
    "df_total.corr()"
   ]
  },
  {
   "cell_type": "code",
   "execution_count": 21,
   "id": "71d6c45c",
   "metadata": {},
   "outputs": [
    {
     "data": {
      "text/plain": [
       "<Axes: >"
      ]
     },
     "execution_count": 21,
     "metadata": {},
     "output_type": "execute_result"
    },
    {
     "data": {
      "image/png": "[encoded data removed]",
      "text/plain": [
       "<Figure size 640x480 with 2 Axes>"
      ]
     },
     "metadata": {},
     "output_type": "display_data"
    }
   ],
   "source": [
    "sns.heatmap(df_total.corr(), annot=True, fmt = '.2f', linewidths=.5, cmap='Blues')"
   ]
  },
  {
   "cell_type": "code",
   "execution_count": 22,
   "id": "20bc9702",
   "metadata": {},
   "outputs": [
    {
     "data": {
      "text/plain": [
       "NG         1.000000\n",
       "pH         0.026743\n",
       "Temp       0.011250\n",
       "Current   -0.014376\n",
       "Name: NG, dtype: float64"
      ]
     },
     "execution_count": 22,
     "metadata": {},
     "output_type": "execute_result"
    }
   ],
   "source": [
    "corr_matrix = df_total.corr()\n",
    "corr_matrix[\"NG\"].sort_values(ascending=False)"
   ]
  },
  {
   "cell_type": "code",
   "execution_count": 23,
   "id": "99783a87",
   "metadata": {},
   "outputs": [],
   "source": [
    "df_total_copy = df_total.copy()"
   ]
  },
  {
   "cell_type": "code",
   "execution_count": 24,
   "id": "055d286f",
   "metadata": {},
   "outputs": [],
   "source": [
    "df_total_copy[\"ratio\"] = df_total[\"pH\"] / df_total[\"Current\"]"
   ]
  },
  {
   "cell_type": "code",
   "execution_count": 25,
   "id": "e9d67d42",
   "metadata": {},
   "outputs": [
    {
     "data": {
      "text/plain": [
       "NG         1.000000\n",
       "ratio      0.028735\n",
       "pH         0.026743\n",
       "Temp       0.011250\n",
       "Current   -0.014376\n",
       "Name: NG, dtype: float64"
      ]
     },
     "execution_count": 25,
     "metadata": {},
     "output_type": "execute_result"
    }
   ],
   "source": [
    "corr_matrix = df_total_copy.corr()\n",
    "corr_matrix[\"NG\"].sort_values(ascending=False)"
   ]
  },
  {
   "cell_type": "code",
   "execution_count": 26,
   "id": "5c2138f9",
   "metadata": {},
   "outputs": [
    {
     "data": {
      "image/png": "[encoded data removed]",
      "text/plain": [
       "<Figure size 800x300 with 2 Axes>"
      ]
     },
     "metadata": {},
     "output_type": "display_data"
    }
   ],
   "source": [
    "fig, axs = plt.subplots(1, 2, figsize=(8, 3), sharey=True)\n",
    "df_total[\"pH\"].hist(ax=axs[0], bins=10)\n",
    "df_total[\"pH\"].apply(np.log).hist(ax=axs[1], bins=10)\n",
    "axs[0].set_xlabel(\"pH\")\n",
    "axs[1].set_xlabel(\"Log of pH\")\n",
    "axs[0].set_ylabel(\"Number of districts\")\n",
    "plt.show()"
   ]
  },
  {
   "cell_type": "code",
   "execution_count": 27,
   "id": "04d903aa",
   "metadata": {},
   "outputs": [
    {
     "data": {
      "image/png": "[encoded data removed]",
      "text/plain": [
       "<Figure size 800x300 with 2 Axes>"
      ]
     },
     "metadata": {},
     "output_type": "display_data"
    }
   ],
   "source": [
    "fig, axs = plt.subplots(1, 2, figsize=(8, 3), sharey=True)\n",
    "df_total[\"Temp\"].hist(ax=axs[0], bins=10)\n",
    "df_total[\"Temp\"].apply(np.log).hist(ax=axs[1], bins=10)\n",
    "axs[0].set_xlabel(\"Temp\")\n",
    "axs[1].set_xlabel(\"Log of Temp\")\n",
    "axs[0].set_ylabel(\"Number of districts\")\n",
    "plt.show()"
   ]
  },
  {
   "cell_type": "code",
   "execution_count": 28,
   "id": "ed2c9856",
   "metadata": {},
   "outputs": [
    {
     "data": {
      "text/plain": [
       "array([[ 0.21323559, -1.29619347, -1.05424198],\n",
       "       [ 1.38250699, -1.39850013,  0.47424872],\n",
       "       [-1.46345548, -1.59709541,  0.80652931],\n",
       "       ...,\n",
       "       [-0.91191236,  0.91242678,  0.2914944 ],\n",
       "       [ 0.54416146,  1.71884399, -0.00755813],\n",
       "       [ 1.53693907, -1.20592289,  1.67045884]])"
      ]
     },
     "execution_count": 28,
     "metadata": {},
     "output_type": "execute_result"
    }
   ],
   "source": [
    "from sklearn.preprocessing import StandardScaler\n",
    "\n",
    "df_total_data = df_total.drop(['NG'], axis=1) \n",
    "scaler = StandardScaler()\n",
    "df_total_scale = scaler.fit_transform(df_total_data)\n",
    "df_total_scale"
   ]
  },
  {
   "cell_type": "code",
   "execution_count": 29,
   "id": "e8bb4084",
   "metadata": {},
   "outputs": [
    {
     "data": {
      "image/png": "[encoded data removed]",
      "text/plain": [
       "<Figure size 640x480 with 1 Axes>"
      ]
     },
     "metadata": {},
     "output_type": "display_data"
    }
   ],
   "source": [
    "plt.plot(df_total_data)\n",
    "plt.show()"
   ]
  },
  {
   "cell_type": "code",
   "execution_count": 30,
   "id": "8c4c191c",
   "metadata": {},
   "outputs": [
    {
     "data": {
      "image/png": "[encoded data removed]",
      "text/plain": [
       "<Figure size 640x480 with 1 Axes>"
      ]
     },
     "metadata": {},
     "output_type": "display_data"
    }
   ],
   "source": [
    "plt.plot(df_total_scale)\n",
    "plt.show()"
   ]
  },
  {
   "cell_type": "code",
   "execution_count": 31,
   "id": "ea5dbeb8",
   "metadata": {},
   "outputs": [
    {
     "data": {
      "text/html": [
       "<div>\n",
       "<style scoped>\n",
       "    .dataframe tbody tr th:only-of-type {\n",
       "        vertical-align: middle;\n",
       "    }\n",
       "\n",
       "    .dataframe tbody tr th {\n",
       "        vertical-align: top;\n",
       "    }\n",
       "\n",
       "    .dataframe thead th {\n",
       "        text-align: right;\n",
       "    }\n",
       "</style>\n",
       "<table border=\"1\" class=\"dataframe\">\n",
       "  <thead>\n",
       "    <tr style=\"text-align: right;\">\n",
       "      <th></th>\n",
       "      <th>pH</th>\n",
       "      <th>Temp</th>\n",
       "      <th>Current</th>\n",
       "      <th>NG</th>\n",
       "    </tr>\n",
       "  </thead>\n",
       "  <tbody>\n",
       "    <tr>\n",
       "      <th>0</th>\n",
       "      <td>0.213236</td>\n",
       "      <td>-1.296193</td>\n",
       "      <td>-1.054242</td>\n",
       "      <td>0</td>\n",
       "    </tr>\n",
       "    <tr>\n",
       "      <th>1</th>\n",
       "      <td>1.382507</td>\n",
       "      <td>-1.398500</td>\n",
       "      <td>0.474249</td>\n",
       "      <td>0</td>\n",
       "    </tr>\n",
       "    <tr>\n",
       "      <th>2</th>\n",
       "      <td>-1.463455</td>\n",
       "      <td>-1.597095</td>\n",
       "      <td>0.806529</td>\n",
       "      <td>0</td>\n",
       "    </tr>\n",
       "    <tr>\n",
       "      <th>3</th>\n",
       "      <td>0.102927</td>\n",
       "      <td>0.497182</td>\n",
       "      <td>0.108740</td>\n",
       "      <td>0</td>\n",
       "    </tr>\n",
       "    <tr>\n",
       "      <th>4</th>\n",
       "      <td>0.191174</td>\n",
       "      <td>-0.507830</td>\n",
       "      <td>-1.236996</td>\n",
       "      <td>0</td>\n",
       "    </tr>\n",
       "    <tr>\n",
       "      <th>...</th>\n",
       "      <td>...</td>\n",
       "      <td>...</td>\n",
       "      <td>...</td>\n",
       "      <td>...</td>\n",
       "    </tr>\n",
       "    <tr>\n",
       "      <th>50089</th>\n",
       "      <td>-1.066344</td>\n",
       "      <td>-0.905021</td>\n",
       "      <td>0.956056</td>\n",
       "      <td>0</td>\n",
       "    </tr>\n",
       "    <tr>\n",
       "      <th>50090</th>\n",
       "      <td>-1.639949</td>\n",
       "      <td>-0.351361</td>\n",
       "      <td>-1.021014</td>\n",
       "      <td>0</td>\n",
       "    </tr>\n",
       "    <tr>\n",
       "      <th>50091</th>\n",
       "      <td>-0.911912</td>\n",
       "      <td>0.912427</td>\n",
       "      <td>0.291494</td>\n",
       "      <td>0</td>\n",
       "    </tr>\n",
       "    <tr>\n",
       "      <th>50092</th>\n",
       "      <td>0.544161</td>\n",
       "      <td>1.718844</td>\n",
       "      <td>-0.007558</td>\n",
       "      <td>0</td>\n",
       "    </tr>\n",
       "    <tr>\n",
       "      <th>50093</th>\n",
       "      <td>1.536939</td>\n",
       "      <td>-1.205923</td>\n",
       "      <td>1.670459</td>\n",
       "      <td>0</td>\n",
       "    </tr>\n",
       "  </tbody>\n",
       "</table>\n",
       "<p>50094 rows × 4 columns</p>\n",
       "</div>"
      ],
      "text/plain": [
       "             pH      Temp   Current  NG\n",
       "0      0.213236 -1.296193 -1.054242   0\n",
       "1      1.382507 -1.398500  0.474249   0\n",
       "2     -1.463455 -1.597095  0.806529   0\n",
       "3      0.102927  0.497182  0.108740   0\n",
       "4      0.191174 -0.507830 -1.236996   0\n",
       "...         ...       ...       ...  ..\n",
       "50089 -1.066344 -0.905021  0.956056   0\n",
       "50090 -1.639949 -0.351361 -1.021014   0\n",
       "50091 -0.911912  0.912427  0.291494   0\n",
       "50092  0.544161  1.718844 -0.007558   0\n",
       "50093  1.536939 -1.205923  1.670459   0\n",
       "\n",
       "[50094 rows x 4 columns]"
      ]
     },
     "execution_count": 31,
     "metadata": {},
     "output_type": "execute_result"
    }
   ],
   "source": [
    "df_scale = pd.DataFrame(df_total_scale, columns=['pH', 'Temp', 'Current'])\n",
    "df_scale['NG'] = df_total['NG']\n",
    "df_scale"
   ]
  },
  {
   "cell_type": "code",
   "execution_count": 32,
   "id": "5b17b7a6",
   "metadata": {},
   "outputs": [
    {
     "data": {
      "text/html": [
       "<div>\n",
       "<style scoped>\n",
       "    .dataframe tbody tr th:only-of-type {\n",
       "        vertical-align: middle;\n",
       "    }\n",
       "\n",
       "    .dataframe tbody tr th {\n",
       "        vertical-align: top;\n",
       "    }\n",
       "\n",
       "    .dataframe thead th {\n",
       "        text-align: right;\n",
       "    }\n",
       "</style>\n",
       "<table border=\"1\" class=\"dataframe\">\n",
       "  <thead>\n",
       "    <tr style=\"text-align: right;\">\n",
       "      <th></th>\n",
       "      <th>pH</th>\n",
       "      <th>Temp</th>\n",
       "      <th>Current</th>\n",
       "      <th>NG</th>\n",
       "    </tr>\n",
       "  </thead>\n",
       "  <tbody>\n",
       "    <tr>\n",
       "      <th>0</th>\n",
       "      <td>0.213236</td>\n",
       "      <td>-1.296193</td>\n",
       "      <td>-1.054242</td>\n",
       "      <td>0</td>\n",
       "    </tr>\n",
       "    <tr>\n",
       "      <th>1</th>\n",
       "      <td>1.382507</td>\n",
       "      <td>-1.398500</td>\n",
       "      <td>0.474249</td>\n",
       "      <td>0</td>\n",
       "    </tr>\n",
       "    <tr>\n",
       "      <th>2</th>\n",
       "      <td>-1.463455</td>\n",
       "      <td>-1.597095</td>\n",
       "      <td>0.806529</td>\n",
       "      <td>0</td>\n",
       "    </tr>\n",
       "    <tr>\n",
       "      <th>3</th>\n",
       "      <td>0.102927</td>\n",
       "      <td>0.497182</td>\n",
       "      <td>0.108740</td>\n",
       "      <td>0</td>\n",
       "    </tr>\n",
       "    <tr>\n",
       "      <th>4</th>\n",
       "      <td>0.191174</td>\n",
       "      <td>-0.507830</td>\n",
       "      <td>-1.236996</td>\n",
       "      <td>0</td>\n",
       "    </tr>\n",
       "    <tr>\n",
       "      <th>...</th>\n",
       "      <td>...</td>\n",
       "      <td>...</td>\n",
       "      <td>...</td>\n",
       "      <td>...</td>\n",
       "    </tr>\n",
       "    <tr>\n",
       "      <th>41740</th>\n",
       "      <td>1.161890</td>\n",
       "      <td>-1.693384</td>\n",
       "      <td>0.324722</td>\n",
       "      <td>0</td>\n",
       "    </tr>\n",
       "    <tr>\n",
       "      <th>41741</th>\n",
       "      <td>0.941273</td>\n",
       "      <td>-1.609131</td>\n",
       "      <td>0.158582</td>\n",
       "      <td>0</td>\n",
       "    </tr>\n",
       "    <tr>\n",
       "      <th>41742</th>\n",
       "      <td>0.235297</td>\n",
       "      <td>-0.953165</td>\n",
       "      <td>0.706845</td>\n",
       "      <td>0</td>\n",
       "    </tr>\n",
       "    <tr>\n",
       "      <th>41743</th>\n",
       "      <td>0.257359</td>\n",
       "      <td>0.473110</td>\n",
       "      <td>1.404634</td>\n",
       "      <td>0</td>\n",
       "    </tr>\n",
       "    <tr>\n",
       "      <th>41744</th>\n",
       "      <td>1.647248</td>\n",
       "      <td>0.358767</td>\n",
       "      <td>-0.505979</td>\n",
       "      <td>0</td>\n",
       "    </tr>\n",
       "  </tbody>\n",
       "</table>\n",
       "<p>41745 rows × 4 columns</p>\n",
       "</div>"
      ],
      "text/plain": [
       "             pH      Temp   Current  NG\n",
       "0      0.213236 -1.296193 -1.054242   0\n",
       "1      1.382507 -1.398500  0.474249   0\n",
       "2     -1.463455 -1.597095  0.806529   0\n",
       "3      0.102927  0.497182  0.108740   0\n",
       "4      0.191174 -0.507830 -1.236996   0\n",
       "...         ...       ...       ...  ..\n",
       "41740  1.161890 -1.693384  0.324722   0\n",
       "41741  0.941273 -1.609131  0.158582   0\n",
       "41742  0.235297 -0.953165  0.706845   0\n",
       "41743  0.257359  0.473110  1.404634   0\n",
       "41744  1.647248  0.358767 -0.505979   0\n",
       "\n",
       "[41745 rows x 4 columns]"
      ]
     },
     "execution_count": 32,
     "metadata": {},
     "output_type": "execute_result"
    }
   ],
   "source": [
    "train_data = df_scale[:41745]\n",
    "test_data = df_scale[41745:]\n",
    "train_data"
   ]
  },
  {
   "cell_type": "code",
   "execution_count": 33,
   "id": "6338df7d",
   "metadata": {},
   "outputs": [
    {
     "data": {
      "text/html": [
       "<div>\n",
       "<style scoped>\n",
       "    .dataframe tbody tr th:only-of-type {\n",
       "        vertical-align: middle;\n",
       "    }\n",
       "\n",
       "    .dataframe tbody tr th {\n",
       "        vertical-align: top;\n",
       "    }\n",
       "\n",
       "    .dataframe thead th {\n",
       "        text-align: right;\n",
       "    }\n",
       "</style>\n",
       "<table border=\"1\" class=\"dataframe\">\n",
       "  <thead>\n",
       "    <tr style=\"text-align: right;\">\n",
       "      <th></th>\n",
       "      <th>pH</th>\n",
       "      <th>Temp</th>\n",
       "      <th>Current</th>\n",
       "      <th>NG</th>\n",
       "    </tr>\n",
       "  </thead>\n",
       "  <tbody>\n",
       "    <tr>\n",
       "      <th>41745</th>\n",
       "      <td>0.610347</td>\n",
       "      <td>0.671705</td>\n",
       "      <td>0.756687</td>\n",
       "      <td>0</td>\n",
       "    </tr>\n",
       "    <tr>\n",
       "      <th>41746</th>\n",
       "      <td>-0.514801</td>\n",
       "      <td>-0.002315</td>\n",
       "      <td>1.687073</td>\n",
       "      <td>0</td>\n",
       "    </tr>\n",
       "    <tr>\n",
       "      <th>41747</th>\n",
       "      <td>-1.110468</td>\n",
       "      <td>-0.080550</td>\n",
       "      <td>-0.805032</td>\n",
       "      <td>0</td>\n",
       "    </tr>\n",
       "    <tr>\n",
       "      <th>41748</th>\n",
       "      <td>1.404569</td>\n",
       "      <td>-0.959183</td>\n",
       "      <td>1.304950</td>\n",
       "      <td>0</td>\n",
       "    </tr>\n",
       "    <tr>\n",
       "      <th>41749</th>\n",
       "      <td>-1.110468</td>\n",
       "      <td>-1.681348</td>\n",
       "      <td>0.507477</td>\n",
       "      <td>0</td>\n",
       "    </tr>\n",
       "    <tr>\n",
       "      <th>...</th>\n",
       "      <td>...</td>\n",
       "      <td>...</td>\n",
       "      <td>...</td>\n",
       "      <td>...</td>\n",
       "    </tr>\n",
       "    <tr>\n",
       "      <th>50089</th>\n",
       "      <td>-1.066344</td>\n",
       "      <td>-0.905021</td>\n",
       "      <td>0.956056</td>\n",
       "      <td>0</td>\n",
       "    </tr>\n",
       "    <tr>\n",
       "      <th>50090</th>\n",
       "      <td>-1.639949</td>\n",
       "      <td>-0.351361</td>\n",
       "      <td>-1.021014</td>\n",
       "      <td>0</td>\n",
       "    </tr>\n",
       "    <tr>\n",
       "      <th>50091</th>\n",
       "      <td>-0.911912</td>\n",
       "      <td>0.912427</td>\n",
       "      <td>0.291494</td>\n",
       "      <td>0</td>\n",
       "    </tr>\n",
       "    <tr>\n",
       "      <th>50092</th>\n",
       "      <td>0.544161</td>\n",
       "      <td>1.718844</td>\n",
       "      <td>-0.007558</td>\n",
       "      <td>0</td>\n",
       "    </tr>\n",
       "    <tr>\n",
       "      <th>50093</th>\n",
       "      <td>1.536939</td>\n",
       "      <td>-1.205923</td>\n",
       "      <td>1.670459</td>\n",
       "      <td>0</td>\n",
       "    </tr>\n",
       "  </tbody>\n",
       "</table>\n",
       "<p>8349 rows × 4 columns</p>\n",
       "</div>"
      ],
      "text/plain": [
       "             pH      Temp   Current  NG\n",
       "41745  0.610347  0.671705  0.756687   0\n",
       "41746 -0.514801 -0.002315  1.687073   0\n",
       "41747 -1.110468 -0.080550 -0.805032   0\n",
       "41748  1.404569 -0.959183  1.304950   0\n",
       "41749 -1.110468 -1.681348  0.507477   0\n",
       "...         ...       ...       ...  ..\n",
       "50089 -1.066344 -0.905021  0.956056   0\n",
       "50090 -1.639949 -0.351361 -1.021014   0\n",
       "50091 -0.911912  0.912427  0.291494   0\n",
       "50092  0.544161  1.718844 -0.007558   0\n",
       "50093  1.536939 -1.205923  1.670459   0\n",
       "\n",
       "[8349 rows x 4 columns]"
      ]
     },
     "execution_count": 33,
     "metadata": {},
     "output_type": "execute_result"
    }
   ],
   "source": [
    "test_data"
   ]
  },
  {
   "cell_type": "code",
   "execution_count": 34,
   "id": "bf63490d",
   "metadata": {},
   "outputs": [
    {
     "data": {
      "text/html": [
       "<div>\n",
       "<style scoped>\n",
       "    .dataframe tbody tr th:only-of-type {\n",
       "        vertical-align: middle;\n",
       "    }\n",
       "\n",
       "    .dataframe tbody tr th {\n",
       "        vertical-align: top;\n",
       "    }\n",
       "\n",
       "    .dataframe thead th {\n",
       "        text-align: right;\n",
       "    }\n",
       "</style>\n",
       "<table border=\"1\" class=\"dataframe\">\n",
       "  <thead>\n",
       "    <tr style=\"text-align: right;\">\n",
       "      <th></th>\n",
       "      <th>pH</th>\n",
       "      <th>Temp</th>\n",
       "      <th>Current</th>\n",
       "      <th>NG</th>\n",
       "    </tr>\n",
       "  </thead>\n",
       "  <tbody>\n",
       "    <tr>\n",
       "      <th>0</th>\n",
       "      <td>0.213236</td>\n",
       "      <td>-1.296193</td>\n",
       "      <td>-1.054242</td>\n",
       "      <td>0</td>\n",
       "    </tr>\n",
       "    <tr>\n",
       "      <th>1</th>\n",
       "      <td>1.382507</td>\n",
       "      <td>-1.398500</td>\n",
       "      <td>0.474249</td>\n",
       "      <td>0</td>\n",
       "    </tr>\n",
       "    <tr>\n",
       "      <th>2</th>\n",
       "      <td>-1.463455</td>\n",
       "      <td>-1.597095</td>\n",
       "      <td>0.806529</td>\n",
       "      <td>0</td>\n",
       "    </tr>\n",
       "    <tr>\n",
       "      <th>3</th>\n",
       "      <td>0.102927</td>\n",
       "      <td>0.497182</td>\n",
       "      <td>0.108740</td>\n",
       "      <td>0</td>\n",
       "    </tr>\n",
       "    <tr>\n",
       "      <th>4</th>\n",
       "      <td>0.191174</td>\n",
       "      <td>-0.507830</td>\n",
       "      <td>-1.236996</td>\n",
       "      <td>0</td>\n",
       "    </tr>\n",
       "    <tr>\n",
       "      <th>...</th>\n",
       "      <td>...</td>\n",
       "      <td>...</td>\n",
       "      <td>...</td>\n",
       "      <td>...</td>\n",
       "    </tr>\n",
       "    <tr>\n",
       "      <th>41740</th>\n",
       "      <td>1.161890</td>\n",
       "      <td>-1.693384</td>\n",
       "      <td>0.324722</td>\n",
       "      <td>0</td>\n",
       "    </tr>\n",
       "    <tr>\n",
       "      <th>41741</th>\n",
       "      <td>0.941273</td>\n",
       "      <td>-1.609131</td>\n",
       "      <td>0.158582</td>\n",
       "      <td>0</td>\n",
       "    </tr>\n",
       "    <tr>\n",
       "      <th>41742</th>\n",
       "      <td>0.235297</td>\n",
       "      <td>-0.953165</td>\n",
       "      <td>0.706845</td>\n",
       "      <td>0</td>\n",
       "    </tr>\n",
       "    <tr>\n",
       "      <th>41743</th>\n",
       "      <td>0.257359</td>\n",
       "      <td>0.473110</td>\n",
       "      <td>1.404634</td>\n",
       "      <td>0</td>\n",
       "    </tr>\n",
       "    <tr>\n",
       "      <th>41744</th>\n",
       "      <td>1.647248</td>\n",
       "      <td>0.358767</td>\n",
       "      <td>-0.505979</td>\n",
       "      <td>0</td>\n",
       "    </tr>\n",
       "  </tbody>\n",
       "</table>\n",
       "<p>41055 rows × 4 columns</p>\n",
       "</div>"
      ],
      "text/plain": [
       "             pH      Temp   Current  NG\n",
       "0      0.213236 -1.296193 -1.054242   0\n",
       "1      1.382507 -1.398500  0.474249   0\n",
       "2     -1.463455 -1.597095  0.806529   0\n",
       "3      0.102927  0.497182  0.108740   0\n",
       "4      0.191174 -0.507830 -1.236996   0\n",
       "...         ...       ...       ...  ..\n",
       "41740  1.161890 -1.693384  0.324722   0\n",
       "41741  0.941273 -1.609131  0.158582   0\n",
       "41742  0.235297 -0.953165  0.706845   0\n",
       "41743  0.257359  0.473110  1.404634   0\n",
       "41744  1.647248  0.358767 -0.505979   0\n",
       "\n",
       "[41055 rows x 4 columns]"
      ]
     },
     "execution_count": 34,
     "metadata": {},
     "output_type": "execute_result"
    }
   ],
   "source": [
    "ng_idx_train=train_data[train_data['NG']==1].index\n",
    "ok_idx_train=train_data[train_data['NG']==0].index\n",
    "ok_train=train_data.loc[ok_idx_train]\n",
    "ng_train=train_data.loc[ng_idx_train]\n",
    "ok_train"
   ]
  },
  {
   "cell_type": "code",
   "execution_count": 35,
   "id": "8a935d04",
   "metadata": {},
   "outputs": [
    {
     "data": {
      "text/plain": [
       "array([[[ 0.21323559, -1.29619347, -1.05424198],\n",
       "        [ 1.38250699, -1.39850013,  0.47424872],\n",
       "        [-1.46345548, -1.59709541,  0.80652931],\n",
       "        ...,\n",
       "        [ 0.80890216,  1.75495222,  0.30810843],\n",
       "        [ 0.45591456, -0.55597469, -0.78841751],\n",
       "        [ 0.87508733, -0.69438959,  0.37456454]],\n",
       "\n",
       "       [[ 1.38250699, -1.39850013,  0.47424872],\n",
       "        [-1.46345548, -1.59709541,  0.80652931],\n",
       "        [ 0.10292697,  0.4971821 ,  0.10874007],\n",
       "        ...,\n",
       "        [ 0.45591456, -0.55597469, -0.78841751],\n",
       "        [ 0.87508733, -0.69438959,  0.37456454],\n",
       "        [-0.73541856,  0.16017193,  0.80652931]],\n",
       "\n",
       "       [[-1.46345548, -1.59709541,  0.80652931],\n",
       "        [ 0.10292697,  0.4971821 ,  0.10874007],\n",
       "        [ 0.19117387, -0.50783038, -1.23699631],\n",
       "        ...,\n",
       "        [ 0.87508733, -0.69438959,  0.37456454],\n",
       "        [-0.73541856,  0.16017193,  0.80652931],\n",
       "        [-0.00738165, -1.24203112, -1.18715422]],\n",
       "\n",
       "       ...,\n",
       "\n",
       "       [[ 0.16911214, -0.35737941, -0.73857543],\n",
       "        [-0.80160374,  0.0939735 , -1.48620675],\n",
       "        [ 0.0367418 , -0.82678644,  1.42124839],\n",
       "        ...,\n",
       "        [ 1.25013665, -0.54995665,  1.30495019],\n",
       "        [ 1.16188975, -1.69338403,  0.32472245],\n",
       "        [ 0.9412725 , -1.60913149,  0.15858216]],\n",
       "\n",
       "       [[-0.80160374,  0.0939735 , -1.48620675],\n",
       "        [ 0.0367418 , -0.82678644,  1.42124839],\n",
       "        [-1.3090234 , -0.75456997, -0.85487363],\n",
       "        ...,\n",
       "        [ 1.16188975, -1.69338403,  0.32472245],\n",
       "        [ 0.9412725 , -1.60913149,  0.15858216],\n",
       "        [ 0.23529732, -0.95316526,  0.70684513]],\n",
       "\n",
       "       [[ 0.0367418 , -0.82678644,  1.42124839],\n",
       "        [-1.3090234 , -0.75456997, -0.85487363],\n",
       "        [ 0.83096388, -0.27312687,  0.02566993],\n",
       "        ...,\n",
       "        [ 0.9412725 , -1.60913149,  0.15858216],\n",
       "        [ 0.23529732, -0.95316526,  0.70684513],\n",
       "        [ 0.25735904,  0.47310995,  1.40463437]]])"
      ]
     },
     "execution_count": 35,
     "metadata": {},
     "output_type": "execute_result"
    }
   ],
   "source": [
    "TIME_STEP=23\n",
    "def sequences(x,y,time_steps=TIME_STEP):\n",
    "    xs,ys=[],[]\n",
    "    for i in range(len(x)-time_steps):\n",
    "        xs.append(x.iloc[i:(i+time_steps)].values)\n",
    "        ys.append(y.iloc[i:(i+time_steps)].values)\n",
    "        \n",
    "    return np.array(xs), np.array(ys)\n",
    "    \n",
    "X_train, Y_train = sequences(ok_train[['pH','Temp','Current']],ok_train[['pH','Temp','Current']])\n",
    "X_train"
   ]
  },
  {
   "cell_type": "code",
   "execution_count": 36,
   "id": "8ca2d46f",
   "metadata": {},
   "outputs": [
    {
     "data": {
      "text/plain": [
       "array([[[ 6.10346634e-01,  6.71705229e-01,  7.56687219e-01],\n",
       "        [-5.14801319e-01, -2.31512010e-03,  1.68707287e+00],\n",
       "        [-1.11046788e+00, -8.05496249e-02, -8.05031544e-01],\n",
       "        ...,\n",
       "        [ 6.54470083e-01,  5.78652682e-02,  1.67045884e+00],\n",
       "        [-8.23665463e-01,  9.06408744e-01, -1.57084398e-01],\n",
       "        [-4.70677870e-01,  1.34572558e+00, -8.54873632e-01]],\n",
       "\n",
       "       [[-5.14801319e-01, -2.31512010e-03,  1.68707287e+00],\n",
       "        [-1.11046788e+00, -8.05496249e-02, -8.05031544e-01],\n",
       "        [ 1.40456872e+00, -9.59183295e-01,  1.30495019e+00],\n",
       "        ...,\n",
       "        [-8.23665463e-01,  9.06408744e-01, -1.57084398e-01],\n",
       "        [-4.70677870e-01,  1.34572558e+00, -8.54873632e-01],\n",
       "        [-3.16245798e-01, -1.39850013e+00, -5.74002212e-02]],\n",
       "\n",
       "       [[-1.11046788e+00, -8.05496249e-02, -8.05031544e-01],\n",
       "        [ 1.40456872e+00, -9.59183295e-01,  1.30495019e+00],\n",
       "        [-1.11046788e+00, -1.68134795e+00,  5.07476778e-01],\n",
       "        ...,\n",
       "        [-4.70677870e-01,  1.34572558e+00, -8.54873632e-01],\n",
       "        [-3.16245798e-01, -1.39850013e+00, -5.74002212e-02],\n",
       "        [ 7.42716982e-01, -1.40451817e+00,  1.10558184e+00]],\n",
       "\n",
       "       ...,\n",
       "\n",
       "       [[-5.15051030e-02, -8.50858596e-01, -4.07861918e-02],\n",
       "        [ 3.08125979e+00, -1.26008524e+00, -5.72435132e-01],\n",
       "        [ 1.09570457e+00, -7.84660169e-01, -1.10408407e+00],\n",
       "        ...,\n",
       "        [-6.03048217e-01,  2.20352317e-01,  4.90862749e-01],\n",
       "        [-1.06634443e+00, -9.05020945e-01,  9.56055572e-01],\n",
       "        [-1.63994927e+00, -3.51361372e-01, -1.02101393e+00]],\n",
       "\n",
       "       [[ 3.08125979e+00, -1.26008524e+00, -5.72435132e-01],\n",
       "        [ 1.09570457e+00, -7.84660169e-01, -1.10408407e+00],\n",
       "        [-1.08840616e+00, -1.04621780e-01,  1.28833616e+00],\n",
       "        ...,\n",
       "        [-1.06634443e+00, -9.05020945e-01,  9.56055572e-01],\n",
       "        [-1.63994927e+00, -3.51361372e-01, -1.02101393e+00],\n",
       "        [-9.11912361e-01,  9.12426783e-01,  2.91494396e-01]],\n",
       "\n",
       "       [[ 1.09570457e+00, -7.84660169e-01, -1.10408407e+00],\n",
       "        [-1.08840616e+00, -1.04621780e-01,  1.28833616e+00],\n",
       "        [-1.57376410e+00,  1.96280161e-01, -5.74002212e-02],\n",
       "        ...,\n",
       "        [-1.63994927e+00, -3.51361372e-01, -1.02101393e+00],\n",
       "        [-9.11912361e-01,  9.12426783e-01,  2.91494396e-01],\n",
       "        [ 5.44161461e-01,  1.71884399e+00, -7.55813303e-03]]])"
      ]
     },
     "execution_count": 36,
     "metadata": {},
     "output_type": "execute_result"
    }
   ],
   "source": [
    "X_test, Y_test = sequences(test_data[['pH','Temp','Current']], test_data[['NG']])\n",
    "X_test"
   ]
  },
  {
   "cell_type": "code",
   "execution_count": 37,
   "id": "2f7dcbab",
   "metadata": {},
   "outputs": [
    {
     "data": {
      "text/plain": [
       "array([[[0],\n",
       "        [0],\n",
       "        [0],\n",
       "        ...,\n",
       "        [0],\n",
       "        [0],\n",
       "        [0]],\n",
       "\n",
       "       [[0],\n",
       "        [0],\n",
       "        [0],\n",
       "        ...,\n",
       "        [0],\n",
       "        [0],\n",
       "        [0]],\n",
       "\n",
       "       [[0],\n",
       "        [0],\n",
       "        [0],\n",
       "        ...,\n",
       "        [0],\n",
       "        [0],\n",
       "        [0]],\n",
       "\n",
       "       ...,\n",
       "\n",
       "       [[0],\n",
       "        [0],\n",
       "        [0],\n",
       "        ...,\n",
       "        [0],\n",
       "        [0],\n",
       "        [0]],\n",
       "\n",
       "       [[0],\n",
       "        [0],\n",
       "        [0],\n",
       "        ...,\n",
       "        [0],\n",
       "        [0],\n",
       "        [0]],\n",
       "\n",
       "       [[0],\n",
       "        [0],\n",
       "        [0],\n",
       "        ...,\n",
       "        [0],\n",
       "        [0],\n",
       "        [0]]], dtype=int64)"
      ]
     },
     "execution_count": 37,
     "metadata": {},
     "output_type": "execute_result"
    }
   ],
   "source": [
    "Y_test"
   ]
  },
  {
   "cell_type": "code",
   "execution_count": 38,
   "id": "5048b0a7",
   "metadata": {},
   "outputs": [],
   "source": [
    "import keras\n",
    "import tensorflow\n",
    "from keras.models import Sequential, Model\n",
    "from keras.layers import Dense\n",
    "from keras.layers import LSTM\n",
    "from keras import backend as K\n",
    "from keras.layers import *\n",
    "from keras.optimizers import Adam"
   ]
  },
  {
   "cell_type": "code",
   "execution_count": 39,
   "id": "4d668cea",
   "metadata": {},
   "outputs": [
    {
     "data": {
      "text/plain": [
       "(41032, 23, 3)"
      ]
     },
     "execution_count": 39,
     "metadata": {},
     "output_type": "execute_result"
    }
   ],
   "source": [
    "X_train.shape"
   ]
  },
  {
   "cell_type": "code",
   "execution_count": 47,
   "id": "afb0df0e",
   "metadata": {},
   "outputs": [
    {
     "name": "stdout",
     "output_type": "stream",
     "text": [
      "Model: \"sequential_2\"\n",
      "_________________________________________________________________\n",
      " Layer (type)                Output Shape              Param #   \n",
      "=================================================================\n",
      " lstm_8 (LSTM)               (None, 23, 128)           67584     \n",
      "                                                                 \n",
      " lstm_9 (LSTM)               (None, 64)                49408     \n",
      "                                                                 \n",
      " repeat_vector_2 (RepeatVec  (None, 23, 64)            0         \n",
      " tor)                                                            \n",
      "                                                                 \n",
      " lstm_10 (LSTM)              (None, 23, 64)            33024     \n",
      "                                                                 \n",
      " lstm_11 (LSTM)              (None, 23, 128)           98816     \n",
      "                                                                 \n",
      " time_distributed_2 (TimeDi  (None, 23, 3)             387       \n",
      " stributed)                                                      \n",
      "                                                                 \n",
      "=================================================================\n",
      "Total params: 249219 (973.51 KB)\n",
      "Trainable params: 249219 (973.51 KB)\n",
      "Non-trainable params: 0 (0.00 Byte)\n",
      "_________________________________________________________________\n"
     ]
    }
   ],
   "source": [
    "timesteps = TIME_STEP\n",
    "features = 3\n",
    "\n",
    "\n",
    "Lstm_AE = Sequential()\n",
    "\n",
    "Lstm_AE.add(LSTM(128,activation='relu', input_shape=(timesteps, features), return_sequences=True))\n",
    "Lstm_AE.add(LSTM(64,activation='relu', return_sequences=False))\n",
    "Lstm_AE.add(RepeatVector(timesteps))\n",
    "\n",
    "Lstm_AE.add(LSTM(64,activation='relu', return_sequences=True))\n",
    "Lstm_AE.add(LSTM(128,activation='relu', return_sequences=True))\n",
    "Lstm_AE.add(TimeDistributed(Dense(features)))\n",
    "\n",
    "Lstm_AE.compile(loss='mse', optimizer=keras.optimizers.Adam(0.01))\n",
    "Lstm_AE.summary()"
   ]
  },
  {
   "cell_type": "code",
   "execution_count": 48,
   "id": "d6e31ba3",
   "metadata": {
    "scrolled": false
   },
   "outputs": [
    {
     "name": "stdout",
     "output_type": "stream",
     "text": [
      "Epoch 1/20\n",
      "1026/1026 [==============================] - 35s 31ms/step - loss: 2596.8464 - val_loss: 0.8993\n",
      "Epoch 2/20\n",
      "1026/1026 [==============================] - 34s 34ms/step - loss: 0.8518 - val_loss: 0.8298\n",
      "Epoch 3/20\n",
      "1026/1026 [==============================] - 40s 39ms/step - loss: 0.8088 - val_loss: 0.8051\n",
      "Epoch 4/20\n",
      "1026/1026 [==============================] - 35s 34ms/step - loss: 0.7912 - val_loss: 0.7937\n",
      "Epoch 5/20\n",
      "1026/1026 [==============================] - 35s 34ms/step - loss: 0.7814 - val_loss: 0.7814\n",
      "Epoch 6/20\n",
      "1026/1026 [==============================] - 34s 33ms/step - loss: 0.7733 - val_loss: 0.7873\n",
      "Epoch 7/20\n",
      "1026/1026 [==============================] - 35s 34ms/step - loss: 0.7703 - val_loss: 0.7845\n",
      "Epoch 8/20\n",
      "1026/1026 [==============================] - 35s 34ms/step - loss: 0.7659 - val_loss: 0.7658\n",
      "Epoch 9/20\n",
      "1026/1026 [==============================] - 34s 33ms/step - loss: 0.7607 - val_loss: 0.7645\n",
      "Epoch 10/20\n",
      "1026/1026 [==============================] - 34s 33ms/step - loss: 0.7568 - val_loss: 0.7603\n",
      "Epoch 11/20\n",
      "1026/1026 [==============================] - 34s 34ms/step - loss: 0.7452 - val_loss: 0.7449\n",
      "Epoch 12/20\n",
      "1026/1026 [==============================] - 35s 34ms/step - loss: 0.7321 - val_loss: 0.7350\n",
      "Epoch 13/20\n",
      "1026/1026 [==============================] - 35s 34ms/step - loss: 0.7199 - val_loss: 0.7292\n",
      "Epoch 14/20\n",
      "1026/1026 [==============================] - 34s 33ms/step - loss: 0.7082 - val_loss: 0.7124\n",
      "Epoch 15/20\n",
      "1026/1026 [==============================] - 35s 34ms/step - loss: 0.6991 - val_loss: 0.7082\n",
      "Epoch 16/20\n",
      "1026/1026 [==============================] - 36s 35ms/step - loss: 0.6936 - val_loss: 0.7079\n",
      "Epoch 17/20\n",
      "1026/1026 [==============================] - 37s 36ms/step - loss: 0.6898 - val_loss: 0.7001\n",
      "Epoch 18/20\n",
      "1026/1026 [==============================] - 36s 35ms/step - loss: 0.6873 - val_loss: 0.6928\n",
      "Epoch 19/20\n",
      "1026/1026 [==============================] - 36s 35ms/step - loss: 0.6840 - val_loss: 0.7043\n",
      "Epoch 20/20\n",
      "1026/1026 [==============================] - 35s 34ms/step - loss: 0.6815 - val_loss: 0.6910\n"
     ]
    }
   ],
   "source": [
    "epochs=20\n",
    "batch=32\n",
    "history = Lstm_AE.fit(X_train, Y_train, epochs=epochs, batch_size=batch, validation_split=0.2)"
   ]
  },
  {
   "cell_type": "code",
   "execution_count": 50,
   "id": "6e317a6d",
   "metadata": {},
   "outputs": [
    {
     "data": {
      "image/png": "[encoded data removed]",
      "text/plain": [
       "<Figure size 640x480 with 1 Axes>"
      ]
     },
     "metadata": {},
     "output_type": "display_data"
    }
   ],
   "source": [
    "plt.plot(history.history['loss'][1:20], 'b--', label='loss')\n",
    "plt.plot(history.history['val_loss'][1:20], 'r--', label='val_loss')\n",
    "plt.xlabel('epoch')\n",
    "plt.legend()\n",
    "plt.show()"
   ]
  },
  {
   "cell_type": "code",
   "execution_count": 51,
   "id": "a3444458",
   "metadata": {},
   "outputs": [
    {
     "name": "stdout",
     "output_type": "stream",
     "text": [
      "261/261 [==============================] - 3s 10ms/step\n"
     ]
    },
    {
     "data": {
      "text/plain": [
       "array([[[ 0.8293052 ,  0.8685563 ,  0.7482165 ],\n",
       "        [-0.32556987,  0.07161424, -0.13488   ],\n",
       "        [-0.40898454, -0.8665035 , -1.0024223 ],\n",
       "        ...,\n",
       "        [-0.10821384,  0.49361122, -0.11179215],\n",
       "        [-0.30038276,  0.4552658 , -0.05592987],\n",
       "        [-0.41780525,  0.29907086, -0.13877398]],\n",
       "\n",
       "       [[ 0.07082567, -0.35219526,  0.600574  ],\n",
       "        [-1.2317868 , -0.56719565, -0.9239049 ],\n",
       "        [-0.6121675 , -0.5691791 ,  1.0160724 ],\n",
       "        ...,\n",
       "        [-0.27419645,  0.08318932, -0.02305952],\n",
       "        [-0.33887258, -0.00548187, -0.09777474],\n",
       "        [-0.3576308 , -0.20120318, -0.13648912]],\n",
       "\n",
       "       [[ 0.6789664 , -0.7112901 ,  0.95723766],\n",
       "        [ 0.19068679, -0.8744539 ,  0.5079626 ],\n",
       "        [-0.5815797 , -1.4274439 ,  0.49558276],\n",
       "        ...,\n",
       "        [-0.3010946 , -0.1767893 ,  0.19190544],\n",
       "        [-0.15671667, -0.40872127,  0.11435422],\n",
       "        [ 0.24676064, -0.7577635 ,  0.07906318]],\n",
       "\n",
       "       ...,\n",
       "\n",
       "       [[ 0.71359456, -1.8346477 ,  0.08868083],\n",
       "        [ 3.3164134 , -1.6458431 , -0.4728245 ],\n",
       "        [ 0.94683194, -1.2170869 , -0.8718995 ],\n",
       "        ...,\n",
       "        [-0.7027699 , -0.06131459,  0.93714994],\n",
       "        [-0.4853847 , -0.18647452,  0.49821636],\n",
       "        [-0.20794684, -0.4705059 ,  0.52094316]],\n",
       "\n",
       "       [[ 2.0791209 , -0.46491697, -0.831651  ],\n",
       "        [ 1.7287701 , -0.963544  , -0.822909  ],\n",
       "        [-0.2900816 , -0.35223264,  0.7185261 ],\n",
       "        ...,\n",
       "        [-0.55232817,  0.06735826,  0.34527558],\n",
       "        [-0.46876615, -0.15579543,  0.3866633 ],\n",
       "        [-0.78132343, -0.44031027,  0.81812984]],\n",
       "\n",
       "       [[ 0.6541501 , -0.03434828, -0.9594506 ],\n",
       "        [-0.5600834 ,  0.21295741,  0.5903113 ],\n",
       "        [-0.3658177 ,  0.0073534 ,  0.04337659],\n",
       "        ...,\n",
       "        [-0.18659437,  0.37320235, -0.09681046],\n",
       "        [-0.1932785 ,  0.3723204 ,  0.06742576],\n",
       "        [-0.28063792,  0.21024986,  0.27235258]]], dtype=float32)"
      ]
     },
     "execution_count": 51,
     "metadata": {},
     "output_type": "execute_result"
    }
   ],
   "source": [
    "prediction = Lstm_AE.predict(X_test)\n",
    "prediction"
   ]
  },
  {
   "cell_type": "code",
   "execution_count": 52,
   "id": "ad710c63",
   "metadata": {},
   "outputs": [],
   "source": [
    "mse=np.mean(np.power(X_test-prediction,2),axis=1)\n",
    "error_df=pd.DataFrame(mse)\n",
    "error_df.columns = ['pH_error', 'Temp_error', 'Current_error']\n",
    "error_df['reconstruction_error'] =  error_df['pH_error'] + error_df['Temp_error'] + error_df['Current_error']"
   ]
  },
  {
   "cell_type": "code",
   "execution_count": 53,
   "id": "20481b51",
   "metadata": {},
   "outputs": [
    {
     "data": {
      "text/html": [
       "<div>\n",
       "<style scoped>\n",
       "    .dataframe tbody tr th:only-of-type {\n",
       "        vertical-align: middle;\n",
       "    }\n",
       "\n",
       "    .dataframe tbody tr th {\n",
       "        vertical-align: top;\n",
       "    }\n",
       "\n",
       "    .dataframe thead th {\n",
       "        text-align: right;\n",
       "    }\n",
       "</style>\n",
       "<table border=\"1\" class=\"dataframe\">\n",
       "  <thead>\n",
       "    <tr style=\"text-align: right;\">\n",
       "      <th></th>\n",
       "      <th>pH_error</th>\n",
       "      <th>Temp_error</th>\n",
       "      <th>Current_error</th>\n",
       "      <th>reconstruction_error</th>\n",
       "      <th>NG</th>\n",
       "    </tr>\n",
       "  </thead>\n",
       "  <tbody>\n",
       "    <tr>\n",
       "      <th>count</th>\n",
       "      <td>8326.000000</td>\n",
       "      <td>8326.000000</td>\n",
       "      <td>8326.000000</td>\n",
       "      <td>8326.000000</td>\n",
       "      <td>8326.000000</td>\n",
       "    </tr>\n",
       "    <tr>\n",
       "      <th>mean</th>\n",
       "      <td>0.676242</td>\n",
       "      <td>0.727740</td>\n",
       "      <td>0.674058</td>\n",
       "      <td>2.078039</td>\n",
       "      <td>0.041436</td>\n",
       "    </tr>\n",
       "    <tr>\n",
       "      <th>std</th>\n",
       "      <td>0.206549</td>\n",
       "      <td>0.202236</td>\n",
       "      <td>0.213274</td>\n",
       "      <td>0.378507</td>\n",
       "      <td>0.199309</td>\n",
       "    </tr>\n",
       "    <tr>\n",
       "      <th>min</th>\n",
       "      <td>0.217529</td>\n",
       "      <td>0.178515</td>\n",
       "      <td>0.204819</td>\n",
       "      <td>0.918454</td>\n",
       "      <td>0.000000</td>\n",
       "    </tr>\n",
       "    <tr>\n",
       "      <th>25%</th>\n",
       "      <td>0.531728</td>\n",
       "      <td>0.587378</td>\n",
       "      <td>0.528774</td>\n",
       "      <td>1.814466</td>\n",
       "      <td>0.000000</td>\n",
       "    </tr>\n",
       "    <tr>\n",
       "      <th>50%</th>\n",
       "      <td>0.648262</td>\n",
       "      <td>0.707171</td>\n",
       "      <td>0.644063</td>\n",
       "      <td>2.033980</td>\n",
       "      <td>0.000000</td>\n",
       "    </tr>\n",
       "    <tr>\n",
       "      <th>75%</th>\n",
       "      <td>0.787553</td>\n",
       "      <td>0.844961</td>\n",
       "      <td>0.773758</td>\n",
       "      <td>2.293640</td>\n",
       "      <td>0.000000</td>\n",
       "    </tr>\n",
       "    <tr>\n",
       "      <th>max</th>\n",
       "      <td>1.883277</td>\n",
       "      <td>1.761082</td>\n",
       "      <td>2.112060</td>\n",
       "      <td>4.091959</td>\n",
       "      <td>1.000000</td>\n",
       "    </tr>\n",
       "  </tbody>\n",
       "</table>\n",
       "</div>"
      ],
      "text/plain": [
       "          pH_error   Temp_error  Current_error  reconstruction_error  \\\n",
       "count  8326.000000  8326.000000    8326.000000           8326.000000   \n",
       "mean      0.676242     0.727740       0.674058              2.078039   \n",
       "std       0.206549     0.202236       0.213274              0.378507   \n",
       "min       0.217529     0.178515       0.204819              0.918454   \n",
       "25%       0.531728     0.587378       0.528774              1.814466   \n",
       "50%       0.648262     0.707171       0.644063              2.033980   \n",
       "75%       0.787553     0.844961       0.773758              2.293640   \n",
       "max       1.883277     1.761082       2.112060              4.091959   \n",
       "\n",
       "                NG  \n",
       "count  8326.000000  \n",
       "mean      0.041436  \n",
       "std       0.199309  \n",
       "min       0.000000  \n",
       "25%       0.000000  \n",
       "50%       0.000000  \n",
       "75%       0.000000  \n",
       "max       1.000000  "
      ]
     },
     "execution_count": 53,
     "metadata": {},
     "output_type": "execute_result"
    }
   ],
   "source": [
    "error_df['NG'] = Y_test[:,0]\n",
    "error_df.describe()"
   ]
  },
  {
   "cell_type": "code",
   "execution_count": 54,
   "id": "46baf877",
   "metadata": {},
   "outputs": [
    {
     "data": {
      "text/plain": [
       "2.7548381508173665"
      ]
     },
     "execution_count": 54,
     "metadata": {},
     "output_type": "execute_result"
    }
   ],
   "source": [
    "thr = np.percentile(error_df['reconstruction_error'],95)\n",
    "thr"
   ]
  },
  {
   "cell_type": "code",
   "execution_count": 55,
   "id": "97f338fc",
   "metadata": {},
   "outputs": [
    {
     "name": "stdout",
     "output_type": "stream",
     "text": [
      "7909\n"
     ]
    },
    {
     "data": {
      "image/png": "[encoded data removed]",
      "text/plain": [
       "<Figure size 640x480 with 1 Axes>"
      ]
     },
     "metadata": {},
     "output_type": "display_data"
    }
   ],
   "source": [
    "fig=plt.figure()\n",
    "ax=fig.add_subplot(111)\n",
    "error_df_0=error_df[error_df['reconstruction_error']<thr]\n",
    "print(len(error_df_0))\n",
    "_=ax.hist(error_df_0.reconstruction_error.values,bins=10)"
   ]
  },
  {
   "cell_type": "code",
   "execution_count": 56,
   "id": "ccc0ad44",
   "metadata": {},
   "outputs": [
    {
     "name": "stdout",
     "output_type": "stream",
     "text": [
      "417\n"
     ]
    },
    {
     "data": {
      "image/png": "[encoded data removed]",
      "text/plain": [
       "<Figure size 640x480 with 1 Axes>"
      ]
     },
     "metadata": {},
     "output_type": "display_data"
    }
   ],
   "source": [
    "fig=plt.figure()\n",
    "ax=fig.add_subplot(111)\n",
    "error_df_1=error_df[error_df['reconstruction_error']>thr]\n",
    "print(len(error_df_1))\n",
    "_=ax.hist(error_df_1.reconstruction_error.values,bins=10)"
   ]
  },
  {
   "cell_type": "code",
   "execution_count": 57,
   "id": "55e653d8",
   "metadata": {},
   "outputs": [
    {
     "data": {
      "image/png": "[encoded data removed]",
      "text/plain": [
       "<Figure size 700x700 with 2 Axes>"
      ]
     },
     "metadata": {},
     "output_type": "display_data"
    }
   ],
   "source": [
    "Y_predict=[1 if e>thr else 0 for e in error_df['reconstruction_error'].values]\n",
    "conf_matrix=confusion_matrix(error_df['NG'],Y_predict)\n",
    "plt.figure(figsize=(7,7))\n",
    "sns.heatmap(conf_matrix, annot=True, fmt='d')\n",
    "plt.title('Confusion Matrix')\n",
    "plt.xlabel('Prediction'); plt.ylabel('True')\n",
    "plt.show()"
   ]
  },
  {
   "cell_type": "code",
   "execution_count": 58,
   "id": "cba9e25d",
   "metadata": {},
   "outputs": [
    {
     "data": {
      "text/plain": [
       "(0.9570229294574615,\n",
       " 0.9657352383360728,\n",
       " 0.9262551044919529,\n",
       " 0.9613593455003147)"
      ]
     },
     "execution_count": 58,
     "metadata": {},
     "output_type": "execute_result"
    }
   ],
   "source": [
    "TP = conf_matrix[0][0]\n",
    "FN = conf_matrix[0][1]\n",
    "FP = conf_matrix[1][0]\n",
    "TN = conf_matrix[1][1]\n",
    "\n",
    "Recall=TP/(TP+FN)\n",
    "Precision = TP/(TP+FP)\n",
    "Accuracy=(TP+TN)/(TP+FP+FN+TN)\n",
    "F1_Score=2*(Recall*Precision)/(Recall+Precision)\n",
    "Recall, Precision, Accuracy, F1_Score"
   ]
  },
  {
   "cell_type": "code",
   "execution_count": 59,
   "id": "c65db537",
   "metadata": {},
   "outputs": [
    {
     "data": {
      "image/png": "[encoded data removed]",
      "text/plain": [
       "<Figure size 700x700 with 2 Axes>"
      ]
     },
     "metadata": {},
     "output_type": "display_data"
    }
   ],
   "source": [
    "Y_predict2=[0 if e>thr else 1 for e in error_df['reconstruction_error'].values]\n",
    "error_df['NG2'] = [1 if e==0 else 0 for e in error_df['NG'].values]\n",
    "conf_matrix=confusion_matrix(error_df['NG2'],Y_predict2)\n",
    "plt.figure(figsize=(7,7))\n",
    "sns.heatmap(conf_matrix, annot=True, fmt='d')\n",
    "plt.title('Confusion Matrix')\n",
    "plt.xlabel('Prediction'); plt.ylabel('True')\n",
    "plt.show()"
   ]
  },
  {
   "cell_type": "code",
   "execution_count": 60,
   "id": "f75ee676",
   "metadata": {},
   "outputs": [
    {
     "data": {
      "text/plain": [
       "(0.9262551044919529,\n",
       " 0.9657352383360728,\n",
       " 0.9570229294574615,\n",
       " 0.9613593455003147,\n",
       " 0.585757841540325)"
      ]
     },
     "execution_count": 60,
     "metadata": {},
     "output_type": "execute_result"
    }
   ],
   "source": [
    "accuracy = accuracy_score(error_df['NG2'], Y_predict2)\n",
    "precisioin = precision_score(error_df['NG2'], Y_predict2)\n",
    "recall = recall_score(error_df['NG2'], Y_predict2)\n",
    "f1 = f1_score(error_df['NG2'], Y_predict2)\n",
    "roc_auc = roc_auc_score(error_df['NG2'], Y_predict2)\n",
    "accuracy, precisioin, recall, f1, roc_auc "
   ]
  },
  {
   "cell_type": "code",
   "execution_count": 61,
   "id": "6fa22b6c",
   "metadata": {},
   "outputs": [
    {
     "data": {
      "image/png": "[encoded data removed]",
      "text/plain": [
       "<Figure size 640x480 with 1 Axes>"
      ]
     },
     "metadata": {},
     "output_type": "display_data"
    },
    {
     "data": {
      "text/plain": [
       "0.585757841540325"
      ]
     },
     "execution_count": 61,
     "metadata": {},
     "output_type": "execute_result"
    }
   ],
   "source": [
    "fpr, tpr, thresholds = roc_curve(error_df['NG2'], Y_predict2)\n",
    "plt.plot([0,1], [0,1], \"b--\", \"r+\")\n",
    "plt.plot(fpr, tpr, label='RandomForest')\n",
    "plt.xlabel('False Positive Rate')\n",
    "plt.ylabel('True Positive Rate')\n",
    "plt.title('Receiver operating characteristic curve(ROC)')\n",
    "plt.show()\n",
    "roc_auc"
   ]
  },
  {
   "cell_type": "code",
   "execution_count": null,
   "id": "b53885e1",
   "metadata": {},
   "outputs": [],
   "source": []
  },
  {
   "cell_type": "code",
   "execution_count": null,
   "id": "5835d406",
   "metadata": {},
   "outputs": [],
   "source": []
  },
  {
   "cell_type": "code",
   "execution_count": null,
   "id": "7c822fe2",
   "metadata": {},
   "outputs": [],
   "source": []
  },
  {
   "cell_type": "code",
   "execution_count": null,
   "id": "e3314d57",
   "metadata": {},
   "outputs": [],
   "source": []
  }
 ],
 "metadata": {
  "kernelspec": {
   "display_name": "Python 3 (ipykernel)",
   "language": "python",
   "name": "python3"
  },
  "language_info": {
   "codemirror_mode": {
    "name": "ipython",
    "version": 3
   },
   "file_extension": ".py",
   "mimetype": "text/x-python",
   "name": "python",
   "nbconvert_exporter": "python",
   "pygments_lexer": "ipython3",
   "version": "3.11.4"
  }
 },
 "nbformat": 4,
 "nbformat_minor": 5
}
